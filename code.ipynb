{
  "nbformat": 4,
  "nbformat_minor": 0,
  "metadata": {
    "colab": {
      "provenance": [],
      "include_colab_link": true
    },
    "kernelspec": {
      "name": "python3",
      "display_name": "Python 3"
    },
    "language_info": {
      "name": "python"
    }
  },
  "cells": [
    {
      "cell_type": "markdown",
      "metadata": {
        "id": "view-in-github",
        "colab_type": "text"
      },
      "source": [
        "<a href=\"https://colab.research.google.com/github/IlyaNechaev27/DS_project/blob/main/code.ipynb\" target=\"_parent\"><img src=\"https://colab.research.google.com/assets/colab-badge.svg\" alt=\"Open In Colab\"/></a>"
      ]
    },
    {
      "cell_type": "code",
      "execution_count": 1,
      "metadata": {
        "id": "O79m1LDfT981"
      },
      "outputs": [],
      "source": [
        "# отключим всякие предупреждения Anaconda\n",
        "import warnings\n",
        "\n",
        "warnings.filterwarnings(\"ignore\")\n",
        "import numpy as np\n",
        "import pandas as pd\n",
        "\n",
        "pd.set_option(\"display.max.columns\", 100)\n",
        "import pylab as plt\n",
        "\n",
        "%matplotlib inline\n",
        "import seaborn as sns\n",
        "from matplotlib import pyplot as plt\n",
        "\n",
        "plt.rcParams[\"figure.figsize\"] = (10, 8)"
      ]
    },
    {
      "cell_type": "code",
      "source": [
        "!git clone https://github.com/IlyaNechaev27/DS_project.git"
      ],
      "metadata": {
        "colab": {
          "base_uri": "https://localhost:8080/"
        },
        "id": "-wYWzBTZejQY",
        "outputId": "998ff02f-13a1-4230-bb37-25fab7ddbffa"
      },
      "execution_count": 19,
      "outputs": [
        {
          "output_type": "stream",
          "name": "stdout",
          "text": [
            "fatal: destination path 'DS_project' already exists and is not an empty directory.\n"
          ]
        }
      ]
    },
    {
      "cell_type": "code",
      "source": [
        "df = pd.read_csv(\"DS_project/data/shootings.csv\")\n"
      ],
      "metadata": {
        "id": "AylclCNLezdg"
      },
      "execution_count": 26,
      "outputs": []
    },
    {
      "cell_type": "markdown",
      "source": [
        "Проверим, все ли нормально считалось – посмотрим на первые 5 строк"
      ],
      "metadata": {
        "id": "BCsarugufKFZ"
      }
    },
    {
      "cell_type": "code",
      "source": [
        "df.head()"
      ],
      "metadata": {
        "colab": {
          "base_uri": "https://localhost:8080/",
          "height": 333
        },
        "id": "huLsKOddfCbX",
        "outputId": "c35cb4c8-102e-42c3-a662-428c90316908"
      },
      "execution_count": 27,
      "outputs": [
        {
          "output_type": "execute_result",
          "data": {
            "text/plain": [
              "   id                name        date   manner_of_death       armed   age  \\\n",
              "0   3          Tim Elliot  2015-01-02              shot         gun  53.0   \n",
              "1   4    Lewis Lee Lembke  2015-01-02              shot         gun  47.0   \n",
              "2   5  John Paul Quintero  2015-01-03  shot and Tasered     unarmed  23.0   \n",
              "3   8     Matthew Hoffman  2015-01-04              shot  toy weapon  32.0   \n",
              "4   9   Michael Rodriguez  2015-01-04              shot    nail gun  39.0   \n",
              "\n",
              "  gender      race           city state  signs_of_mental_illness threat_level  \\\n",
              "0      M     Asian        Shelton    WA                     True       attack   \n",
              "1      M     White          Aloha    OR                    False       attack   \n",
              "2      M  Hispanic        Wichita    KS                    False        other   \n",
              "3      M     White  San Francisco    CA                     True       attack   \n",
              "4      M  Hispanic          Evans    CO                    False       attack   \n",
              "\n",
              "          flee  body_camera          arms_category  \n",
              "0  Not fleeing        False                   Guns  \n",
              "1  Not fleeing        False                   Guns  \n",
              "2  Not fleeing        False                Unarmed  \n",
              "3  Not fleeing        False  Other unusual objects  \n",
              "4  Not fleeing        False       Piercing objects  "
            ],
            "text/html": [
              "\n",
              "  <div id=\"df-db5055ee-f1dd-4d02-90fc-efd4725978b6\">\n",
              "    <div class=\"colab-df-container\">\n",
              "      <div>\n",
              "<style scoped>\n",
              "    .dataframe tbody tr th:only-of-type {\n",
              "        vertical-align: middle;\n",
              "    }\n",
              "\n",
              "    .dataframe tbody tr th {\n",
              "        vertical-align: top;\n",
              "    }\n",
              "\n",
              "    .dataframe thead th {\n",
              "        text-align: right;\n",
              "    }\n",
              "</style>\n",
              "<table border=\"1\" class=\"dataframe\">\n",
              "  <thead>\n",
              "    <tr style=\"text-align: right;\">\n",
              "      <th></th>\n",
              "      <th>id</th>\n",
              "      <th>name</th>\n",
              "      <th>date</th>\n",
              "      <th>manner_of_death</th>\n",
              "      <th>armed</th>\n",
              "      <th>age</th>\n",
              "      <th>gender</th>\n",
              "      <th>race</th>\n",
              "      <th>city</th>\n",
              "      <th>state</th>\n",
              "      <th>signs_of_mental_illness</th>\n",
              "      <th>threat_level</th>\n",
              "      <th>flee</th>\n",
              "      <th>body_camera</th>\n",
              "      <th>arms_category</th>\n",
              "    </tr>\n",
              "  </thead>\n",
              "  <tbody>\n",
              "    <tr>\n",
              "      <th>0</th>\n",
              "      <td>3</td>\n",
              "      <td>Tim Elliot</td>\n",
              "      <td>2015-01-02</td>\n",
              "      <td>shot</td>\n",
              "      <td>gun</td>\n",
              "      <td>53.0</td>\n",
              "      <td>M</td>\n",
              "      <td>Asian</td>\n",
              "      <td>Shelton</td>\n",
              "      <td>WA</td>\n",
              "      <td>True</td>\n",
              "      <td>attack</td>\n",
              "      <td>Not fleeing</td>\n",
              "      <td>False</td>\n",
              "      <td>Guns</td>\n",
              "    </tr>\n",
              "    <tr>\n",
              "      <th>1</th>\n",
              "      <td>4</td>\n",
              "      <td>Lewis Lee Lembke</td>\n",
              "      <td>2015-01-02</td>\n",
              "      <td>shot</td>\n",
              "      <td>gun</td>\n",
              "      <td>47.0</td>\n",
              "      <td>M</td>\n",
              "      <td>White</td>\n",
              "      <td>Aloha</td>\n",
              "      <td>OR</td>\n",
              "      <td>False</td>\n",
              "      <td>attack</td>\n",
              "      <td>Not fleeing</td>\n",
              "      <td>False</td>\n",
              "      <td>Guns</td>\n",
              "    </tr>\n",
              "    <tr>\n",
              "      <th>2</th>\n",
              "      <td>5</td>\n",
              "      <td>John Paul Quintero</td>\n",
              "      <td>2015-01-03</td>\n",
              "      <td>shot and Tasered</td>\n",
              "      <td>unarmed</td>\n",
              "      <td>23.0</td>\n",
              "      <td>M</td>\n",
              "      <td>Hispanic</td>\n",
              "      <td>Wichita</td>\n",
              "      <td>KS</td>\n",
              "      <td>False</td>\n",
              "      <td>other</td>\n",
              "      <td>Not fleeing</td>\n",
              "      <td>False</td>\n",
              "      <td>Unarmed</td>\n",
              "    </tr>\n",
              "    <tr>\n",
              "      <th>3</th>\n",
              "      <td>8</td>\n",
              "      <td>Matthew Hoffman</td>\n",
              "      <td>2015-01-04</td>\n",
              "      <td>shot</td>\n",
              "      <td>toy weapon</td>\n",
              "      <td>32.0</td>\n",
              "      <td>M</td>\n",
              "      <td>White</td>\n",
              "      <td>San Francisco</td>\n",
              "      <td>CA</td>\n",
              "      <td>True</td>\n",
              "      <td>attack</td>\n",
              "      <td>Not fleeing</td>\n",
              "      <td>False</td>\n",
              "      <td>Other unusual objects</td>\n",
              "    </tr>\n",
              "    <tr>\n",
              "      <th>4</th>\n",
              "      <td>9</td>\n",
              "      <td>Michael Rodriguez</td>\n",
              "      <td>2015-01-04</td>\n",
              "      <td>shot</td>\n",
              "      <td>nail gun</td>\n",
              "      <td>39.0</td>\n",
              "      <td>M</td>\n",
              "      <td>Hispanic</td>\n",
              "      <td>Evans</td>\n",
              "      <td>CO</td>\n",
              "      <td>False</td>\n",
              "      <td>attack</td>\n",
              "      <td>Not fleeing</td>\n",
              "      <td>False</td>\n",
              "      <td>Piercing objects</td>\n",
              "    </tr>\n",
              "  </tbody>\n",
              "</table>\n",
              "</div>\n",
              "      <button class=\"colab-df-convert\" onclick=\"convertToInteractive('df-db5055ee-f1dd-4d02-90fc-efd4725978b6')\"\n",
              "              title=\"Convert this dataframe to an interactive table.\"\n",
              "              style=\"display:none;\">\n",
              "        \n",
              "  <svg xmlns=\"http://www.w3.org/2000/svg\" height=\"24px\"viewBox=\"0 0 24 24\"\n",
              "       width=\"24px\">\n",
              "    <path d=\"M0 0h24v24H0V0z\" fill=\"none\"/>\n",
              "    <path d=\"M18.56 5.44l.94 2.06.94-2.06 2.06-.94-2.06-.94-.94-2.06-.94 2.06-2.06.94zm-11 1L8.5 8.5l.94-2.06 2.06-.94-2.06-.94L8.5 2.5l-.94 2.06-2.06.94zm10 10l.94 2.06.94-2.06 2.06-.94-2.06-.94-.94-2.06-.94 2.06-2.06.94z\"/><path d=\"M17.41 7.96l-1.37-1.37c-.4-.4-.92-.59-1.43-.59-.52 0-1.04.2-1.43.59L10.3 9.45l-7.72 7.72c-.78.78-.78 2.05 0 2.83L4 21.41c.39.39.9.59 1.41.59.51 0 1.02-.2 1.41-.59l7.78-7.78 2.81-2.81c.8-.78.8-2.07 0-2.86zM5.41 20L4 18.59l7.72-7.72 1.47 1.35L5.41 20z\"/>\n",
              "  </svg>\n",
              "      </button>\n",
              "      \n",
              "  <style>\n",
              "    .colab-df-container {\n",
              "      display:flex;\n",
              "      flex-wrap:wrap;\n",
              "      gap: 12px;\n",
              "    }\n",
              "\n",
              "    .colab-df-convert {\n",
              "      background-color: #E8F0FE;\n",
              "      border: none;\n",
              "      border-radius: 50%;\n",
              "      cursor: pointer;\n",
              "      display: none;\n",
              "      fill: #1967D2;\n",
              "      height: 32px;\n",
              "      padding: 0 0 0 0;\n",
              "      width: 32px;\n",
              "    }\n",
              "\n",
              "    .colab-df-convert:hover {\n",
              "      background-color: #E2EBFA;\n",
              "      box-shadow: 0px 1px 2px rgba(60, 64, 67, 0.3), 0px 1px 3px 1px rgba(60, 64, 67, 0.15);\n",
              "      fill: #174EA6;\n",
              "    }\n",
              "\n",
              "    [theme=dark] .colab-df-convert {\n",
              "      background-color: #3B4455;\n",
              "      fill: #D2E3FC;\n",
              "    }\n",
              "\n",
              "    [theme=dark] .colab-df-convert:hover {\n",
              "      background-color: #434B5C;\n",
              "      box-shadow: 0px 1px 3px 1px rgba(0, 0, 0, 0.15);\n",
              "      filter: drop-shadow(0px 1px 2px rgba(0, 0, 0, 0.3));\n",
              "      fill: #FFFFFF;\n",
              "    }\n",
              "  </style>\n",
              "\n",
              "      <script>\n",
              "        const buttonEl =\n",
              "          document.querySelector('#df-db5055ee-f1dd-4d02-90fc-efd4725978b6 button.colab-df-convert');\n",
              "        buttonEl.style.display =\n",
              "          google.colab.kernel.accessAllowed ? 'block' : 'none';\n",
              "\n",
              "        async function convertToInteractive(key) {\n",
              "          const element = document.querySelector('#df-db5055ee-f1dd-4d02-90fc-efd4725978b6');\n",
              "          const dataTable =\n",
              "            await google.colab.kernel.invokeFunction('convertToInteractive',\n",
              "                                                     [key], {});\n",
              "          if (!dataTable) return;\n",
              "\n",
              "          const docLinkHtml = 'Like what you see? Visit the ' +\n",
              "            '<a target=\"_blank\" href=https://colab.research.google.com/notebooks/data_table.ipynb>data table notebook</a>'\n",
              "            + ' to learn more about interactive tables.';\n",
              "          element.innerHTML = '';\n",
              "          dataTable['output_type'] = 'display_data';\n",
              "          await google.colab.output.renderOutput(dataTable, element);\n",
              "          const docLink = document.createElement('div');\n",
              "          docLink.innerHTML = docLinkHtml;\n",
              "          element.appendChild(docLink);\n",
              "        }\n",
              "      </script>\n",
              "    </div>\n",
              "  </div>\n",
              "  "
            ]
          },
          "metadata": {},
          "execution_count": 27
        }
      ]
    },
    {
      "cell_type": "markdown",
      "source": [
        "*Размер данных*"
      ],
      "metadata": {
        "id": "Peevv37Sfv9m"
      }
    },
    {
      "cell_type": "code",
      "source": [
        "print(df.shape)"
      ],
      "metadata": {
        "colab": {
          "base_uri": "https://localhost:8080/"
        },
        "id": "zr9kRGk8fFAV",
        "outputId": "69798718-dfae-481a-8279-3cb14fea1e02"
      },
      "execution_count": 28,
      "outputs": [
        {
          "output_type": "stream",
          "name": "stdout",
          "text": [
            "(4895, 15)\n"
          ]
        }
      ]
    },
    {
      "cell_type": "markdown",
      "source": [
        "*Название признаков*"
      ],
      "metadata": {
        "id": "lD53i-nxfozf"
      }
    },
    {
      "cell_type": "code",
      "source": [
        "print(df.columns.values)"
      ],
      "metadata": {
        "colab": {
          "base_uri": "https://localhost:8080/"
        },
        "id": "V0OTLHe2fgCO",
        "outputId": "469bd051-2ae6-4b6b-fd2b-ba6f16a759f3"
      },
      "execution_count": 29,
      "outputs": [
        {
          "output_type": "stream",
          "name": "stdout",
          "text": [
            "['id' 'name' 'date' 'manner_of_death' 'armed' 'age' 'gender' 'race' 'city'\n",
            " 'state' 'signs_of_mental_illness' 'threat_level' 'flee' 'body_camera'\n",
            " 'arms_category']\n"
          ]
        }
      ]
    },
    {
      "cell_type": "code",
      "source": [
        "df.head(10)"
      ],
      "metadata": {
        "colab": {
          "base_uri": "https://localhost:8080/",
          "height": 590
        },
        "id": "zz2ofmrYfm43",
        "outputId": "b3610e8d-f944-4323-bb67-5a5c7302d70d"
      },
      "execution_count": 30,
      "outputs": [
        {
          "output_type": "execute_result",
          "data": {
            "text/plain": [
              "   id                 name        date   manner_of_death       armed   age  \\\n",
              "0   3           Tim Elliot  2015-01-02              shot         gun  53.0   \n",
              "1   4     Lewis Lee Lembke  2015-01-02              shot         gun  47.0   \n",
              "2   5   John Paul Quintero  2015-01-03  shot and Tasered     unarmed  23.0   \n",
              "3   8      Matthew Hoffman  2015-01-04              shot  toy weapon  32.0   \n",
              "4   9    Michael Rodriguez  2015-01-04              shot    nail gun  39.0   \n",
              "5  11    Kenneth Joe Brown  2015-01-04              shot         gun  18.0   \n",
              "6  13  Kenneth Arnold Buck  2015-01-05              shot         gun  22.0   \n",
              "7  15        Brock Nichols  2015-01-06              shot         gun  35.0   \n",
              "8  16        Autumn Steele  2015-01-06              shot     unarmed  34.0   \n",
              "9  17      Leslie Sapp III  2015-01-06              shot  toy weapon  47.0   \n",
              "\n",
              "  gender      race           city state  signs_of_mental_illness threat_level  \\\n",
              "0      M     Asian        Shelton    WA                     True       attack   \n",
              "1      M     White          Aloha    OR                    False       attack   \n",
              "2      M  Hispanic        Wichita    KS                    False        other   \n",
              "3      M     White  San Francisco    CA                     True       attack   \n",
              "4      M  Hispanic          Evans    CO                    False       attack   \n",
              "5      M     White        Guthrie    OK                    False       attack   \n",
              "6      M  Hispanic       Chandler    AZ                    False       attack   \n",
              "7      M     White        Assaria    KS                    False       attack   \n",
              "8      F     White     Burlington    IA                    False        other   \n",
              "9      M     Black      Knoxville    PA                    False       attack   \n",
              "\n",
              "          flee  body_camera          arms_category  \n",
              "0  Not fleeing        False                   Guns  \n",
              "1  Not fleeing        False                   Guns  \n",
              "2  Not fleeing        False                Unarmed  \n",
              "3  Not fleeing        False  Other unusual objects  \n",
              "4  Not fleeing        False       Piercing objects  \n",
              "5  Not fleeing        False                   Guns  \n",
              "6          Car        False                   Guns  \n",
              "7  Not fleeing        False                   Guns  \n",
              "8  Not fleeing         True                Unarmed  \n",
              "9  Not fleeing        False  Other unusual objects  "
            ],
            "text/html": [
              "\n",
              "  <div id=\"df-09e4c8d6-a688-4618-ac9a-337d1412bdd9\">\n",
              "    <div class=\"colab-df-container\">\n",
              "      <div>\n",
              "<style scoped>\n",
              "    .dataframe tbody tr th:only-of-type {\n",
              "        vertical-align: middle;\n",
              "    }\n",
              "\n",
              "    .dataframe tbody tr th {\n",
              "        vertical-align: top;\n",
              "    }\n",
              "\n",
              "    .dataframe thead th {\n",
              "        text-align: right;\n",
              "    }\n",
              "</style>\n",
              "<table border=\"1\" class=\"dataframe\">\n",
              "  <thead>\n",
              "    <tr style=\"text-align: right;\">\n",
              "      <th></th>\n",
              "      <th>id</th>\n",
              "      <th>name</th>\n",
              "      <th>date</th>\n",
              "      <th>manner_of_death</th>\n",
              "      <th>armed</th>\n",
              "      <th>age</th>\n",
              "      <th>gender</th>\n",
              "      <th>race</th>\n",
              "      <th>city</th>\n",
              "      <th>state</th>\n",
              "      <th>signs_of_mental_illness</th>\n",
              "      <th>threat_level</th>\n",
              "      <th>flee</th>\n",
              "      <th>body_camera</th>\n",
              "      <th>arms_category</th>\n",
              "    </tr>\n",
              "  </thead>\n",
              "  <tbody>\n",
              "    <tr>\n",
              "      <th>0</th>\n",
              "      <td>3</td>\n",
              "      <td>Tim Elliot</td>\n",
              "      <td>2015-01-02</td>\n",
              "      <td>shot</td>\n",
              "      <td>gun</td>\n",
              "      <td>53.0</td>\n",
              "      <td>M</td>\n",
              "      <td>Asian</td>\n",
              "      <td>Shelton</td>\n",
              "      <td>WA</td>\n",
              "      <td>True</td>\n",
              "      <td>attack</td>\n",
              "      <td>Not fleeing</td>\n",
              "      <td>False</td>\n",
              "      <td>Guns</td>\n",
              "    </tr>\n",
              "    <tr>\n",
              "      <th>1</th>\n",
              "      <td>4</td>\n",
              "      <td>Lewis Lee Lembke</td>\n",
              "      <td>2015-01-02</td>\n",
              "      <td>shot</td>\n",
              "      <td>gun</td>\n",
              "      <td>47.0</td>\n",
              "      <td>M</td>\n",
              "      <td>White</td>\n",
              "      <td>Aloha</td>\n",
              "      <td>OR</td>\n",
              "      <td>False</td>\n",
              "      <td>attack</td>\n",
              "      <td>Not fleeing</td>\n",
              "      <td>False</td>\n",
              "      <td>Guns</td>\n",
              "    </tr>\n",
              "    <tr>\n",
              "      <th>2</th>\n",
              "      <td>5</td>\n",
              "      <td>John Paul Quintero</td>\n",
              "      <td>2015-01-03</td>\n",
              "      <td>shot and Tasered</td>\n",
              "      <td>unarmed</td>\n",
              "      <td>23.0</td>\n",
              "      <td>M</td>\n",
              "      <td>Hispanic</td>\n",
              "      <td>Wichita</td>\n",
              "      <td>KS</td>\n",
              "      <td>False</td>\n",
              "      <td>other</td>\n",
              "      <td>Not fleeing</td>\n",
              "      <td>False</td>\n",
              "      <td>Unarmed</td>\n",
              "    </tr>\n",
              "    <tr>\n",
              "      <th>3</th>\n",
              "      <td>8</td>\n",
              "      <td>Matthew Hoffman</td>\n",
              "      <td>2015-01-04</td>\n",
              "      <td>shot</td>\n",
              "      <td>toy weapon</td>\n",
              "      <td>32.0</td>\n",
              "      <td>M</td>\n",
              "      <td>White</td>\n",
              "      <td>San Francisco</td>\n",
              "      <td>CA</td>\n",
              "      <td>True</td>\n",
              "      <td>attack</td>\n",
              "      <td>Not fleeing</td>\n",
              "      <td>False</td>\n",
              "      <td>Other unusual objects</td>\n",
              "    </tr>\n",
              "    <tr>\n",
              "      <th>4</th>\n",
              "      <td>9</td>\n",
              "      <td>Michael Rodriguez</td>\n",
              "      <td>2015-01-04</td>\n",
              "      <td>shot</td>\n",
              "      <td>nail gun</td>\n",
              "      <td>39.0</td>\n",
              "      <td>M</td>\n",
              "      <td>Hispanic</td>\n",
              "      <td>Evans</td>\n",
              "      <td>CO</td>\n",
              "      <td>False</td>\n",
              "      <td>attack</td>\n",
              "      <td>Not fleeing</td>\n",
              "      <td>False</td>\n",
              "      <td>Piercing objects</td>\n",
              "    </tr>\n",
              "    <tr>\n",
              "      <th>5</th>\n",
              "      <td>11</td>\n",
              "      <td>Kenneth Joe Brown</td>\n",
              "      <td>2015-01-04</td>\n",
              "      <td>shot</td>\n",
              "      <td>gun</td>\n",
              "      <td>18.0</td>\n",
              "      <td>M</td>\n",
              "      <td>White</td>\n",
              "      <td>Guthrie</td>\n",
              "      <td>OK</td>\n",
              "      <td>False</td>\n",
              "      <td>attack</td>\n",
              "      <td>Not fleeing</td>\n",
              "      <td>False</td>\n",
              "      <td>Guns</td>\n",
              "    </tr>\n",
              "    <tr>\n",
              "      <th>6</th>\n",
              "      <td>13</td>\n",
              "      <td>Kenneth Arnold Buck</td>\n",
              "      <td>2015-01-05</td>\n",
              "      <td>shot</td>\n",
              "      <td>gun</td>\n",
              "      <td>22.0</td>\n",
              "      <td>M</td>\n",
              "      <td>Hispanic</td>\n",
              "      <td>Chandler</td>\n",
              "      <td>AZ</td>\n",
              "      <td>False</td>\n",
              "      <td>attack</td>\n",
              "      <td>Car</td>\n",
              "      <td>False</td>\n",
              "      <td>Guns</td>\n",
              "    </tr>\n",
              "    <tr>\n",
              "      <th>7</th>\n",
              "      <td>15</td>\n",
              "      <td>Brock Nichols</td>\n",
              "      <td>2015-01-06</td>\n",
              "      <td>shot</td>\n",
              "      <td>gun</td>\n",
              "      <td>35.0</td>\n",
              "      <td>M</td>\n",
              "      <td>White</td>\n",
              "      <td>Assaria</td>\n",
              "      <td>KS</td>\n",
              "      <td>False</td>\n",
              "      <td>attack</td>\n",
              "      <td>Not fleeing</td>\n",
              "      <td>False</td>\n",
              "      <td>Guns</td>\n",
              "    </tr>\n",
              "    <tr>\n",
              "      <th>8</th>\n",
              "      <td>16</td>\n",
              "      <td>Autumn Steele</td>\n",
              "      <td>2015-01-06</td>\n",
              "      <td>shot</td>\n",
              "      <td>unarmed</td>\n",
              "      <td>34.0</td>\n",
              "      <td>F</td>\n",
              "      <td>White</td>\n",
              "      <td>Burlington</td>\n",
              "      <td>IA</td>\n",
              "      <td>False</td>\n",
              "      <td>other</td>\n",
              "      <td>Not fleeing</td>\n",
              "      <td>True</td>\n",
              "      <td>Unarmed</td>\n",
              "    </tr>\n",
              "    <tr>\n",
              "      <th>9</th>\n",
              "      <td>17</td>\n",
              "      <td>Leslie Sapp III</td>\n",
              "      <td>2015-01-06</td>\n",
              "      <td>shot</td>\n",
              "      <td>toy weapon</td>\n",
              "      <td>47.0</td>\n",
              "      <td>M</td>\n",
              "      <td>Black</td>\n",
              "      <td>Knoxville</td>\n",
              "      <td>PA</td>\n",
              "      <td>False</td>\n",
              "      <td>attack</td>\n",
              "      <td>Not fleeing</td>\n",
              "      <td>False</td>\n",
              "      <td>Other unusual objects</td>\n",
              "    </tr>\n",
              "  </tbody>\n",
              "</table>\n",
              "</div>\n",
              "      <button class=\"colab-df-convert\" onclick=\"convertToInteractive('df-09e4c8d6-a688-4618-ac9a-337d1412bdd9')\"\n",
              "              title=\"Convert this dataframe to an interactive table.\"\n",
              "              style=\"display:none;\">\n",
              "        \n",
              "  <svg xmlns=\"http://www.w3.org/2000/svg\" height=\"24px\"viewBox=\"0 0 24 24\"\n",
              "       width=\"24px\">\n",
              "    <path d=\"M0 0h24v24H0V0z\" fill=\"none\"/>\n",
              "    <path d=\"M18.56 5.44l.94 2.06.94-2.06 2.06-.94-2.06-.94-.94-2.06-.94 2.06-2.06.94zm-11 1L8.5 8.5l.94-2.06 2.06-.94-2.06-.94L8.5 2.5l-.94 2.06-2.06.94zm10 10l.94 2.06.94-2.06 2.06-.94-2.06-.94-.94-2.06-.94 2.06-2.06.94z\"/><path d=\"M17.41 7.96l-1.37-1.37c-.4-.4-.92-.59-1.43-.59-.52 0-1.04.2-1.43.59L10.3 9.45l-7.72 7.72c-.78.78-.78 2.05 0 2.83L4 21.41c.39.39.9.59 1.41.59.51 0 1.02-.2 1.41-.59l7.78-7.78 2.81-2.81c.8-.78.8-2.07 0-2.86zM5.41 20L4 18.59l7.72-7.72 1.47 1.35L5.41 20z\"/>\n",
              "  </svg>\n",
              "      </button>\n",
              "      \n",
              "  <style>\n",
              "    .colab-df-container {\n",
              "      display:flex;\n",
              "      flex-wrap:wrap;\n",
              "      gap: 12px;\n",
              "    }\n",
              "\n",
              "    .colab-df-convert {\n",
              "      background-color: #E8F0FE;\n",
              "      border: none;\n",
              "      border-radius: 50%;\n",
              "      cursor: pointer;\n",
              "      display: none;\n",
              "      fill: #1967D2;\n",
              "      height: 32px;\n",
              "      padding: 0 0 0 0;\n",
              "      width: 32px;\n",
              "    }\n",
              "\n",
              "    .colab-df-convert:hover {\n",
              "      background-color: #E2EBFA;\n",
              "      box-shadow: 0px 1px 2px rgba(60, 64, 67, 0.3), 0px 1px 3px 1px rgba(60, 64, 67, 0.15);\n",
              "      fill: #174EA6;\n",
              "    }\n",
              "\n",
              "    [theme=dark] .colab-df-convert {\n",
              "      background-color: #3B4455;\n",
              "      fill: #D2E3FC;\n",
              "    }\n",
              "\n",
              "    [theme=dark] .colab-df-convert:hover {\n",
              "      background-color: #434B5C;\n",
              "      box-shadow: 0px 1px 3px 1px rgba(0, 0, 0, 0.15);\n",
              "      filter: drop-shadow(0px 1px 2px rgba(0, 0, 0, 0.3));\n",
              "      fill: #FFFFFF;\n",
              "    }\n",
              "  </style>\n",
              "\n",
              "      <script>\n",
              "        const buttonEl =\n",
              "          document.querySelector('#df-09e4c8d6-a688-4618-ac9a-337d1412bdd9 button.colab-df-convert');\n",
              "        buttonEl.style.display =\n",
              "          google.colab.kernel.accessAllowed ? 'block' : 'none';\n",
              "\n",
              "        async function convertToInteractive(key) {\n",
              "          const element = document.querySelector('#df-09e4c8d6-a688-4618-ac9a-337d1412bdd9');\n",
              "          const dataTable =\n",
              "            await google.colab.kernel.invokeFunction('convertToInteractive',\n",
              "                                                     [key], {});\n",
              "          if (!dataTable) return;\n",
              "\n",
              "          const docLinkHtml = 'Like what you see? Visit the ' +\n",
              "            '<a target=\"_blank\" href=https://colab.research.google.com/notebooks/data_table.ipynb>data table notebook</a>'\n",
              "            + ' to learn more about interactive tables.';\n",
              "          element.innerHTML = '';\n",
              "          dataTable['output_type'] = 'display_data';\n",
              "          await google.colab.output.renderOutput(dataTable, element);\n",
              "          const docLink = document.createElement('div');\n",
              "          docLink.innerHTML = docLinkHtml;\n",
              "          element.appendChild(docLink);\n",
              "        }\n",
              "      </script>\n",
              "    </div>\n",
              "  </div>\n",
              "  "
            ]
          },
          "metadata": {},
          "execution_count": 30
        }
      ]
    },
    {
      "cell_type": "code",
      "source": [
        "df['age'].describe()"
      ],
      "metadata": {
        "colab": {
          "base_uri": "https://localhost:8080/"
        },
        "id": "Sdjw6zKUf3hw",
        "outputId": "81b07cac-57d4-4781-8c97-6a8dcb7331e1"
      },
      "execution_count": 37,
      "outputs": [
        {
          "output_type": "execute_result",
          "data": {
            "text/plain": [
              "count    4895.000000\n",
              "mean       36.549750\n",
              "std        12.694348\n",
              "min         6.000000\n",
              "25%        27.000000\n",
              "50%        35.000000\n",
              "75%        45.000000\n",
              "max        91.000000\n",
              "Name: age, dtype: float64"
            ]
          },
          "metadata": {},
          "execution_count": 37
        }
      ]
    },
    {
      "cell_type": "code",
      "source": [
        "df.info()"
      ],
      "metadata": {
        "colab": {
          "base_uri": "https://localhost:8080/"
        },
        "id": "1D_JffeCgKny",
        "outputId": "41639e24-3cf5-4ede-b77e-4eaa716a5e9e"
      },
      "execution_count": 38,
      "outputs": [
        {
          "output_type": "stream",
          "name": "stdout",
          "text": [
            "<class 'pandas.core.frame.DataFrame'>\n",
            "RangeIndex: 4895 entries, 0 to 4894\n",
            "Data columns (total 15 columns):\n",
            " #   Column                   Non-Null Count  Dtype  \n",
            "---  ------                   --------------  -----  \n",
            " 0   id                       4895 non-null   int64  \n",
            " 1   name                     4895 non-null   object \n",
            " 2   date                     4895 non-null   object \n",
            " 3   manner_of_death          4895 non-null   object \n",
            " 4   armed                    4895 non-null   object \n",
            " 5   age                      4895 non-null   float64\n",
            " 6   gender                   4895 non-null   object \n",
            " 7   race                     4895 non-null   object \n",
            " 8   city                     4895 non-null   object \n",
            " 9   state                    4895 non-null   object \n",
            " 10  signs_of_mental_illness  4895 non-null   bool   \n",
            " 11  threat_level             4895 non-null   object \n",
            " 12  flee                     4895 non-null   object \n",
            " 13  body_camera              4895 non-null   bool   \n",
            " 14  arms_category            4895 non-null   object \n",
            "dtypes: bool(2), float64(1), int64(1), object(11)\n",
            "memory usage: 506.8+ KB\n"
          ]
        }
      ]
    },
    {
      "cell_type": "markdown",
      "source": [
        "Описание признаков\n",
        "\n",
        "|  Название  | Описание | Тип |\n",
        "|---         |--:       |     |\n",
        "| **id** | идентификтор | количественный |\n",
        "| **name** | Имя застреленного человека | строковой |\n",
        "| **date** | Дата события | дата, формата yyyy-mm-dd format  |\n",
        "| **manner_of_death** | Каким способом было произведено убийство | строковой |\n",
        "| **armed** | Вооружение | строковый |\n",
        "| **age** | Возраст расстрелянного человека | количественный |\n",
        "| **gender** | Пол расстрелянного человека | качественный\n",
        "| **race** | Расса растрялянного человека |\n",
        "| **city** | Город происшествия | строковой |\n",
        "| **state** |  Штат происшествия | строковой |\n",
        "| **signs_of_mental_illness** | Признаки психический заболеваний | булевый |\n",
        "| **threat_level** | Уровень угрозы | строковой |\n",
        "| **flee** | |\n",
        "| **body_camera** | Наличие видеокамеры, заснявшей происшествие | булевое |\n",
        "| **arms_category** | Категория орежия | строковой |\n",
        "\n",
        "Целевая переменная: **Race** – раса убитого полицией человека, строкой. Потом мы будем строить модели, прогнозирующие этот признак по остальным, поэтому мы и назвали его целевым. \n"
      ],
      "metadata": {
        "id": "B2ZYE486ihz-"
      }
    },
    {
      "cell_type": "code",
      "source": [
        "df['race'].value_counts()"
      ],
      "metadata": {
        "colab": {
          "base_uri": "https://localhost:8080/"
        },
        "id": "3Zz-1yJSoJfA",
        "outputId": "b132cf92-aee0-41da-8de2-61bbde4602fc"
      },
      "execution_count": 41,
      "outputs": [
        {
          "output_type": "execute_result",
          "data": {
            "text/plain": [
              "White       2476\n",
              "Black       1298\n",
              "Hispanic     902\n",
              "Asian         93\n",
              "Native        78\n",
              "Other         48\n",
              "Name: race, dtype: int64"
            ]
          },
          "metadata": {},
          "execution_count": 41
        }
      ]
    },
    {
      "cell_type": "markdown",
      "source": [],
      "metadata": {
        "id": "sNV1PQ0couhO"
      }
    },
    {
      "cell_type": "code",
      "source": [
        "df['race'].value_counts().plot(kind='bar', label='race')\n",
        "plt.title(\"Распределений по расам людей, убитых полицией\")"
      ],
      "metadata": {
        "colab": {
          "base_uri": "https://localhost:8080/",
          "height": 549
        },
        "id": "k9u633UMoP7X",
        "outputId": "9c396d66-99fc-4898-cf89-dac9ca0249c6"
      },
      "execution_count": 47,
      "outputs": [
        {
          "output_type": "execute_result",
          "data": {
            "text/plain": [
              "Text(0.5, 1.0, 'Распределений по расам людей, убитых полицией')"
            ]
          },
          "metadata": {},
          "execution_count": 47
        },
        {
          "output_type": "display_data",
          "data": {
            "text/plain": [
              "<Figure size 720x576 with 1 Axes>"
            ],
            "image/png": "[encoded data removed]"
          },
          "metadata": {
            "needs_background": "light"
          }
        }
      ]
    },
    {
      "cell_type": "code",
      "source": [
        "df['gender'].value_counts().plot(kind='bar', label='race')\n",
        "plt.title(\"Распределений по полу\")"
      ],
      "metadata": {
        "colab": {
          "base_uri": "https://localhost:8080/",
          "height": 514
        },
        "id": "PumxmnXUwZNq",
        "outputId": "f86de63e-bdd9-430d-d1eb-dfc4828a530d"
      },
      "execution_count": 50,
      "outputs": [
        {
          "output_type": "execute_result",
          "data": {
            "text/plain": [
              "Text(0.5, 1.0, 'Распределений по полу')"
            ]
          },
          "metadata": {},
          "execution_count": 50
        },
        {
          "output_type": "display_data",
          "data": {
            "text/plain": [
              "<Figure size 720x576 with 1 Axes>"
            ],
            "image/png": "[encoded data removed]"
          },
          "metadata": {
            "needs_background": "light"
          }
        }
      ]
    },
    {
      "cell_type": "code",
      "source": [
        "df['state'].unique()"
      ],
      "metadata": {
        "colab": {
          "base_uri": "https://localhost:8080/"
        },
        "id": "gd1jmSLfwYTT",
        "outputId": "63fdb193-2797-49b1-dd52-a4158ba22316"
      },
      "execution_count": 53,
      "outputs": [
        {
          "output_type": "execute_result",
          "data": {
            "text/plain": [
              "array(['WA', 'OR', 'KS', 'CA', 'CO', 'OK', 'AZ', 'IA', 'PA', 'TX', 'OH',\n",
              "       'LA', 'MT', 'UT', 'AR', 'IL', 'NV', 'NM', 'MN', 'MO', 'VA', 'NJ',\n",
              "       'IN', 'KY', 'MA', 'NH', 'FL', 'ID', 'MD', 'NE', 'MI', 'GA', 'TN',\n",
              "       'NC', 'AK', 'NY', 'ME', 'AL', 'MS', 'WI', 'SC', 'DE', 'DC', 'WV',\n",
              "       'HI', 'WY', 'ND', 'CT', 'SD', 'VT', 'RI'], dtype=object)"
            ]
          },
          "metadata": {},
          "execution_count": 53
        }
      ]
    },
    {
      "cell_type": "code",
      "source": [
        "def state(x):\n",
        "    if x=='AL':\n",
        "        return('Alabama')\n",
        "    elif x=='AK':\n",
        "        return('Alaska')\n",
        "    elif x=='AZ':\n",
        "        return('Arizona')\n",
        "    elif x=='AR':\n",
        "        return('Arkansas')\n",
        "    elif x=='AZ':\n",
        "        return('Arizona')\n",
        "    elif x=='CA':\n",
        "        return('California')\n",
        "    elif x=='CO':\n",
        "        return('Colorado')\n",
        "    elif x=='CT':\n",
        "        return('Connecticut')\n",
        "    elif x=='DE':\n",
        "        return('Delaware')\n",
        "    elif x=='FL':\n",
        "        return('Florida')\n",
        "    elif x=='GE':\n",
        "        return('Georgia')\n",
        "    elif x=='HI':\n",
        "        return('Hawaii')\n",
        "    elif x=='FL':\n",
        "        return('Idaho')\n",
        "    elif x=='IL':\n",
        "        return('Illinois')\n",
        "    elif x=='IN':\n",
        "        return('Indiana')\n",
        "    elif x=='IA':\n",
        "        return('Iowa')\n",
        "    elif x=='KS':\n",
        "        return('Kansas')\n",
        "    elif x=='KY':\n",
        "        return('Kentucky')\n",
        "    elif x=='LA':\n",
        "        return('Louisiana')\n",
        "    elif x=='ME':\n",
        "        return('Maine')\n",
        "    elif x=='MD':\n",
        "        return('Maryland')\n",
        "    elif x=='MA':\n",
        "        return('Massachusetts')\n",
        "    elif x=='MI':\n",
        "        return('Michigan')\n",
        "    elif x=='MN':\n",
        "        return('Minnesota')\n",
        "    elif x=='MS':\n",
        "        return('Mississippi')\n",
        "    elif x=='MO':\n",
        "        return('Missouri')\n",
        "    elif x=='MT':\n",
        "        return('Montana')\n",
        "    elif x=='NE':\n",
        "        return('Nebraska')\n",
        "    elif x=='NV':\n",
        "        return('Nevada')\n",
        "    elif x=='NH':\n",
        "        return('New Hampshire')\n",
        "    elif x=='NJ':\n",
        "        return('New Jersey')\n",
        "    elif x=='NM':\n",
        "        return('New Mexico')\n",
        "    elif x=='NY':\n",
        "        return('New York')\n",
        "    elif x=='NC':\n",
        "        return('North Carolina')\n",
        "    elif x=='ND':\n",
        "        return('North Dakota')\n",
        "    elif x=='OH':\n",
        "        return('Ohio')\n",
        "    elif x=='OK':\n",
        "        return('Oklahoma')\n",
        "    elif x=='OR':\n",
        "        return('Oregon')\n",
        "    elif x=='PA':\n",
        "        return('Pennsylvania')\n",
        "    elif x=='RI':\n",
        "        return('Rhode Island')\n",
        "    elif x=='SC':\n",
        "        return('South Carolina')\n",
        "    elif x=='SD':\n",
        "        return('South Dakota')\n",
        "    elif x=='TN':\n",
        "        return('Tennessee')\n",
        "    elif x=='TX':\n",
        "        return('Texas')\n",
        "    elif x=='UT':\n",
        "        return('Utah')\n",
        "    elif x=='VT':\n",
        "        return('Vermont')\n",
        "    elif x=='VA':\n",
        "        return('Virginia')\n",
        "    elif x=='WA':\n",
        "        return('Washington')\n",
        "    elif x=='WV':\n",
        "        return('West Virginia')\n",
        "    elif x=='WI':\n",
        "        return('Wisconsin')\n",
        "    else:\n",
        "        return('Wyoming')\n",
        "    "
      ],
      "metadata": {
        "id": "7-qiDNR8yCqz"
      },
      "execution_count": 55,
      "outputs": []
    },
    {
      "cell_type": "code",
      "source": [
        "df['state'] = df['state'].apply(state)"
      ],
      "metadata": {
        "id": "UFFGNXEeyFF4"
      },
      "execution_count": 57,
      "outputs": []
    },
    {
      "cell_type": "code",
      "source": [
        "df['state'].unique()"
      ],
      "metadata": {
        "colab": {
          "base_uri": "https://localhost:8080/"
        },
        "id": "3fD-FmlCyWzU",
        "outputId": "d1d4c243-6c6f-480b-9376-371292fd1d25"
      },
      "execution_count": 58,
      "outputs": [
        {
          "output_type": "execute_result",
          "data": {
            "text/plain": [
              "array(['Washington', 'Oregon', 'Kansas', 'California', 'Colorado',\n",
              "       'Oklahoma', 'Arizona', 'Iowa', 'Pennsylvania', 'Texas', 'Ohio',\n",
              "       'Louisiana', 'Montana', 'Utah', 'Arkansas', 'Illinois', 'Nevada',\n",
              "       'New Mexico', 'Minnesota', 'Missouri', 'Virginia', 'New Jersey',\n",
              "       'Indiana', 'Kentucky', 'Massachusetts', 'New Hampshire', 'Florida',\n",
              "       'Wyoming', 'Maryland', 'Nebraska', 'Michigan', 'Tennessee',\n",
              "       'North Carolina', 'Alaska', 'New York', 'Maine', 'Alabama',\n",
              "       'Mississippi', 'Wisconsin', 'South Carolina', 'Delaware',\n",
              "       'West Virginia', 'Hawaii', 'North Dakota', 'Connecticut',\n",
              "       'South Dakota', 'Vermont', 'Rhode Island'], dtype=object)"
            ]
          },
          "metadata": {},
          "execution_count": 58
        }
      ]
    },
    {
      "cell_type": "code",
      "source": [
        "def Region(x):\n",
        "    if x=='Alabama':\n",
        "        return('south')\n",
        "    elif x=='Alaska':\n",
        "        return('west')\n",
        "    elif x=='Arizona':\n",
        "        return('west')\n",
        "    elif x=='Arkansas':\n",
        "        return('south')\n",
        "\n",
        "    elif x=='California':\n",
        "        return('west')\n",
        "    \n",
        "    elif x=='Colorado':\n",
        "        return('west')\n",
        "    \n",
        "    elif x=='Connecticut':\n",
        "        return('northeast')\n",
        "    \n",
        "    elif x=='Delaware':\n",
        "        return('south')\n",
        "    \n",
        "    elif x=='Florida':\n",
        "        return('south')\n",
        "    elif x=='Georgia':\n",
        "        return('south')\n",
        "    elif x=='Hawaii':\n",
        "        return('west')\n",
        "    elif x=='Idaho':\n",
        "        return('west')\n",
        "    elif x=='Illinois':\n",
        "        return('Midwest')\n",
        "    elif x=='Indiana':\n",
        "        return('Midwest')\n",
        "    elif x=='Iowa':\n",
        "        return('Midwest')\n",
        "    elif x=='Kansas':\n",
        "        return('Midwest')\n",
        "    elif x=='Kentucky':\n",
        "        return('south')\n",
        "    elif x=='Louisiana':\n",
        "        return('south')\n",
        "    elif x=='Maine':\n",
        "        return('northeast')\n",
        "    elif x=='Maryland':\n",
        "        return('south')\n",
        "    elif x=='Massachusetts':\n",
        "        return('northeast')\n",
        "    elif x=='Michigan':\n",
        "        return('Midwest')\n",
        "    elif x=='Minnesota':\n",
        "        return('Midwest')\n",
        "    elif x=='Mississippi':\n",
        "        return('south')\n",
        "    elif x=='Missouri':\n",
        "        return('Midwest')\n",
        "    elif x=='Montana':\n",
        "        return('west')\n",
        "    elif x=='Nebraska':\n",
        "        return('Midwest')\n",
        "    elif x=='Nevada':\n",
        "        return('west')\n",
        "    elif x=='New Hampshire':\n",
        "        return('northeast')\n",
        "    elif x=='New Jersey':\n",
        "        return('northeast')\n",
        "    elif x=='New Mexico':\n",
        "        return('west')\n",
        "    elif x=='New York':\n",
        "        return('northeast')\n",
        "    elif x=='North Carolina':\n",
        "        return('south')\n",
        "    elif x=='North Dakota':\n",
        "        return('Midwest')\n",
        "    elif x=='Ohio':\n",
        "        return('Midwest')\n",
        "    elif x=='Oklahoma':\n",
        "        return('south')\n",
        "    elif x=='Oregon':\n",
        "        return('west')\n",
        "    elif x=='Pennsylvania':\n",
        "        return('northeast')\n",
        "    elif x=='Rhode Island':\n",
        "        return('northeast')\n",
        "    elif x=='South Carolina':\n",
        "        return('south')\n",
        "    elif x=='South Dakota':\n",
        "        return('Midwest')\n",
        "    elif x=='Tennessee':\n",
        "        return('south')\n",
        "    elif x=='Texas':\n",
        "        return('south')\n",
        "    elif x=='Utah':\n",
        "        return('west')\n",
        "    elif x=='Vermont':\n",
        "        return('northeast')\n",
        "    elif x=='Virginia':\n",
        "        return('south')\n",
        "    elif x=='Washington':\n",
        "        return('west')\n",
        "    elif x=='West Virginia':\n",
        "        return('south')\n",
        "    elif x=='Wisconsin':\n",
        "        return('Midwest')\n",
        "    elif x=='Wyoming':\n",
        "        return('west')\n",
        "    "
      ],
      "metadata": {
        "id": "WzKDicpSypOb"
      },
      "execution_count": 61,
      "outputs": []
    },
    {
      "cell_type": "code",
      "source": [
        "df['region']=df['state'].apply(Region)"
      ],
      "metadata": {
        "id": "tjcNNhDdyq4d"
      },
      "execution_count": 62,
      "outputs": []
    },
    {
      "cell_type": "code",
      "source": [
        "df['region'].unique()"
      ],
      "metadata": {
        "colab": {
          "base_uri": "https://localhost:8080/"
        },
        "id": "_QCZpRtyy4EP",
        "outputId": "a05877a2-36e8-42d4-ea77-a33a69f8c241"
      },
      "execution_count": 65,
      "outputs": [
        {
          "output_type": "execute_result",
          "data": {
            "text/plain": [
              "array(['west', 'Midwest', 'south', 'northeast'], dtype=object)"
            ]
          },
          "metadata": {},
          "execution_count": 65
        }
      ]
    },
    {
      "cell_type": "code",
      "source": [
        "sns.histplot(df['region'])"
      ],
      "metadata": {
        "colab": {
          "base_uri": "https://localhost:8080/",
          "height": 514
        },
        "id": "kz1kfrpGzA5C",
        "outputId": "6564cb7d-71d1-423f-9543-f14f15d8b9c0"
      },
      "execution_count": 67,
      "outputs": [
        {
          "output_type": "execute_result",
          "data": {
            "text/plain": [
              "<matplotlib.axes._subplots.AxesSubplot at 0x7f03fc4b3b90>"
            ]
          },
          "metadata": {},
          "execution_count": 67
        },
        {
          "output_type": "display_data",
          "data": {
            "text/plain": [
              "<Figure size 720x576 with 1 Axes>"
            ],
            "image/png": "[encoded data removed]"
          },
          "metadata": {
            "needs_background": "light"
          }
        }
      ]
    },
    {
      "cell_type": "code",
      "source": [
        "df['region'].isnull().sum()"
      ],
      "metadata": {
        "colab": {
          "base_uri": "https://localhost:8080/"
        },
        "id": "YSlezw81zNAY",
        "outputId": "a6feae5d-6ef2-4632-e5e3-221e68cb76b9"
      },
      "execution_count": 70,
      "outputs": [
        {
          "output_type": "execute_result",
          "data": {
            "text/plain": [
              "0"
            ]
          },
          "metadata": {},
          "execution_count": 70
        }
      ]
    },
    {
      "cell_type": "code",
      "source": [
        "df['race'].unique()"
      ],
      "metadata": {
        "colab": {
          "base_uri": "https://localhost:8080/"
        },
        "id": "o3MAqNzFzRXM",
        "outputId": "7ac24270-52dd-47b4-b0ce-e74d0d512841"
      },
      "execution_count": 71,
      "outputs": [
        {
          "output_type": "execute_result",
          "data": {
            "text/plain": [
              "array(['Asian', 'White', 'Hispanic', 'Black', 'Other', 'Native'],\n",
              "      dtype=object)"
            ]
          },
          "metadata": {},
          "execution_count": 71
        }
      ]
    },
    {
      "cell_type": "code",
      "source": [
        "df['manner_of_death'].unique()"
      ],
      "metadata": {
        "colab": {
          "base_uri": "https://localhost:8080/"
        },
        "id": "C0BbSVhVhQGY",
        "outputId": "ba27bdfa-7fef-4530-e43a-dfd0a1b30536"
      },
      "execution_count": 73,
      "outputs": [
        {
          "output_type": "execute_result",
          "data": {
            "text/plain": [
              "array(['shot', 'shot and Tasered'], dtype=object)"
            ]
          },
          "metadata": {},
          "execution_count": 73
        }
      ]
    },
    {
      "cell_type": "code",
      "source": [
        "sns.histplot(df['manner_of_death'])"
      ],
      "metadata": {
        "colab": {
          "base_uri": "https://localhost:8080/",
          "height": 515
        },
        "id": "Vi_EC_qetXvz",
        "outputId": "1940761a-59dc-452c-b20d-efd25cb7ad9c"
      },
      "execution_count": 74,
      "outputs": [
        {
          "output_type": "execute_result",
          "data": {
            "text/plain": [
              "<matplotlib.axes._subplots.AxesSubplot at 0x7f03fc406a90>"
            ]
          },
          "metadata": {},
          "execution_count": 74
        },
        {
          "output_type": "display_data",
          "data": {
            "text/plain": [
              "<Figure size 720x576 with 1 Axes>"
            ],
            "image/png": "[encoded data removed]"
          },
          "metadata": {
            "needs_background": "light"
          }
        }
      ]
    },
    {
      "cell_type": "code",
      "source": [
        "df['armed'].unique()"
      ],
      "metadata": {
        "colab": {
          "base_uri": "https://localhost:8080/"
        },
        "id": "hmMXrDLdnqTg",
        "outputId": "446b6649-b686-4845-9924-6581ebe28beb"
      },
      "execution_count": 75,
      "outputs": [
        {
          "output_type": "execute_result",
          "data": {
            "text/plain": [
              "array(['gun', 'unarmed', 'toy weapon', 'nail gun', 'knife', 'unknown',\n",
              "       'shovel', 'hammer', 'hatchet', 'sword', 'machete', 'box cutter',\n",
              "       'metal object', 'screwdriver', 'lawn mower blade', 'flagpole',\n",
              "       'guns and explosives', 'cordless drill', 'metal pole', 'Taser',\n",
              "       'metal pipe', 'metal hand tool', 'blunt object', 'metal stick',\n",
              "       'sharp object', 'meat cleaver', 'carjack', 'chain',\n",
              "       \"contractor's level\", 'stapler', 'crossbow', 'bean-bag gun',\n",
              "       'baseball bat and fireplace poker', 'straight edge razor',\n",
              "       'gun and knife', 'ax', 'brick', 'baseball bat', 'hand torch',\n",
              "       'chain saw', 'garden tool', 'scissors', 'pole', 'pick-axe',\n",
              "       'flashlight', 'vehicle', 'spear', 'chair', 'pitchfork',\n",
              "       'hatchet and gun', 'rock', 'piece of wood', 'bayonet', 'pipe',\n",
              "       'glass shard', 'motorcycle', 'pepper spray', 'metal rake', 'baton',\n",
              "       'crowbar', 'oar', 'machete and gun', 'air conditioner',\n",
              "       'pole and knife', 'beer bottle', 'baseball bat and bottle',\n",
              "       'fireworks', 'pen', 'chainsaw', 'gun and sword', 'gun and car',\n",
              "       'pellet gun', 'BB gun', 'incendiary device', 'samurai sword',\n",
              "       'bow and arrow', 'gun and vehicle', 'vehicle and gun', 'wrench',\n",
              "       'walking stick', 'barstool', 'grenade', 'BB gun and vehicle',\n",
              "       'wasp spray', 'air pistol', 'baseball bat and knife',\n",
              "       'vehicle and machete', 'ice pick', 'car, knife and mace'],\n",
              "      dtype=object)"
            ]
          },
          "metadata": {},
          "execution_count": 75
        }
      ]
    },
    {
      "cell_type": "code",
      "source": [
        "def year(x):\n",
        "    return x.split('-')[0]"
      ],
      "metadata": {
        "id": "oDoHTZzm4dx4"
      },
      "execution_count": 84,
      "outputs": []
    },
    {
      "cell_type": "code",
      "source": [
        "df['year'] = df['date'].apply(year)"
      ],
      "metadata": {
        "id": "vRITmSox4hhA"
      },
      "execution_count": 85,
      "outputs": []
    },
    {
      "cell_type": "code",
      "source": [
        "df['year'].head()"
      ],
      "metadata": {
        "colab": {
          "base_uri": "https://localhost:8080/"
        },
        "id": "3bhaU7jj4jWY",
        "outputId": "a54d445c-0003-4bc7-f3e6-e96318ddaf97"
      },
      "execution_count": 86,
      "outputs": [
        {
          "output_type": "execute_result",
          "data": {
            "text/plain": [
              "0    2015\n",
              "1    2015\n",
              "2    2015\n",
              "3    2015\n",
              "4    2015\n",
              "Name: year, dtype: object"
            ]
          },
          "metadata": {},
          "execution_count": 86
        }
      ]
    },
    {
      "cell_type": "code",
      "source": [
        "df['year'].unique()"
      ],
      "metadata": {
        "colab": {
          "base_uri": "https://localhost:8080/"
        },
        "id": "_RYoocPp40D_",
        "outputId": "f329f99a-20c7-4d40-fc4c-ed8047e7d1c9"
      },
      "execution_count": 87,
      "outputs": [
        {
          "output_type": "execute_result",
          "data": {
            "text/plain": [
              "array(['2015', '2016', '2017', '2018', '2019', '2020'], dtype=object)"
            ]
          },
          "metadata": {},
          "execution_count": 87
        }
      ]
    },
    {
      "cell_type": "code",
      "source": [
        "df.head()"
      ],
      "metadata": {
        "colab": {
          "base_uri": "https://localhost:8080/",
          "height": 353
        },
        "id": "Hb0QqpSL5Amv",
        "outputId": "6dc21caa-c248-4c9e-c5e5-bebbf525726b"
      },
      "execution_count": 88,
      "outputs": [
        {
          "output_type": "execute_result",
          "data": {
            "text/plain": [
              "   id                name        date   manner_of_death       armed   age  \\\n",
              "0   3          Tim Elliot  2015-01-02              shot         gun  53.0   \n",
              "1   4    Lewis Lee Lembke  2015-01-02              shot         gun  47.0   \n",
              "2   5  John Paul Quintero  2015-01-03  shot and Tasered     unarmed  23.0   \n",
              "3   8     Matthew Hoffman  2015-01-04              shot  toy weapon  32.0   \n",
              "4   9   Michael Rodriguez  2015-01-04              shot    nail gun  39.0   \n",
              "\n",
              "  gender      race           city       state  signs_of_mental_illness  \\\n",
              "0      M     Asian        Shelton  Washington                     True   \n",
              "1      M     White          Aloha      Oregon                    False   \n",
              "2      M  Hispanic        Wichita      Kansas                    False   \n",
              "3      M     White  San Francisco  California                     True   \n",
              "4      M  Hispanic          Evans    Colorado                    False   \n",
              "\n",
              "  threat_level         flee  body_camera          arms_category   region  year  \n",
              "0       attack  Not fleeing        False                   Guns     west  2015  \n",
              "1       attack  Not fleeing        False                   Guns     west  2015  \n",
              "2        other  Not fleeing        False                Unarmed  Midwest  2015  \n",
              "3       attack  Not fleeing        False  Other unusual objects     west  2015  \n",
              "4       attack  Not fleeing        False       Piercing objects     west  2015  "
            ],
            "text/html": [
              "\n",
              "  <div id=\"df-f7bb6301-39ff-419d-8e60-de5b793ff703\">\n",
              "    <div class=\"colab-df-container\">\n",
              "      <div>\n",
              "<style scoped>\n",
              "    .dataframe tbody tr th:only-of-type {\n",
              "        vertical-align: middle;\n",
              "    }\n",
              "\n",
              "    .dataframe tbody tr th {\n",
              "        vertical-align: top;\n",
              "    }\n",
              "\n",
              "    .dataframe thead th {\n",
              "        text-align: right;\n",
              "    }\n",
              "</style>\n",
              "<table border=\"1\" class=\"dataframe\">\n",
              "  <thead>\n",
              "    <tr style=\"text-align: right;\">\n",
              "      <th></th>\n",
              "      <th>id</th>\n",
              "      <th>name</th>\n",
              "      <th>date</th>\n",
              "      <th>manner_of_death</th>\n",
              "      <th>armed</th>\n",
              "      <th>age</th>\n",
              "      <th>gender</th>\n",
              "      <th>race</th>\n",
              "      <th>city</th>\n",
              "      <th>state</th>\n",
              "      <th>signs_of_mental_illness</th>\n",
              "      <th>threat_level</th>\n",
              "      <th>flee</th>\n",
              "      <th>body_camera</th>\n",
              "      <th>arms_category</th>\n",
              "      <th>region</th>\n",
              "      <th>year</th>\n",
              "    </tr>\n",
              "  </thead>\n",
              "  <tbody>\n",
              "    <tr>\n",
              "      <th>0</th>\n",
              "      <td>3</td>\n",
              "      <td>Tim Elliot</td>\n",
              "      <td>2015-01-02</td>\n",
              "      <td>shot</td>\n",
              "      <td>gun</td>\n",
              "      <td>53.0</td>\n",
              "      <td>M</td>\n",
              "      <td>Asian</td>\n",
              "      <td>Shelton</td>\n",
              "      <td>Washington</td>\n",
              "      <td>True</td>\n",
              "      <td>attack</td>\n",
              "      <td>Not fleeing</td>\n",
              "      <td>False</td>\n",
              "      <td>Guns</td>\n",
              "      <td>west</td>\n",
              "      <td>2015</td>\n",
              "    </tr>\n",
              "    <tr>\n",
              "      <th>1</th>\n",
              "      <td>4</td>\n",
              "      <td>Lewis Lee Lembke</td>\n",
              "      <td>2015-01-02</td>\n",
              "      <td>shot</td>\n",
              "      <td>gun</td>\n",
              "      <td>47.0</td>\n",
              "      <td>M</td>\n",
              "      <td>White</td>\n",
              "      <td>Aloha</td>\n",
              "      <td>Oregon</td>\n",
              "      <td>False</td>\n",
              "      <td>attack</td>\n",
              "      <td>Not fleeing</td>\n",
              "      <td>False</td>\n",
              "      <td>Guns</td>\n",
              "      <td>west</td>\n",
              "      <td>2015</td>\n",
              "    </tr>\n",
              "    <tr>\n",
              "      <th>2</th>\n",
              "      <td>5</td>\n",
              "      <td>John Paul Quintero</td>\n",
              "      <td>2015-01-03</td>\n",
              "      <td>shot and Tasered</td>\n",
              "      <td>unarmed</td>\n",
              "      <td>23.0</td>\n",
              "      <td>M</td>\n",
              "      <td>Hispanic</td>\n",
              "      <td>Wichita</td>\n",
              "      <td>Kansas</td>\n",
              "      <td>False</td>\n",
              "      <td>other</td>\n",
              "      <td>Not fleeing</td>\n",
              "      <td>False</td>\n",
              "      <td>Unarmed</td>\n",
              "      <td>Midwest</td>\n",
              "      <td>2015</td>\n",
              "    </tr>\n",
              "    <tr>\n",
              "      <th>3</th>\n",
              "      <td>8</td>\n",
              "      <td>Matthew Hoffman</td>\n",
              "      <td>2015-01-04</td>\n",
              "      <td>shot</td>\n",
              "      <td>toy weapon</td>\n",
              "      <td>32.0</td>\n",
              "      <td>M</td>\n",
              "      <td>White</td>\n",
              "      <td>San Francisco</td>\n",
              "      <td>California</td>\n",
              "      <td>True</td>\n",
              "      <td>attack</td>\n",
              "      <td>Not fleeing</td>\n",
              "      <td>False</td>\n",
              "      <td>Other unusual objects</td>\n",
              "      <td>west</td>\n",
              "      <td>2015</td>\n",
              "    </tr>\n",
              "    <tr>\n",
              "      <th>4</th>\n",
              "      <td>9</td>\n",
              "      <td>Michael Rodriguez</td>\n",
              "      <td>2015-01-04</td>\n",
              "      <td>shot</td>\n",
              "      <td>nail gun</td>\n",
              "      <td>39.0</td>\n",
              "      <td>M</td>\n",
              "      <td>Hispanic</td>\n",
              "      <td>Evans</td>\n",
              "      <td>Colorado</td>\n",
              "      <td>False</td>\n",
              "      <td>attack</td>\n",
              "      <td>Not fleeing</td>\n",
              "      <td>False</td>\n",
              "      <td>Piercing objects</td>\n",
              "      <td>west</td>\n",
              "      <td>2015</td>\n",
              "    </tr>\n",
              "  </tbody>\n",
              "</table>\n",
              "</div>\n",
              "      <button class=\"colab-df-convert\" onclick=\"convertToInteractive('df-f7bb6301-39ff-419d-8e60-de5b793ff703')\"\n",
              "              title=\"Convert this dataframe to an interactive table.\"\n",
              "              style=\"display:none;\">\n",
              "        \n",
              "  <svg xmlns=\"http://www.w3.org/2000/svg\" height=\"24px\"viewBox=\"0 0 24 24\"\n",
              "       width=\"24px\">\n",
              "    <path d=\"M0 0h24v24H0V0z\" fill=\"none\"/>\n",
              "    <path d=\"M18.56 5.44l.94 2.06.94-2.06 2.06-.94-2.06-.94-.94-2.06-.94 2.06-2.06.94zm-11 1L8.5 8.5l.94-2.06 2.06-.94-2.06-.94L8.5 2.5l-.94 2.06-2.06.94zm10 10l.94 2.06.94-2.06 2.06-.94-2.06-.94-.94-2.06-.94 2.06-2.06.94z\"/><path d=\"M17.41 7.96l-1.37-1.37c-.4-.4-.92-.59-1.43-.59-.52 0-1.04.2-1.43.59L10.3 9.45l-7.72 7.72c-.78.78-.78 2.05 0 2.83L4 21.41c.39.39.9.59 1.41.59.51 0 1.02-.2 1.41-.59l7.78-7.78 2.81-2.81c.8-.78.8-2.07 0-2.86zM5.41 20L4 18.59l7.72-7.72 1.47 1.35L5.41 20z\"/>\n",
              "  </svg>\n",
              "      </button>\n",
              "      \n",
              "  <style>\n",
              "    .colab-df-container {\n",
              "      display:flex;\n",
              "      flex-wrap:wrap;\n",
              "      gap: 12px;\n",
              "    }\n",
              "\n",
              "    .colab-df-convert {\n",
              "      background-color: #E8F0FE;\n",
              "      border: none;\n",
              "      border-radius: 50%;\n",
              "      cursor: pointer;\n",
              "      display: none;\n",
              "      fill: #1967D2;\n",
              "      height: 32px;\n",
              "      padding: 0 0 0 0;\n",
              "      width: 32px;\n",
              "    }\n",
              "\n",
              "    .colab-df-convert:hover {\n",
              "      background-color: #E2EBFA;\n",
              "      box-shadow: 0px 1px 2px rgba(60, 64, 67, 0.3), 0px 1px 3px 1px rgba(60, 64, 67, 0.15);\n",
              "      fill: #174EA6;\n",
              "    }\n",
              "\n",
              "    [theme=dark] .colab-df-convert {\n",
              "      background-color: #3B4455;\n",
              "      fill: #D2E3FC;\n",
              "    }\n",
              "\n",
              "    [theme=dark] .colab-df-convert:hover {\n",
              "      background-color: #434B5C;\n",
              "      box-shadow: 0px 1px 3px 1px rgba(0, 0, 0, 0.15);\n",
              "      filter: drop-shadow(0px 1px 2px rgba(0, 0, 0, 0.3));\n",
              "      fill: #FFFFFF;\n",
              "    }\n",
              "  </style>\n",
              "\n",
              "      <script>\n",
              "        const buttonEl =\n",
              "          document.querySelector('#df-f7bb6301-39ff-419d-8e60-de5b793ff703 button.colab-df-convert');\n",
              "        buttonEl.style.display =\n",
              "          google.colab.kernel.accessAllowed ? 'block' : 'none';\n",
              "\n",
              "        async function convertToInteractive(key) {\n",
              "          const element = document.querySelector('#df-f7bb6301-39ff-419d-8e60-de5b793ff703');\n",
              "          const dataTable =\n",
              "            await google.colab.kernel.invokeFunction('convertToInteractive',\n",
              "                                                     [key], {});\n",
              "          if (!dataTable) return;\n",
              "\n",
              "          const docLinkHtml = 'Like what you see? Visit the ' +\n",
              "            '<a target=\"_blank\" href=https://colab.research.google.com/notebooks/data_table.ipynb>data table notebook</a>'\n",
              "            + ' to learn more about interactive tables.';\n",
              "          element.innerHTML = '';\n",
              "          dataTable['output_type'] = 'display_data';\n",
              "          await google.colab.output.renderOutput(dataTable, element);\n",
              "          const docLink = document.createElement('div');\n",
              "          docLink.innerHTML = docLinkHtml;\n",
              "          element.appendChild(docLink);\n",
              "        }\n",
              "      </script>\n",
              "    </div>\n",
              "  </div>\n",
              "  "
            ]
          },
          "metadata": {},
          "execution_count": 88
        }
      ]
    },
    {
      "cell_type": "code",
      "source": [
        "def month(x):\n",
        "  return x.split('-')[1]"
      ],
      "metadata": {
        "id": "HC-v2vqR5Ec0"
      },
      "execution_count": 89,
      "outputs": []
    },
    {
      "cell_type": "code",
      "source": [
        "df['month'] = df['date'].apply(month)"
      ],
      "metadata": {
        "id": "DQIVo4fr5M0Y"
      },
      "execution_count": 90,
      "outputs": []
    },
    {
      "cell_type": "code",
      "source": [
        "df['month'].unique()"
      ],
      "metadata": {
        "colab": {
          "base_uri": "https://localhost:8080/"
        },
        "id": "9vn_2zz85Slo",
        "outputId": "c8a31579-a1ad-48a4-caed-c86f62167b3b"
      },
      "execution_count": 91,
      "outputs": [
        {
          "output_type": "execute_result",
          "data": {
            "text/plain": [
              "array(['01', '02', '03', '04', '05', '06', '07', '08', '09', '10', '11',\n",
              "       '12'], dtype=object)"
            ]
          },
          "metadata": {},
          "execution_count": 91
        }
      ]
    },
    {
      "cell_type": "code",
      "source": [
        "df.head()"
      ],
      "metadata": {
        "colab": {
          "base_uri": "https://localhost:8080/",
          "height": 353
        },
        "id": "8a09zRKK5WS0",
        "outputId": "744ea6ea-d87b-46da-a2ff-ef9f55760366"
      },
      "execution_count": 93,
      "outputs": [
        {
          "output_type": "execute_result",
          "data": {
            "text/plain": [
              "   id                name        date   manner_of_death       armed   age  \\\n",
              "0   3          Tim Elliot  2015-01-02              shot         gun  53.0   \n",
              "1   4    Lewis Lee Lembke  2015-01-02              shot         gun  47.0   \n",
              "2   5  John Paul Quintero  2015-01-03  shot and Tasered     unarmed  23.0   \n",
              "3   8     Matthew Hoffman  2015-01-04              shot  toy weapon  32.0   \n",
              "4   9   Michael Rodriguez  2015-01-04              shot    nail gun  39.0   \n",
              "\n",
              "  gender      race           city       state  signs_of_mental_illness  \\\n",
              "0      M     Asian        Shelton  Washington                     True   \n",
              "1      M     White          Aloha      Oregon                    False   \n",
              "2      M  Hispanic        Wichita      Kansas                    False   \n",
              "3      M     White  San Francisco  California                     True   \n",
              "4      M  Hispanic          Evans    Colorado                    False   \n",
              "\n",
              "  threat_level         flee  body_camera          arms_category   region  \\\n",
              "0       attack  Not fleeing        False                   Guns     west   \n",
              "1       attack  Not fleeing        False                   Guns     west   \n",
              "2        other  Not fleeing        False                Unarmed  Midwest   \n",
              "3       attack  Not fleeing        False  Other unusual objects     west   \n",
              "4       attack  Not fleeing        False       Piercing objects     west   \n",
              "\n",
              "   year month  \n",
              "0  2015    01  \n",
              "1  2015    01  \n",
              "2  2015    01  \n",
              "3  2015    01  \n",
              "4  2015    01  "
            ],
            "text/html": [
              "\n",
              "  <div id=\"df-fbb657e3-7328-4f22-b421-23ac43c8589f\">\n",
              "    <div class=\"colab-df-container\">\n",
              "      <div>\n",
              "<style scoped>\n",
              "    .dataframe tbody tr th:only-of-type {\n",
              "        vertical-align: middle;\n",
              "    }\n",
              "\n",
              "    .dataframe tbody tr th {\n",
              "        vertical-align: top;\n",
              "    }\n",
              "\n",
              "    .dataframe thead th {\n",
              "        text-align: right;\n",
              "    }\n",
              "</style>\n",
              "<table border=\"1\" class=\"dataframe\">\n",
              "  <thead>\n",
              "    <tr style=\"text-align: right;\">\n",
              "      <th></th>\n",
              "      <th>id</th>\n",
              "      <th>name</th>\n",
              "      <th>date</th>\n",
              "      <th>manner_of_death</th>\n",
              "      <th>armed</th>\n",
              "      <th>age</th>\n",
              "      <th>gender</th>\n",
              "      <th>race</th>\n",
              "      <th>city</th>\n",
              "      <th>state</th>\n",
              "      <th>signs_of_mental_illness</th>\n",
              "      <th>threat_level</th>\n",
              "      <th>flee</th>\n",
              "      <th>body_camera</th>\n",
              "      <th>arms_category</th>\n",
              "      <th>region</th>\n",
              "      <th>year</th>\n",
              "      <th>month</th>\n",
              "    </tr>\n",
              "  </thead>\n",
              "  <tbody>\n",
              "    <tr>\n",
              "      <th>0</th>\n",
              "      <td>3</td>\n",
              "      <td>Tim Elliot</td>\n",
              "      <td>2015-01-02</td>\n",
              "      <td>shot</td>\n",
              "      <td>gun</td>\n",
              "      <td>53.0</td>\n",
              "      <td>M</td>\n",
              "      <td>Asian</td>\n",
              "      <td>Shelton</td>\n",
              "      <td>Washington</td>\n",
              "      <td>True</td>\n",
              "      <td>attack</td>\n",
              "      <td>Not fleeing</td>\n",
              "      <td>False</td>\n",
              "      <td>Guns</td>\n",
              "      <td>west</td>\n",
              "      <td>2015</td>\n",
              "      <td>01</td>\n",
              "    </tr>\n",
              "    <tr>\n",
              "      <th>1</th>\n",
              "      <td>4</td>\n",
              "      <td>Lewis Lee Lembke</td>\n",
              "      <td>2015-01-02</td>\n",
              "      <td>shot</td>\n",
              "      <td>gun</td>\n",
              "      <td>47.0</td>\n",
              "      <td>M</td>\n",
              "      <td>White</td>\n",
              "      <td>Aloha</td>\n",
              "      <td>Oregon</td>\n",
              "      <td>False</td>\n",
              "      <td>attack</td>\n",
              "      <td>Not fleeing</td>\n",
              "      <td>False</td>\n",
              "      <td>Guns</td>\n",
              "      <td>west</td>\n",
              "      <td>2015</td>\n",
              "      <td>01</td>\n",
              "    </tr>\n",
              "    <tr>\n",
              "      <th>2</th>\n",
              "      <td>5</td>\n",
              "      <td>John Paul Quintero</td>\n",
              "      <td>2015-01-03</td>\n",
              "      <td>shot and Tasered</td>\n",
              "      <td>unarmed</td>\n",
              "      <td>23.0</td>\n",
              "      <td>M</td>\n",
              "      <td>Hispanic</td>\n",
              "      <td>Wichita</td>\n",
              "      <td>Kansas</td>\n",
              "      <td>False</td>\n",
              "      <td>other</td>\n",
              "      <td>Not fleeing</td>\n",
              "      <td>False</td>\n",
              "      <td>Unarmed</td>\n",
              "      <td>Midwest</td>\n",
              "      <td>2015</td>\n",
              "      <td>01</td>\n",
              "    </tr>\n",
              "    <tr>\n",
              "      <th>3</th>\n",
              "      <td>8</td>\n",
              "      <td>Matthew Hoffman</td>\n",
              "      <td>2015-01-04</td>\n",
              "      <td>shot</td>\n",
              "      <td>toy weapon</td>\n",
              "      <td>32.0</td>\n",
              "      <td>M</td>\n",
              "      <td>White</td>\n",
              "      <td>San Francisco</td>\n",
              "      <td>California</td>\n",
              "      <td>True</td>\n",
              "      <td>attack</td>\n",
              "      <td>Not fleeing</td>\n",
              "      <td>False</td>\n",
              "      <td>Other unusual objects</td>\n",
              "      <td>west</td>\n",
              "      <td>2015</td>\n",
              "      <td>01</td>\n",
              "    </tr>\n",
              "    <tr>\n",
              "      <th>4</th>\n",
              "      <td>9</td>\n",
              "      <td>Michael Rodriguez</td>\n",
              "      <td>2015-01-04</td>\n",
              "      <td>shot</td>\n",
              "      <td>nail gun</td>\n",
              "      <td>39.0</td>\n",
              "      <td>M</td>\n",
              "      <td>Hispanic</td>\n",
              "      <td>Evans</td>\n",
              "      <td>Colorado</td>\n",
              "      <td>False</td>\n",
              "      <td>attack</td>\n",
              "      <td>Not fleeing</td>\n",
              "      <td>False</td>\n",
              "      <td>Piercing objects</td>\n",
              "      <td>west</td>\n",
              "      <td>2015</td>\n",
              "      <td>01</td>\n",
              "    </tr>\n",
              "  </tbody>\n",
              "</table>\n",
              "</div>\n",
              "      <button class=\"colab-df-convert\" onclick=\"convertToInteractive('df-fbb657e3-7328-4f22-b421-23ac43c8589f')\"\n",
              "              title=\"Convert this dataframe to an interactive table.\"\n",
              "              style=\"display:none;\">\n",
              "        \n",
              "  <svg xmlns=\"http://www.w3.org/2000/svg\" height=\"24px\"viewBox=\"0 0 24 24\"\n",
              "       width=\"24px\">\n",
              "    <path d=\"M0 0h24v24H0V0z\" fill=\"none\"/>\n",
              "    <path d=\"M18.56 5.44l.94 2.06.94-2.06 2.06-.94-2.06-.94-.94-2.06-.94 2.06-2.06.94zm-11 1L8.5 8.5l.94-2.06 2.06-.94-2.06-.94L8.5 2.5l-.94 2.06-2.06.94zm10 10l.94 2.06.94-2.06 2.06-.94-2.06-.94-.94-2.06-.94 2.06-2.06.94z\"/><path d=\"M17.41 7.96l-1.37-1.37c-.4-.4-.92-.59-1.43-.59-.52 0-1.04.2-1.43.59L10.3 9.45l-7.72 7.72c-.78.78-.78 2.05 0 2.83L4 21.41c.39.39.9.59 1.41.59.51 0 1.02-.2 1.41-.59l7.78-7.78 2.81-2.81c.8-.78.8-2.07 0-2.86zM5.41 20L4 18.59l7.72-7.72 1.47 1.35L5.41 20z\"/>\n",
              "  </svg>\n",
              "      </button>\n",
              "      \n",
              "  <style>\n",
              "    .colab-df-container {\n",
              "      display:flex;\n",
              "      flex-wrap:wrap;\n",
              "      gap: 12px;\n",
              "    }\n",
              "\n",
              "    .colab-df-convert {\n",
              "      background-color: #E8F0FE;\n",
              "      border: none;\n",
              "      border-radius: 50%;\n",
              "      cursor: pointer;\n",
              "      display: none;\n",
              "      fill: #1967D2;\n",
              "      height: 32px;\n",
              "      padding: 0 0 0 0;\n",
              "      width: 32px;\n",
              "    }\n",
              "\n",
              "    .colab-df-convert:hover {\n",
              "      background-color: #E2EBFA;\n",
              "      box-shadow: 0px 1px 2px rgba(60, 64, 67, 0.3), 0px 1px 3px 1px rgba(60, 64, 67, 0.15);\n",
              "      fill: #174EA6;\n",
              "    }\n",
              "\n",
              "    [theme=dark] .colab-df-convert {\n",
              "      background-color: #3B4455;\n",
              "      fill: #D2E3FC;\n",
              "    }\n",
              "\n",
              "    [theme=dark] .colab-df-convert:hover {\n",
              "      background-color: #434B5C;\n",
              "      box-shadow: 0px 1px 3px 1px rgba(0, 0, 0, 0.15);\n",
              "      filter: drop-shadow(0px 1px 2px rgba(0, 0, 0, 0.3));\n",
              "      fill: #FFFFFF;\n",
              "    }\n",
              "  </style>\n",
              "\n",
              "      <script>\n",
              "        const buttonEl =\n",
              "          document.querySelector('#df-fbb657e3-7328-4f22-b421-23ac43c8589f button.colab-df-convert');\n",
              "        buttonEl.style.display =\n",
              "          google.colab.kernel.accessAllowed ? 'block' : 'none';\n",
              "\n",
              "        async function convertToInteractive(key) {\n",
              "          const element = document.querySelector('#df-fbb657e3-7328-4f22-b421-23ac43c8589f');\n",
              "          const dataTable =\n",
              "            await google.colab.kernel.invokeFunction('convertToInteractive',\n",
              "                                                     [key], {});\n",
              "          if (!dataTable) return;\n",
              "\n",
              "          const docLinkHtml = 'Like what you see? Visit the ' +\n",
              "            '<a target=\"_blank\" href=https://colab.research.google.com/notebooks/data_table.ipynb>data table notebook</a>'\n",
              "            + ' to learn more about interactive tables.';\n",
              "          element.innerHTML = '';\n",
              "          dataTable['output_type'] = 'display_data';\n",
              "          await google.colab.output.renderOutput(dataTable, element);\n",
              "          const docLink = document.createElement('div');\n",
              "          docLink.innerHTML = docLinkHtml;\n",
              "          element.appendChild(docLink);\n",
              "        }\n",
              "      </script>\n",
              "    </div>\n",
              "  </div>\n",
              "  "
            ]
          },
          "metadata": {},
          "execution_count": 93
        }
      ]
    },
    {
      "cell_type": "code",
      "source": [
        "def quarter(x):\n",
        "    if x <= 3:\n",
        "        return(1)\n",
        "    elif x <=6:\n",
        "        return(2)\n",
        "    elif x <= 9:\n",
        "        return(3)\n",
        "    else:\n",
        "        return(4) "
      ],
      "metadata": {
        "id": "xBZdqEZF5YqM"
      },
      "execution_count": 94,
      "outputs": []
    },
    {
      "cell_type": "code",
      "source": [
        "df['month']=df['month'].astype(int)"
      ],
      "metadata": {
        "id": "V5NhRF-_5g_n"
      },
      "execution_count": 95,
      "outputs": []
    },
    {
      "cell_type": "code",
      "source": [
        "df['quarter'] = df['month'].apply(quarter)"
      ],
      "metadata": {
        "id": "GxFHBufy5pjP"
      },
      "execution_count": 98,
      "outputs": []
    },
    {
      "cell_type": "code",
      "source": [
        "df.head()"
      ],
      "metadata": {
        "colab": {
          "base_uri": "https://localhost:8080/",
          "height": 353
        },
        "id": "ARaBTC8l5vkZ",
        "outputId": "bb7cc74d-42c1-43a4-b8a3-2b0ec2127551"
      },
      "execution_count": 99,
      "outputs": [
        {
          "output_type": "execute_result",
          "data": {
            "text/plain": [
              "   id                name        date   manner_of_death       armed   age  \\\n",
              "0   3          Tim Elliot  2015-01-02              shot         gun  53.0   \n",
              "1   4    Lewis Lee Lembke  2015-01-02              shot         gun  47.0   \n",
              "2   5  John Paul Quintero  2015-01-03  shot and Tasered     unarmed  23.0   \n",
              "3   8     Matthew Hoffman  2015-01-04              shot  toy weapon  32.0   \n",
              "4   9   Michael Rodriguez  2015-01-04              shot    nail gun  39.0   \n",
              "\n",
              "  gender      race           city       state  signs_of_mental_illness  \\\n",
              "0      M     Asian        Shelton  Washington                     True   \n",
              "1      M     White          Aloha      Oregon                    False   \n",
              "2      M  Hispanic        Wichita      Kansas                    False   \n",
              "3      M     White  San Francisco  California                     True   \n",
              "4      M  Hispanic          Evans    Colorado                    False   \n",
              "\n",
              "  threat_level         flee  body_camera          arms_category   region  \\\n",
              "0       attack  Not fleeing        False                   Guns     west   \n",
              "1       attack  Not fleeing        False                   Guns     west   \n",
              "2        other  Not fleeing        False                Unarmed  Midwest   \n",
              "3       attack  Not fleeing        False  Other unusual objects     west   \n",
              "4       attack  Not fleeing        False       Piercing objects     west   \n",
              "\n",
              "   year  month  quarter  \n",
              "0  2015      1        1  \n",
              "1  2015      1        1  \n",
              "2  2015      1        1  \n",
              "3  2015      1        1  \n",
              "4  2015      1        1  "
            ],
            "text/html": [
              "\n",
              "  <div id=\"df-83aa11b4-e0e3-4a77-916e-1db7afd7fd99\">\n",
              "    <div class=\"colab-df-container\">\n",
              "      <div>\n",
              "<style scoped>\n",
              "    .dataframe tbody tr th:only-of-type {\n",
              "        vertical-align: middle;\n",
              "    }\n",
              "\n",
              "    .dataframe tbody tr th {\n",
              "        vertical-align: top;\n",
              "    }\n",
              "\n",
              "    .dataframe thead th {\n",
              "        text-align: right;\n",
              "    }\n",
              "</style>\n",
              "<table border=\"1\" class=\"dataframe\">\n",
              "  <thead>\n",
              "    <tr style=\"text-align: right;\">\n",
              "      <th></th>\n",
              "      <th>id</th>\n",
              "      <th>name</th>\n",
              "      <th>date</th>\n",
              "      <th>manner_of_death</th>\n",
              "      <th>armed</th>\n",
              "      <th>age</th>\n",
              "      <th>gender</th>\n",
              "      <th>race</th>\n",
              "      <th>city</th>\n",
              "      <th>state</th>\n",
              "      <th>signs_of_mental_illness</th>\n",
              "      <th>threat_level</th>\n",
              "      <th>flee</th>\n",
              "      <th>body_camera</th>\n",
              "      <th>arms_category</th>\n",
              "      <th>region</th>\n",
              "      <th>year</th>\n",
              "      <th>month</th>\n",
              "      <th>quarter</th>\n",
              "    </tr>\n",
              "  </thead>\n",
              "  <tbody>\n",
              "    <tr>\n",
              "      <th>0</th>\n",
              "      <td>3</td>\n",
              "      <td>Tim Elliot</td>\n",
              "      <td>2015-01-02</td>\n",
              "      <td>shot</td>\n",
              "      <td>gun</td>\n",
              "      <td>53.0</td>\n",
              "      <td>M</td>\n",
              "      <td>Asian</td>\n",
              "      <td>Shelton</td>\n",
              "      <td>Washington</td>\n",
              "      <td>True</td>\n",
              "      <td>attack</td>\n",
              "      <td>Not fleeing</td>\n",
              "      <td>False</td>\n",
              "      <td>Guns</td>\n",
              "      <td>west</td>\n",
              "      <td>2015</td>\n",
              "      <td>1</td>\n",
              "      <td>1</td>\n",
              "    </tr>\n",
              "    <tr>\n",
              "      <th>1</th>\n",
              "      <td>4</td>\n",
              "      <td>Lewis Lee Lembke</td>\n",
              "      <td>2015-01-02</td>\n",
              "      <td>shot</td>\n",
              "      <td>gun</td>\n",
              "      <td>47.0</td>\n",
              "      <td>M</td>\n",
              "      <td>White</td>\n",
              "      <td>Aloha</td>\n",
              "      <td>Oregon</td>\n",
              "      <td>False</td>\n",
              "      <td>attack</td>\n",
              "      <td>Not fleeing</td>\n",
              "      <td>False</td>\n",
              "      <td>Guns</td>\n",
              "      <td>west</td>\n",
              "      <td>2015</td>\n",
              "      <td>1</td>\n",
              "      <td>1</td>\n",
              "    </tr>\n",
              "    <tr>\n",
              "      <th>2</th>\n",
              "      <td>5</td>\n",
              "      <td>John Paul Quintero</td>\n",
              "      <td>2015-01-03</td>\n",
              "      <td>shot and Tasered</td>\n",
              "      <td>unarmed</td>\n",
              "      <td>23.0</td>\n",
              "      <td>M</td>\n",
              "      <td>Hispanic</td>\n",
              "      <td>Wichita</td>\n",
              "      <td>Kansas</td>\n",
              "      <td>False</td>\n",
              "      <td>other</td>\n",
              "      <td>Not fleeing</td>\n",
              "      <td>False</td>\n",
              "      <td>Unarmed</td>\n",
              "      <td>Midwest</td>\n",
              "      <td>2015</td>\n",
              "      <td>1</td>\n",
              "      <td>1</td>\n",
              "    </tr>\n",
              "    <tr>\n",
              "      <th>3</th>\n",
              "      <td>8</td>\n",
              "      <td>Matthew Hoffman</td>\n",
              "      <td>2015-01-04</td>\n",
              "      <td>shot</td>\n",
              "      <td>toy weapon</td>\n",
              "      <td>32.0</td>\n",
              "      <td>M</td>\n",
              "      <td>White</td>\n",
              "      <td>San Francisco</td>\n",
              "      <td>California</td>\n",
              "      <td>True</td>\n",
              "      <td>attack</td>\n",
              "      <td>Not fleeing</td>\n",
              "      <td>False</td>\n",
              "      <td>Other unusual objects</td>\n",
              "      <td>west</td>\n",
              "      <td>2015</td>\n",
              "      <td>1</td>\n",
              "      <td>1</td>\n",
              "    </tr>\n",
              "    <tr>\n",
              "      <th>4</th>\n",
              "      <td>9</td>\n",
              "      <td>Michael Rodriguez</td>\n",
              "      <td>2015-01-04</td>\n",
              "      <td>shot</td>\n",
              "      <td>nail gun</td>\n",
              "      <td>39.0</td>\n",
              "      <td>M</td>\n",
              "      <td>Hispanic</td>\n",
              "      <td>Evans</td>\n",
              "      <td>Colorado</td>\n",
              "      <td>False</td>\n",
              "      <td>attack</td>\n",
              "      <td>Not fleeing</td>\n",
              "      <td>False</td>\n",
              "      <td>Piercing objects</td>\n",
              "      <td>west</td>\n",
              "      <td>2015</td>\n",
              "      <td>1</td>\n",
              "      <td>1</td>\n",
              "    </tr>\n",
              "  </tbody>\n",
              "</table>\n",
              "</div>\n",
              "      <button class=\"colab-df-convert\" onclick=\"convertToInteractive('df-83aa11b4-e0e3-4a77-916e-1db7afd7fd99')\"\n",
              "              title=\"Convert this dataframe to an interactive table.\"\n",
              "              style=\"display:none;\">\n",
              "        \n",
              "  <svg xmlns=\"http://www.w3.org/2000/svg\" height=\"24px\"viewBox=\"0 0 24 24\"\n",
              "       width=\"24px\">\n",
              "    <path d=\"M0 0h24v24H0V0z\" fill=\"none\"/>\n",
              "    <path d=\"M18.56 5.44l.94 2.06.94-2.06 2.06-.94-2.06-.94-.94-2.06-.94 2.06-2.06.94zm-11 1L8.5 8.5l.94-2.06 2.06-.94-2.06-.94L8.5 2.5l-.94 2.06-2.06.94zm10 10l.94 2.06.94-2.06 2.06-.94-2.06-.94-.94-2.06-.94 2.06-2.06.94z\"/><path d=\"M17.41 7.96l-1.37-1.37c-.4-.4-.92-.59-1.43-.59-.52 0-1.04.2-1.43.59L10.3 9.45l-7.72 7.72c-.78.78-.78 2.05 0 2.83L4 21.41c.39.39.9.59 1.41.59.51 0 1.02-.2 1.41-.59l7.78-7.78 2.81-2.81c.8-.78.8-2.07 0-2.86zM5.41 20L4 18.59l7.72-7.72 1.47 1.35L5.41 20z\"/>\n",
              "  </svg>\n",
              "      </button>\n",
              "      \n",
              "  <style>\n",
              "    .colab-df-container {\n",
              "      display:flex;\n",
              "      flex-wrap:wrap;\n",
              "      gap: 12px;\n",
              "    }\n",
              "\n",
              "    .colab-df-convert {\n",
              "      background-color: #E8F0FE;\n",
              "      border: none;\n",
              "      border-radius: 50%;\n",
              "      cursor: pointer;\n",
              "      display: none;\n",
              "      fill: #1967D2;\n",
              "      height: 32px;\n",
              "      padding: 0 0 0 0;\n",
              "      width: 32px;\n",
              "    }\n",
              "\n",
              "    .colab-df-convert:hover {\n",
              "      background-color: #E2EBFA;\n",
              "      box-shadow: 0px 1px 2px rgba(60, 64, 67, 0.3), 0px 1px 3px 1px rgba(60, 64, 67, 0.15);\n",
              "      fill: #174EA6;\n",
              "    }\n",
              "\n",
              "    [theme=dark] .colab-df-convert {\n",
              "      background-color: #3B4455;\n",
              "      fill: #D2E3FC;\n",
              "    }\n",
              "\n",
              "    [theme=dark] .colab-df-convert:hover {\n",
              "      background-color: #434B5C;\n",
              "      box-shadow: 0px 1px 3px 1px rgba(0, 0, 0, 0.15);\n",
              "      filter: drop-shadow(0px 1px 2px rgba(0, 0, 0, 0.3));\n",
              "      fill: #FFFFFF;\n",
              "    }\n",
              "  </style>\n",
              "\n",
              "      <script>\n",
              "        const buttonEl =\n",
              "          document.querySelector('#df-83aa11b4-e0e3-4a77-916e-1db7afd7fd99 button.colab-df-convert');\n",
              "        buttonEl.style.display =\n",
              "          google.colab.kernel.accessAllowed ? 'block' : 'none';\n",
              "\n",
              "        async function convertToInteractive(key) {\n",
              "          const element = document.querySelector('#df-83aa11b4-e0e3-4a77-916e-1db7afd7fd99');\n",
              "          const dataTable =\n",
              "            await google.colab.kernel.invokeFunction('convertToInteractive',\n",
              "                                                     [key], {});\n",
              "          if (!dataTable) return;\n",
              "\n",
              "          const docLinkHtml = 'Like what you see? Visit the ' +\n",
              "            '<a target=\"_blank\" href=https://colab.research.google.com/notebooks/data_table.ipynb>data table notebook</a>'\n",
              "            + ' to learn more about interactive tables.';\n",
              "          element.innerHTML = '';\n",
              "          dataTable['output_type'] = 'display_data';\n",
              "          await google.colab.output.renderOutput(dataTable, element);\n",
              "          const docLink = document.createElement('div');\n",
              "          docLink.innerHTML = docLinkHtml;\n",
              "          element.appendChild(docLink);\n",
              "        }\n",
              "      </script>\n",
              "    </div>\n",
              "  </div>\n",
              "  "
            ]
          },
          "metadata": {},
          "execution_count": 99
        }
      ]
    },
    {
      "cell_type": "code",
      "source": [],
      "metadata": {
        "id": "Eck_FgKr5z0d"
      },
      "execution_count": null,
      "outputs": []
    }
  ]
}