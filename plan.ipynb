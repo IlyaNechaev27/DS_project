{
  "cells": [
    {
      "cell_type": "markdown",
      "metadata": {
        "id": "view-in-github",
        "colab_type": "text"
      },
      "source": [
        "<a href=\"https://colab.research.google.com/github/IlyaNechaev27/DS_project/blob/main/plan.ipynb\" target=\"_parent\"><img src=\"https://colab.research.google.com/assets/colab-badge.svg\" alt=\"Open In Colab\"/></a>"
      ]
    },
    {
      "cell_type": "markdown",
      "id": "ce090555",
      "metadata": {
        "id": "ce090555"
      },
      "source": [
        "Индивидуальный проект: **Police shootings in USA** \\\n",
        "Автор: **Нечаев Илья Андреевич** \\\n",
        "Проверяющий: **Куготов Алим Заурович**"
      ]
    },
    {
      "cell_type": "markdown",
      "id": "de16fd54",
      "metadata": {
        "id": "de16fd54"
      },
      "source": [
        "### **План выполнения индивидуального проекта**\n",
        "1. Описание набора данных и решаемая задача\n",
        "2. Разведочный анализ данных (англ. exploratory data analysis, EDA) + визуализация\n",
        "3. Генерация и селекция признаков + нормализация\n",
        "4. Исключение аномалий, заполнение пропусков в данных и.т.д.\n",
        "5. Очистка данных от шума\n",
        "6. Выбор метода/алгоритма, модели, архитектуры (для НС)\n",
        "7. Настройка гиперпараметров (для НС), выбор параметров метода/алгоритма\n",
        "8. Выбор метрики оценки качества (RMSE, R^2)\n",
        "9. Генерация наборов для обучения, тестирования и валидации\n",
        "10. Развертывание и работа модели, визуализация результатов\n",
        "11. Выводы"
      ]
    },
    {
      "cell_type": "markdown",
      "id": "51f24c93",
      "metadata": {
        "id": "51f24c93"
      },
      "source": [
        "## Описание набора данных и решаемая задача"
      ]
    },
    {
      "cell_type": "markdown",
      "id": "5366ec07",
      "metadata": {
        "id": "5366ec07"
      },
      "source": [
        "### Задача\n",
        "**Проанализировать и выявить закономерности в случаях прменения огнестрельного оружия полицейскими в Америке**\n",
        "\n",
        "- Интересно выявить тип людей, наиболее подверженных угрозе применения огнестрельного оружия;\n",
        "- В каких штатах стреляют чаще всего?\n",
        "- Увеличивается ли с каждым годом количество прицедентов использования оружия полицейскими?"
      ]
    },
    {
      "cell_type": "markdown",
      "id": "05c68209",
      "metadata": {
        "id": "05c68209"
      },
      "source": [
        "### Описание данных"
      ]
    },
    {
      "cell_type": "markdown",
      "id": "b377565b",
      "metadata": {
        "id": "b377565b"
      },
      "source": [
        "Данные взяты из: \n",
        "\n",
        "[Ссылка на kaggle датасет](https://www.kaggle.com/datasets/ahsen1330/us-police-shootings)\n"
      ]
    },
    {
      "cell_type": "code",
      "source": [
        "# отключим всякие предупреждения Anaconda\n",
        "import warnings\n",
        "\n",
        "warnings.filterwarnings(\"ignore\")\n",
        "import numpy as np\n",
        "import pandas as pd\n",
        "\n",
        "pd.set_option(\"display.max.columns\", 100)\n",
        "import pylab as plt\n",
        "\n",
        "%matplotlib inline\n",
        "import seaborn as sns\n",
        "from matplotlib import pyplot as plt\n",
        "\n",
        "plt.rcParams[\"figure.figsize\"] = (10, 8)"
      ],
      "metadata": {
        "id": "GRW3Sqb_NAwW"
      },
      "id": "GRW3Sqb_NAwW",
      "execution_count": 2,
      "outputs": []
    },
    {
      "cell_type": "code",
      "source": [
        "!git clone https://github.com/IlyaNechaev27/DS_project.git"
      ],
      "metadata": {
        "colab": {
          "base_uri": "https://localhost:8080/"
        },
        "id": "yFJPNNCENDLg",
        "outputId": "722a0cbd-9df9-4068-9bde-229192ffa238"
      },
      "id": "yFJPNNCENDLg",
      "execution_count": 3,
      "outputs": [
        {
          "output_type": "stream",
          "name": "stdout",
          "text": [
            "Cloning into 'DS_project'...\n",
            "remote: Enumerating objects: 17, done.\u001b[K\n",
            "remote: Counting objects: 100% (17/17), done.\u001b[K\n",
            "remote: Compressing objects: 100% (13/13), done.\u001b[K\n",
            "remote: Total 17 (delta 5), reused 9 (delta 1), pack-reused 0\u001b[K\n",
            "Unpacking objects: 100% (17/17), done.\n"
          ]
        }
      ]
    },
    {
      "cell_type": "code",
      "source": [
        "df = pd.read_csv(\"DS_project/data/shootings.csv\")\n"
      ],
      "metadata": {
        "id": "GPk3udKVNMgq"
      },
      "id": "GPk3udKVNMgq",
      "execution_count": 4,
      "outputs": []
    },
    {
      "cell_type": "markdown",
      "source": [
        "Проверим, все ли нормально считалось – посмотрим на первые 5 строк"
      ],
      "metadata": {
        "id": "i87ni6WkNSYO"
      },
      "id": "i87ni6WkNSYO"
    },
    {
      "cell_type": "code",
      "source": [
        "df.head()"
      ],
      "metadata": {
        "colab": {
          "base_uri": "https://localhost:8080/",
          "height": 204
        },
        "id": "0wu4U-37NPju",
        "outputId": "b23c8a84-1ba1-498c-f362-7267866fd87f"
      },
      "id": "0wu4U-37NPju",
      "execution_count": 5,
      "outputs": [
        {
          "output_type": "execute_result",
          "data": {
            "text/plain": [
              "   id                name        date   manner_of_death       armed   age  \\\n",
              "0   3          Tim Elliot  2015-01-02              shot         gun  53.0   \n",
              "1   4    Lewis Lee Lembke  2015-01-02              shot         gun  47.0   \n",
              "2   5  John Paul Quintero  2015-01-03  shot and Tasered     unarmed  23.0   \n",
              "3   8     Matthew Hoffman  2015-01-04              shot  toy weapon  32.0   \n",
              "4   9   Michael Rodriguez  2015-01-04              shot    nail gun  39.0   \n",
              "\n",
              "  gender      race           city state  signs_of_mental_illness threat_level  \\\n",
              "0      M     Asian        Shelton    WA                     True       attack   \n",
              "1      M     White          Aloha    OR                    False       attack   \n",
              "2      M  Hispanic        Wichita    KS                    False        other   \n",
              "3      M     White  San Francisco    CA                     True       attack   \n",
              "4      M  Hispanic          Evans    CO                    False       attack   \n",
              "\n",
              "          flee  body_camera          arms_category  \n",
              "0  Not fleeing        False                   Guns  \n",
              "1  Not fleeing        False                   Guns  \n",
              "2  Not fleeing        False                Unarmed  \n",
              "3  Not fleeing        False  Other unusual objects  \n",
              "4  Not fleeing        False       Piercing objects  "
            ],
            "text/html": [
              "\n",
              "  <div id=\"df-f46f3623-2e1d-41b0-bf7b-cbc52f2b3046\">\n",
              "    <div class=\"colab-df-container\">\n",
              "      <div>\n",
              "<style scoped>\n",
              "    .dataframe tbody tr th:only-of-type {\n",
              "        vertical-align: middle;\n",
              "    }\n",
              "\n",
              "    .dataframe tbody tr th {\n",
              "        vertical-align: top;\n",
              "    }\n",
              "\n",
              "    .dataframe thead th {\n",
              "        text-align: right;\n",
              "    }\n",
              "</style>\n",
              "<table border=\"1\" class=\"dataframe\">\n",
              "  <thead>\n",
              "    <tr style=\"text-align: right;\">\n",
              "      <th></th>\n",
              "      <th>id</th>\n",
              "      <th>name</th>\n",
              "      <th>date</th>\n",
              "      <th>manner_of_death</th>\n",
              "      <th>armed</th>\n",
              "      <th>age</th>\n",
              "      <th>gender</th>\n",
              "      <th>race</th>\n",
              "      <th>city</th>\n",
              "      <th>state</th>\n",
              "      <th>signs_of_mental_illness</th>\n",
              "      <th>threat_level</th>\n",
              "      <th>flee</th>\n",
              "      <th>body_camera</th>\n",
              "      <th>arms_category</th>\n",
              "    </tr>\n",
              "  </thead>\n",
              "  <tbody>\n",
              "    <tr>\n",
              "      <th>0</th>\n",
              "      <td>3</td>\n",
              "      <td>Tim Elliot</td>\n",
              "      <td>2015-01-02</td>\n",
              "      <td>shot</td>\n",
              "      <td>gun</td>\n",
              "      <td>53.0</td>\n",
              "      <td>M</td>\n",
              "      <td>Asian</td>\n",
              "      <td>Shelton</td>\n",
              "      <td>WA</td>\n",
              "      <td>True</td>\n",
              "      <td>attack</td>\n",
              "      <td>Not fleeing</td>\n",
              "      <td>False</td>\n",
              "      <td>Guns</td>\n",
              "    </tr>\n",
              "    <tr>\n",
              "      <th>1</th>\n",
              "      <td>4</td>\n",
              "      <td>Lewis Lee Lembke</td>\n",
              "      <td>2015-01-02</td>\n",
              "      <td>shot</td>\n",
              "      <td>gun</td>\n",
              "      <td>47.0</td>\n",
              "      <td>M</td>\n",
              "      <td>White</td>\n",
              "      <td>Aloha</td>\n",
              "      <td>OR</td>\n",
              "      <td>False</td>\n",
              "      <td>attack</td>\n",
              "      <td>Not fleeing</td>\n",
              "      <td>False</td>\n",
              "      <td>Guns</td>\n",
              "    </tr>\n",
              "    <tr>\n",
              "      <th>2</th>\n",
              "      <td>5</td>\n",
              "      <td>John Paul Quintero</td>\n",
              "      <td>2015-01-03</td>\n",
              "      <td>shot and Tasered</td>\n",
              "      <td>unarmed</td>\n",
              "      <td>23.0</td>\n",
              "      <td>M</td>\n",
              "      <td>Hispanic</td>\n",
              "      <td>Wichita</td>\n",
              "      <td>KS</td>\n",
              "      <td>False</td>\n",
              "      <td>other</td>\n",
              "      <td>Not fleeing</td>\n",
              "      <td>False</td>\n",
              "      <td>Unarmed</td>\n",
              "    </tr>\n",
              "    <tr>\n",
              "      <th>3</th>\n",
              "      <td>8</td>\n",
              "      <td>Matthew Hoffman</td>\n",
              "      <td>2015-01-04</td>\n",
              "      <td>shot</td>\n",
              "      <td>toy weapon</td>\n",
              "      <td>32.0</td>\n",
              "      <td>M</td>\n",
              "      <td>White</td>\n",
              "      <td>San Francisco</td>\n",
              "      <td>CA</td>\n",
              "      <td>True</td>\n",
              "      <td>attack</td>\n",
              "      <td>Not fleeing</td>\n",
              "      <td>False</td>\n",
              "      <td>Other unusual objects</td>\n",
              "    </tr>\n",
              "    <tr>\n",
              "      <th>4</th>\n",
              "      <td>9</td>\n",
              "      <td>Michael Rodriguez</td>\n",
              "      <td>2015-01-04</td>\n",
              "      <td>shot</td>\n",
              "      <td>nail gun</td>\n",
              "      <td>39.0</td>\n",
              "      <td>M</td>\n",
              "      <td>Hispanic</td>\n",
              "      <td>Evans</td>\n",
              "      <td>CO</td>\n",
              "      <td>False</td>\n",
              "      <td>attack</td>\n",
              "      <td>Not fleeing</td>\n",
              "      <td>False</td>\n",
              "      <td>Piercing objects</td>\n",
              "    </tr>\n",
              "  </tbody>\n",
              "</table>\n",
              "</div>\n",
              "      <button class=\"colab-df-convert\" onclick=\"convertToInteractive('df-f46f3623-2e1d-41b0-bf7b-cbc52f2b3046')\"\n",
              "              title=\"Convert this dataframe to an interactive table.\"\n",
              "              style=\"display:none;\">\n",
              "        \n",
              "  <svg xmlns=\"http://www.w3.org/2000/svg\" height=\"24px\"viewBox=\"0 0 24 24\"\n",
              "       width=\"24px\">\n",
              "    <path d=\"M0 0h24v24H0V0z\" fill=\"none\"/>\n",
              "    <path d=\"M18.56 5.44l.94 2.06.94-2.06 2.06-.94-2.06-.94-.94-2.06-.94 2.06-2.06.94zm-11 1L8.5 8.5l.94-2.06 2.06-.94-2.06-.94L8.5 2.5l-.94 2.06-2.06.94zm10 10l.94 2.06.94-2.06 2.06-.94-2.06-.94-.94-2.06-.94 2.06-2.06.94z\"/><path d=\"M17.41 7.96l-1.37-1.37c-.4-.4-.92-.59-1.43-.59-.52 0-1.04.2-1.43.59L10.3 9.45l-7.72 7.72c-.78.78-.78 2.05 0 2.83L4 21.41c.39.39.9.59 1.41.59.51 0 1.02-.2 1.41-.59l7.78-7.78 2.81-2.81c.8-.78.8-2.07 0-2.86zM5.41 20L4 18.59l7.72-7.72 1.47 1.35L5.41 20z\"/>\n",
              "  </svg>\n",
              "      </button>\n",
              "      \n",
              "  <style>\n",
              "    .colab-df-container {\n",
              "      display:flex;\n",
              "      flex-wrap:wrap;\n",
              "      gap: 12px;\n",
              "    }\n",
              "\n",
              "    .colab-df-convert {\n",
              "      background-color: #E8F0FE;\n",
              "      border: none;\n",
              "      border-radius: 50%;\n",
              "      cursor: pointer;\n",
              "      display: none;\n",
              "      fill: #1967D2;\n",
              "      height: 32px;\n",
              "      padding: 0 0 0 0;\n",
              "      width: 32px;\n",
              "    }\n",
              "\n",
              "    .colab-df-convert:hover {\n",
              "      background-color: #E2EBFA;\n",
              "      box-shadow: 0px 1px 2px rgba(60, 64, 67, 0.3), 0px 1px 3px 1px rgba(60, 64, 67, 0.15);\n",
              "      fill: #174EA6;\n",
              "    }\n",
              "\n",
              "    [theme=dark] .colab-df-convert {\n",
              "      background-color: #3B4455;\n",
              "      fill: #D2E3FC;\n",
              "    }\n",
              "\n",
              "    [theme=dark] .colab-df-convert:hover {\n",
              "      background-color: #434B5C;\n",
              "      box-shadow: 0px 1px 3px 1px rgba(0, 0, 0, 0.15);\n",
              "      filter: drop-shadow(0px 1px 2px rgba(0, 0, 0, 0.3));\n",
              "      fill: #FFFFFF;\n",
              "    }\n",
              "  </style>\n",
              "\n",
              "      <script>\n",
              "        const buttonEl =\n",
              "          document.querySelector('#df-f46f3623-2e1d-41b0-bf7b-cbc52f2b3046 button.colab-df-convert');\n",
              "        buttonEl.style.display =\n",
              "          google.colab.kernel.accessAllowed ? 'block' : 'none';\n",
              "\n",
              "        async function convertToInteractive(key) {\n",
              "          const element = document.querySelector('#df-f46f3623-2e1d-41b0-bf7b-cbc52f2b3046');\n",
              "          const dataTable =\n",
              "            await google.colab.kernel.invokeFunction('convertToInteractive',\n",
              "                                                     [key], {});\n",
              "          if (!dataTable) return;\n",
              "\n",
              "          const docLinkHtml = 'Like what you see? Visit the ' +\n",
              "            '<a target=\"_blank\" href=https://colab.research.google.com/notebooks/data_table.ipynb>data table notebook</a>'\n",
              "            + ' to learn more about interactive tables.';\n",
              "          element.innerHTML = '';\n",
              "          dataTable['output_type'] = 'display_data';\n",
              "          await google.colab.output.renderOutput(dataTable, element);\n",
              "          const docLink = document.createElement('div');\n",
              "          docLink.innerHTML = docLinkHtml;\n",
              "          element.appendChild(docLink);\n",
              "        }\n",
              "      </script>\n",
              "    </div>\n",
              "  </div>\n",
              "  "
            ]
          },
          "metadata": {},
          "execution_count": 5
        }
      ]
    },
    {
      "cell_type": "code",
      "source": [
        "print(df.shape)"
      ],
      "metadata": {
        "colab": {
          "base_uri": "https://localhost:8080/"
        },
        "id": "K7k-aj8WNVks",
        "outputId": "a4708c73-a768-444c-93da-0daf30c23663"
      },
      "id": "K7k-aj8WNVks",
      "execution_count": 6,
      "outputs": [
        {
          "output_type": "stream",
          "name": "stdout",
          "text": [
            "(4895, 15)\n"
          ]
        }
      ]
    },
    {
      "cell_type": "markdown",
      "id": "5ee1cfc9",
      "metadata": {
        "id": "5ee1cfc9"
      },
      "source": [
        "- Выборка включает **4895** записей.\n"
      ]
    },
    {
      "cell_type": "code",
      "source": [
        "df.info()"
      ],
      "metadata": {
        "colab": {
          "base_uri": "https://localhost:8080/"
        },
        "id": "VcWkmRo9NtcP",
        "outputId": "62535b97-273e-4a4a-c507-b49fd668d381"
      },
      "id": "VcWkmRo9NtcP",
      "execution_count": 7,
      "outputs": [
        {
          "output_type": "stream",
          "name": "stdout",
          "text": [
            "<class 'pandas.core.frame.DataFrame'>\n",
            "RangeIndex: 4895 entries, 0 to 4894\n",
            "Data columns (total 15 columns):\n",
            " #   Column                   Non-Null Count  Dtype  \n",
            "---  ------                   --------------  -----  \n",
            " 0   id                       4895 non-null   int64  \n",
            " 1   name                     4895 non-null   object \n",
            " 2   date                     4895 non-null   object \n",
            " 3   manner_of_death          4895 non-null   object \n",
            " 4   armed                    4895 non-null   object \n",
            " 5   age                      4895 non-null   float64\n",
            " 6   gender                   4895 non-null   object \n",
            " 7   race                     4895 non-null   object \n",
            " 8   city                     4895 non-null   object \n",
            " 9   state                    4895 non-null   object \n",
            " 10  signs_of_mental_illness  4895 non-null   bool   \n",
            " 11  threat_level             4895 non-null   object \n",
            " 12  flee                     4895 non-null   object \n",
            " 13  body_camera              4895 non-null   bool   \n",
            " 14  arms_category            4895 non-null   object \n",
            "dtypes: bool(2), float64(1), int64(1), object(11)\n",
            "memory usage: 506.8+ KB\n"
          ]
        }
      ]
    },
    {
      "cell_type": "markdown",
      "source": [
        "Описание признаков\n",
        "\n",
        "|  Название  | Описание | Тип |\n",
        "|---         |--:       |     |\n",
        "| **id** | идентификтор | количественный |\n",
        "| **name** | Имя застреленного человека | строковой |\n",
        "| **date** | Дата события | дата, yyyy-mm-dd format  |\n",
        "| **manner_of_death** | Каким способом было произведено убийство | строковой |\n",
        "| **armed** | Вооружение | строковый |\n",
        "| **age** | Возраст расстрелянного человека | количественный |\n",
        "| **gender** | Пол расстрелянного человека | качественный\n",
        "| **race** | Расса растрялянного человека | строковый\n",
        "| **city** | Город происшествия | строковой |\n",
        "| **state** |  Штат происшествия | строковой |\n",
        "| **signs_of_mental_illness** | Признаки психический заболеваний | бинарный |\n",
        "| **threat_level** | Уровень угрозы | строковой |\n",
        "| **flee** | Как пыталась скрыться жертва | строковой\n",
        "| **body_camera** | Наличие видеокамеры, заснявшей происшествие | бинарный |\n",
        "| **arms_category** | Категория орежия | строковой |\n",
        "\n",
        "Целевая переменная: **Race** – раса убитого полицией человека, строкой. Потом мы будем строить модели, прогнозирующие этот признак по остальным, поэтому мы и назвали его целевым. \n"
      ],
      "metadata": {
        "id": "_nz5Oz_DNsar"
      },
      "id": "_nz5Oz_DNsar"
    },
    {
      "cell_type": "markdown",
      "id": "57b965b9",
      "metadata": {
        "id": "57b965b9"
      },
      "source": [
        "## Первичный и визуальный анализ данных"
      ]
    },
    {
      "cell_type": "markdown",
      "id": "ba9395df",
      "metadata": {
        "id": "ba9395df"
      },
      "source": [
        "- выгрузка данных\n",
        "- основные харакетристики переменных в численном и визуальном представлении\n",
        "- взаимодействие между параметрами (корреляция и прочее)\n",
        "- проверка на нормальность\n",
        "- обработка пропусков в данных\n",
        "- выявление и удаление выбросов и шума в данных"
      ]
    },
    {
      "cell_type": "code",
      "execution_count": 8,
      "id": "bdb6459f",
      "metadata": {
        "id": "bdb6459f",
        "colab": {
          "base_uri": "https://localhost:8080/"
        },
        "outputId": "9e7d09f5-1e9d-483e-e2a5-15dca249ffb7"
      },
      "outputs": [
        {
          "output_type": "execute_result",
          "data": {
            "text/plain": [
              "White       2476\n",
              "Black       1298\n",
              "Hispanic     902\n",
              "Asian         93\n",
              "Native        78\n",
              "Other         48\n",
              "Name: race, dtype: int64"
            ]
          },
          "metadata": {},
          "execution_count": 8
        }
      ],
      "source": [
        "df['race'].value_counts()"
      ]
    },
    {
      "cell_type": "code",
      "source": [
        "df['race'].value_counts().plot(kind='bar', label='race')\n",
        "plt.title(\"Распределений по расам людей, убитых полицией\")"
      ],
      "metadata": {
        "colab": {
          "base_uri": "https://localhost:8080/",
          "height": 549
        },
        "id": "2kKgL_tYPD0t",
        "outputId": "701faae6-8b96-4c05-9466-b91eaa71c69c"
      },
      "id": "2kKgL_tYPD0t",
      "execution_count": 9,
      "outputs": [
        {
          "output_type": "execute_result",
          "data": {
            "text/plain": [
              "Text(0.5, 1.0, 'Распределений по расам людей, убитых полицией')"
            ]
          },
          "metadata": {},
          "execution_count": 9
        },
        {
          "output_type": "display_data",
          "data": {
            "text/plain": [
              "<Figure size 720x576 with 1 Axes>"
            ],
            "image/png": "[encoded data removed]"
          },
          "metadata": {
            "needs_background": "light"
          }
        }
      ]
    },
    {
      "cell_type": "markdown",
      "source": [
        "По графику можно заметить, что людей белой расы убивают чаще. Но если обратиться к википедии и узнать какое процентное соотношение рас в Америке, можно сделать вывод - чернокожего человека с большей вероятностью застрелят, чем белого. На этом можно закончить анализ датасета, но это не по-самурайски, поэтому двигаемся дальше)"
      ],
      "metadata": {
        "id": "jngAOS3BPKeU"
      },
      "id": "jngAOS3BPKeU"
    },
    {
      "cell_type": "code",
      "source": [
        "df['gender'].value_counts().plot(kind='bar', label='race')\n",
        "plt.title(\"Распределений по полу\")"
      ],
      "metadata": {
        "colab": {
          "base_uri": "https://localhost:8080/",
          "height": 514
        },
        "id": "UNaFz75ZPF8c",
        "outputId": "938575af-b04f-4962-bdaa-35cde6e002ee"
      },
      "id": "UNaFz75ZPF8c",
      "execution_count": 10,
      "outputs": [
        {
          "output_type": "execute_result",
          "data": {
            "text/plain": [
              "Text(0.5, 1.0, 'Распределений по полу')"
            ]
          },
          "metadata": {},
          "execution_count": 10
        },
        {
          "output_type": "display_data",
          "data": {
            "text/plain": [
              "<Figure size 720x576 with 1 Axes>"
            ],
            "image/png": "[encoded data removed]"
          },
          "metadata": {
            "needs_background": "light"
          }
        }
      ]
    },
    {
      "cell_type": "markdown",
      "source": [
        "**men moment**"
      ],
      "metadata": {
        "id": "593bLDE6bdeo"
      },
      "id": "593bLDE6bdeo"
    },
    {
      "cell_type": "markdown",
      "source": [
        "![2_1651726653_1651726984.jpg](data:image/jpeg;base64,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)"
      ],
      "metadata": {
        "id": "27-LewHnbKVn"
      },
      "id": "27-LewHnbKVn"
    },
    {
      "cell_type": "code",
      "source": [
        "df['state'].unique()"
      ],
      "metadata": {
        "colab": {
          "base_uri": "https://localhost:8080/"
        },
        "id": "-m_b1PnYPn-M",
        "outputId": "b7d8de2b-f9bc-4c3e-93a9-521e82a01fd9"
      },
      "id": "-m_b1PnYPn-M",
      "execution_count": 11,
      "outputs": [
        {
          "output_type": "execute_result",
          "data": {
            "text/plain": [
              "array(['WA', 'OR', 'KS', 'CA', 'CO', 'OK', 'AZ', 'IA', 'PA', 'TX', 'OH',\n",
              "       'LA', 'MT', 'UT', 'AR', 'IL', 'NV', 'NM', 'MN', 'MO', 'VA', 'NJ',\n",
              "       'IN', 'KY', 'MA', 'NH', 'FL', 'ID', 'MD', 'NE', 'MI', 'GA', 'TN',\n",
              "       'NC', 'AK', 'NY', 'ME', 'AL', 'MS', 'WI', 'SC', 'DE', 'DC', 'WV',\n",
              "       'HI', 'WY', 'ND', 'CT', 'SD', 'VT', 'RI'], dtype=object)"
            ]
          },
          "metadata": {},
          "execution_count": 11
        }
      ]
    },
    {
      "cell_type": "markdown",
      "source": [
        "**Преобразуем коды штатов в полные названия:**"
      ],
      "metadata": {
        "id": "PHJ7RhzNP02g"
      },
      "id": "PHJ7RhzNP02g"
    },
    {
      "cell_type": "code",
      "source": [
        "def state(x):\n",
        "    if x=='AL':\n",
        "        return('Alabama')\n",
        "    elif x=='AK':\n",
        "        return('Alaska')\n",
        "    elif x=='AZ':\n",
        "        return('Arizona')\n",
        "    elif x=='AR':\n",
        "        return('Arkansas')\n",
        "    elif x=='AZ':\n",
        "        return('Arizona')\n",
        "    elif x=='CA':\n",
        "        return('California')\n",
        "    elif x=='CO':\n",
        "        return('Colorado')\n",
        "    elif x=='CT':\n",
        "        return('Connecticut')\n",
        "    elif x=='DE':\n",
        "        return('Delaware')\n",
        "    elif x=='FL':\n",
        "        return('Florida')\n",
        "    elif x=='GE':\n",
        "        return('Georgia')\n",
        "    elif x=='HI':\n",
        "        return('Hawaii')\n",
        "    elif x=='FL':\n",
        "        return('Idaho')\n",
        "    elif x=='IL':\n",
        "        return('Illinois')\n",
        "    elif x=='IN':\n",
        "        return('Indiana')\n",
        "    elif x=='IA':\n",
        "        return('Iowa')\n",
        "    elif x=='KS':\n",
        "        return('Kansas')\n",
        "    elif x=='KY':\n",
        "        return('Kentucky')\n",
        "    elif x=='LA':\n",
        "        return('Louisiana')\n",
        "    elif x=='ME':\n",
        "        return('Maine')\n",
        "    elif x=='MD':\n",
        "        return('Maryland')\n",
        "    elif x=='MA':\n",
        "        return('Massachusetts')\n",
        "    elif x=='MI':\n",
        "        return('Michigan')\n",
        "    elif x=='MN':\n",
        "        return('Minnesota')\n",
        "    elif x=='MS':\n",
        "        return('Mississippi')\n",
        "    elif x=='MO':\n",
        "        return('Missouri')\n",
        "    elif x=='MT':\n",
        "        return('Montana')\n",
        "    elif x=='NE':\n",
        "        return('Nebraska')\n",
        "    elif x=='NV':\n",
        "        return('Nevada')\n",
        "    elif x=='NH':\n",
        "        return('New Hampshire')\n",
        "    elif x=='NJ':\n",
        "        return('New Jersey')\n",
        "    elif x=='NM':\n",
        "        return('New Mexico')\n",
        "    elif x=='NY':\n",
        "        return('New York')\n",
        "    elif x=='NC':\n",
        "        return('North Carolina')\n",
        "    elif x=='ND':\n",
        "        return('North Dakota')\n",
        "    elif x=='OH':\n",
        "        return('Ohio')\n",
        "    elif x=='OK':\n",
        "        return('Oklahoma')\n",
        "    elif x=='OR':\n",
        "        return('Oregon')\n",
        "    elif x=='PA':\n",
        "        return('Pennsylvania')\n",
        "    elif x=='RI':\n",
        "        return('Rhode Island')\n",
        "    elif x=='SC':\n",
        "        return('South Carolina')\n",
        "    elif x=='SD':\n",
        "        return('South Dakota')\n",
        "    elif x=='TN':\n",
        "        return('Tennessee')\n",
        "    elif x=='TX':\n",
        "        return('Texas')\n",
        "    elif x=='UT':\n",
        "        return('Utah')\n",
        "    elif x=='VT':\n",
        "        return('Vermont')\n",
        "    elif x=='VA':\n",
        "        return('Virginia')\n",
        "    elif x=='WA':\n",
        "        return('Washington')\n",
        "    elif x=='WV':\n",
        "        return('West Virginia')\n",
        "    elif x=='WI':\n",
        "        return('Wisconsin')\n",
        "    else:\n",
        "        return('Wyoming')\n",
        "\n",
        "df['state'] = df['state'].apply(state)\n",
        "df['state'].unique()"
      ],
      "metadata": {
        "id": "XJgyTZJvPz-l",
        "colab": {
          "base_uri": "https://localhost:8080/"
        },
        "outputId": "940324e0-b7ac-4d60-e11f-5023e27ca6f7"
      },
      "id": "XJgyTZJvPz-l",
      "execution_count": 12,
      "outputs": [
        {
          "output_type": "execute_result",
          "data": {
            "text/plain": [
              "array(['Washington', 'Oregon', 'Kansas', 'California', 'Colorado',\n",
              "       'Oklahoma', 'Arizona', 'Iowa', 'Pennsylvania', 'Texas', 'Ohio',\n",
              "       'Louisiana', 'Montana', 'Utah', 'Arkansas', 'Illinois', 'Nevada',\n",
              "       'New Mexico', 'Minnesota', 'Missouri', 'Virginia', 'New Jersey',\n",
              "       'Indiana', 'Kentucky', 'Massachusetts', 'New Hampshire', 'Florida',\n",
              "       'Wyoming', 'Maryland', 'Nebraska', 'Michigan', 'Tennessee',\n",
              "       'North Carolina', 'Alaska', 'New York', 'Maine', 'Alabama',\n",
              "       'Mississippi', 'Wisconsin', 'South Carolina', 'Delaware',\n",
              "       'West Virginia', 'Hawaii', 'North Dakota', 'Connecticut',\n",
              "       'South Dakota', 'Vermont', 'Rhode Island'], dtype=object)"
            ]
          },
          "metadata": {},
          "execution_count": 12
        }
      ]
    },
    {
      "cell_type": "markdown",
      "source": [
        "**Добавим в таблицу новый столбец, обзначающий регион, в котором было совершено убийство**\n",
        "\n",
        "---\n",
        "\n"
      ],
      "metadata": {
        "id": "Zxfg4o37RaYS"
      },
      "id": "Zxfg4o37RaYS"
    },
    {
      "cell_type": "code",
      "source": [
        "def Region(x):\n",
        "    if x=='Alabama':\n",
        "        return('south')\n",
        "    elif x=='Alaska':\n",
        "        return('west')\n",
        "    elif x=='Arizona':\n",
        "        return('west')\n",
        "    elif x=='Arkansas':\n",
        "        return('south')\n",
        "    elif x=='California':\n",
        "        return('west')\n",
        "    elif x=='Colorado':\n",
        "        return('west')\n",
        "    elif x=='Connecticut':\n",
        "        return('northeast')\n",
        "    elif x=='Delaware':\n",
        "        return('south')\n",
        "    elif x=='Florida':\n",
        "        return('south')\n",
        "    elif x=='Georgia':\n",
        "        return('south')\n",
        "    elif x=='Hawaii':\n",
        "        return('west')\n",
        "    elif x=='Idaho':\n",
        "        return('west')\n",
        "    elif x=='Illinois':\n",
        "        return('Midwest')\n",
        "    elif x=='Indiana':\n",
        "        return('Midwest')\n",
        "    elif x=='Iowa':\n",
        "        return('Midwest')\n",
        "    elif x=='Kansas':\n",
        "        return('Midwest')\n",
        "    elif x=='Kentucky':\n",
        "        return('south')\n",
        "    elif x=='Louisiana':\n",
        "        return('south')\n",
        "    elif x=='Maine':\n",
        "        return('northeast')\n",
        "    elif x=='Maryland':\n",
        "        return('south')\n",
        "    elif x=='Massachusetts':\n",
        "        return('northeast')\n",
        "    elif x=='Michigan':\n",
        "        return('Midwest')\n",
        "    elif x=='Minnesota':\n",
        "        return('Midwest')\n",
        "    elif x=='Mississippi':\n",
        "        return('south')\n",
        "    elif x=='Missouri':\n",
        "        return('Midwest')\n",
        "    elif x=='Montana':\n",
        "        return('west')\n",
        "    elif x=='Nebraska':\n",
        "        return('Midwest')\n",
        "    elif x=='Nevada':\n",
        "        return('west')\n",
        "    elif x=='New Hampshire':\n",
        "        return('northeast')\n",
        "    elif x=='New Jersey':\n",
        "        return('northeast')\n",
        "    elif x=='New Mexico':\n",
        "        return('west')\n",
        "    elif x=='New York':\n",
        "        return('northeast')\n",
        "    elif x=='North Carolina':\n",
        "        return('south')\n",
        "    elif x=='North Dakota':\n",
        "        return('Midwest')\n",
        "    elif x=='Ohio':\n",
        "        return('Midwest')\n",
        "    elif x=='Oklahoma':\n",
        "        return('south')\n",
        "    elif x=='Oregon':\n",
        "        return('west')\n",
        "    elif x=='Pennsylvania':\n",
        "        return('northeast')\n",
        "    elif x=='Rhode Island':\n",
        "        return('northeast')\n",
        "    elif x=='South Carolina':\n",
        "        return('south')\n",
        "    elif x=='South Dakota':\n",
        "        return('Midwest')\n",
        "    elif x=='Tennessee':\n",
        "        return('south')\n",
        "    elif x=='Texas':\n",
        "        return('south')\n",
        "    elif x=='Utah':\n",
        "        return('west')\n",
        "    elif x=='Vermont':\n",
        "        return('northeast')\n",
        "    elif x=='Virginia':\n",
        "        return('south')\n",
        "    elif x=='Washington':\n",
        "        return('west')\n",
        "    elif x=='West Virginia':\n",
        "        return('south')\n",
        "    elif x=='Wisconsin':\n",
        "        return('Midwest')\n",
        "    elif x=='Wyoming':\n",
        "        return('west')\n",
        "df['region']=df['state'].apply(Region)\n",
        "df['region'].unique()    "
      ],
      "metadata": {
        "colab": {
          "base_uri": "https://localhost:8080/"
        },
        "id": "NnYxBqQ2QofW",
        "outputId": "8b6946eb-d163-4236-ed27-de538c8ad889"
      },
      "id": "NnYxBqQ2QofW",
      "execution_count": 13,
      "outputs": [
        {
          "output_type": "execute_result",
          "data": {
            "text/plain": [
              "array(['west', 'Midwest', 'south', 'northeast'], dtype=object)"
            ]
          },
          "metadata": {},
          "execution_count": 13
        }
      ]
    },
    {
      "cell_type": "code",
      "source": [
        "sns.histplot(df['region'])"
      ],
      "metadata": {
        "colab": {
          "base_uri": "https://localhost:8080/",
          "height": 514
        },
        "id": "2Im_DHAeRGTX",
        "outputId": "5dba819a-1ca1-4f2f-d062-80de0ce70ade"
      },
      "id": "2Im_DHAeRGTX",
      "execution_count": 14,
      "outputs": [
        {
          "output_type": "execute_result",
          "data": {
            "text/plain": [
              "<matplotlib.axes._subplots.AxesSubplot at 0x7ff66385d850>"
            ]
          },
          "metadata": {},
          "execution_count": 14
        },
        {
          "output_type": "display_data",
          "data": {
            "text/plain": [
              "<Figure size 720x576 with 1 Axes>"
            ],
            "image/png": "[encoded data removed]"
          },
          "metadata": {
            "needs_background": "light"
          }
        }
      ]
    },
    {
      "cell_type": "code",
      "source": [
        "df['region'].isnull().sum()"
      ],
      "metadata": {
        "colab": {
          "base_uri": "https://localhost:8080/"
        },
        "id": "GIO-jTAaWGxv",
        "outputId": "57c561c2-d482-48b7-ba74-ab88c703b39f"
      },
      "id": "GIO-jTAaWGxv",
      "execution_count": 15,
      "outputs": [
        {
          "output_type": "execute_result",
          "data": {
            "text/plain": [
              "0"
            ]
          },
          "metadata": {},
          "execution_count": 15
        }
      ]
    },
    {
      "cell_type": "code",
      "source": [
        "df['race'].unique()"
      ],
      "metadata": {
        "colab": {
          "base_uri": "https://localhost:8080/"
        },
        "id": "1-TiwJ6oWZKQ",
        "outputId": "c2e2f555-af53-44e5-cc97-d45d7f84c83e"
      },
      "id": "1-TiwJ6oWZKQ",
      "execution_count": 16,
      "outputs": [
        {
          "output_type": "execute_result",
          "data": {
            "text/plain": [
              "array(['Asian', 'White', 'Hispanic', 'Black', 'Other', 'Native'],\n",
              "      dtype=object)"
            ]
          },
          "metadata": {},
          "execution_count": 16
        }
      ]
    },
    {
      "cell_type": "code",
      "source": [
        "df['manner_of_death'].unique()"
      ],
      "metadata": {
        "colab": {
          "base_uri": "https://localhost:8080/"
        },
        "id": "wyYLGshKWaQ8",
        "outputId": "8aa14a0c-082d-4afc-cf06-9a699bbce26c"
      },
      "id": "wyYLGshKWaQ8",
      "execution_count": 17,
      "outputs": [
        {
          "output_type": "execute_result",
          "data": {
            "text/plain": [
              "array(['shot', 'shot and Tasered'], dtype=object)"
            ]
          },
          "metadata": {},
          "execution_count": 17
        }
      ]
    },
    {
      "cell_type": "code",
      "source": [
        "sns.histplot(df['manner_of_death'])"
      ],
      "metadata": {
        "colab": {
          "base_uri": "https://localhost:8080/",
          "height": 515
        },
        "id": "SZCCYMhFWcBC",
        "outputId": "53898f20-15cf-4ea6-ed39-72dd08264b20"
      },
      "id": "SZCCYMhFWcBC",
      "execution_count": 18,
      "outputs": [
        {
          "output_type": "execute_result",
          "data": {
            "text/plain": [
              "<matplotlib.axes._subplots.AxesSubplot at 0x7ff6631d3040>"
            ]
          },
          "metadata": {},
          "execution_count": 18
        },
        {
          "output_type": "display_data",
          "data": {
            "text/plain": [
              "<Figure size 720x576 with 1 Axes>"
            ],
            "image/png": "[encoded data removed]"
          },
          "metadata": {
            "needs_background": "light"
          }
        }
      ]
    },
    {
      "cell_type": "code",
      "source": [
        "df['armed'].unique()"
      ],
      "metadata": {
        "colab": {
          "base_uri": "https://localhost:8080/"
        },
        "id": "lsI1G0B0WeeQ",
        "outputId": "ade8d6cc-caa1-4af9-b63f-6c8517103f6b"
      },
      "id": "lsI1G0B0WeeQ",
      "execution_count": 19,
      "outputs": [
        {
          "output_type": "execute_result",
          "data": {
            "text/plain": [
              "array(['gun', 'unarmed', 'toy weapon', 'nail gun', 'knife', 'unknown',\n",
              "       'shovel', 'hammer', 'hatchet', 'sword', 'machete', 'box cutter',\n",
              "       'metal object', 'screwdriver', 'lawn mower blade', 'flagpole',\n",
              "       'guns and explosives', 'cordless drill', 'metal pole', 'Taser',\n",
              "       'metal pipe', 'metal hand tool', 'blunt object', 'metal stick',\n",
              "       'sharp object', 'meat cleaver', 'carjack', 'chain',\n",
              "       \"contractor's level\", 'stapler', 'crossbow', 'bean-bag gun',\n",
              "       'baseball bat and fireplace poker', 'straight edge razor',\n",
              "       'gun and knife', 'ax', 'brick', 'baseball bat', 'hand torch',\n",
              "       'chain saw', 'garden tool', 'scissors', 'pole', 'pick-axe',\n",
              "       'flashlight', 'vehicle', 'spear', 'chair', 'pitchfork',\n",
              "       'hatchet and gun', 'rock', 'piece of wood', 'bayonet', 'pipe',\n",
              "       'glass shard', 'motorcycle', 'pepper spray', 'metal rake', 'baton',\n",
              "       'crowbar', 'oar', 'machete and gun', 'air conditioner',\n",
              "       'pole and knife', 'beer bottle', 'baseball bat and bottle',\n",
              "       'fireworks', 'pen', 'chainsaw', 'gun and sword', 'gun and car',\n",
              "       'pellet gun', 'BB gun', 'incendiary device', 'samurai sword',\n",
              "       'bow and arrow', 'gun and vehicle', 'vehicle and gun', 'wrench',\n",
              "       'walking stick', 'barstool', 'grenade', 'BB gun and vehicle',\n",
              "       'wasp spray', 'air pistol', 'baseball bat and knife',\n",
              "       'vehicle and machete', 'ice pick', 'car, knife and mace'],\n",
              "      dtype=object)"
            ]
          },
          "metadata": {},
          "execution_count": 19
        }
      ]
    },
    {
      "cell_type": "markdown",
      "source": [
        "**Добави новые столбы в таблицу: год, месяц, день, квартал, неделя.**"
      ],
      "metadata": {
        "id": "LuD-mwECWjBZ"
      },
      "id": "LuD-mwECWjBZ"
    },
    {
      "cell_type": "code",
      "source": [
        "def year(x):\n",
        "    return x.split('-')[0]\n",
        "\n",
        "def month(x):\n",
        "  return x.split('-')[1]\n",
        "\n",
        "def day(x):\n",
        "    return x.split('-')[2]\n",
        "\n",
        "def quarter(x):\n",
        "    if x <= 3:\n",
        "        return(1)\n",
        "    elif x <=6:\n",
        "        return(2)\n",
        "    elif x <= 9:\n",
        "        return(3)\n",
        "    else:\n",
        "        return(4) \n",
        "\n",
        "df['year'] = df['date'].apply(year)\n",
        "df['month'] = df['date'].apply(month).astype(int)\n",
        "df['day'] = df['date'].apply(day).astype(int)\n",
        "df['quarter'] = df['month'].apply(quarter)\n",
        "df['week']=(((((df['month']-1)*30)+df['day'])/7)+1).astype(int)\n",
        "\n",
        "df.head()"
      ],
      "metadata": {
        "colab": {
          "base_uri": "https://localhost:8080/",
          "height": 333
        },
        "id": "KylhPzVdWf0_",
        "outputId": "c8e4f642-3783-4c2f-8ab3-986946f4fee9"
      },
      "id": "KylhPzVdWf0_",
      "execution_count": 23,
      "outputs": [
        {
          "output_type": "execute_result",
          "data": {
            "text/plain": [
              "   id                name        date   manner_of_death       armed   age  \\\n",
              "0   3          Tim Elliot  2015-01-02              shot         gun  53.0   \n",
              "1   4    Lewis Lee Lembke  2015-01-02              shot         gun  47.0   \n",
              "2   5  John Paul Quintero  2015-01-03  shot and Tasered     unarmed  23.0   \n",
              "3   8     Matthew Hoffman  2015-01-04              shot  toy weapon  32.0   \n",
              "4   9   Michael Rodriguez  2015-01-04              shot    nail gun  39.0   \n",
              "\n",
              "  gender      race           city       state  signs_of_mental_illness  \\\n",
              "0      M     Asian        Shelton  Washington                     True   \n",
              "1      M     White          Aloha      Oregon                    False   \n",
              "2      M  Hispanic        Wichita      Kansas                    False   \n",
              "3      M     White  San Francisco  California                     True   \n",
              "4      M  Hispanic          Evans    Colorado                    False   \n",
              "\n",
              "  threat_level         flee  body_camera          arms_category   region  \\\n",
              "0       attack  Not fleeing        False                   Guns     west   \n",
              "1       attack  Not fleeing        False                   Guns     west   \n",
              "2        other  Not fleeing        False                Unarmed  Midwest   \n",
              "3       attack  Not fleeing        False  Other unusual objects     west   \n",
              "4       attack  Not fleeing        False       Piercing objects     west   \n",
              "\n",
              "   year  month  day  quarter  week  \n",
              "0  2015      1    2        1     1  \n",
              "1  2015      1    2        1     1  \n",
              "2  2015      1    3        1     1  \n",
              "3  2015      1    4        1     1  \n",
              "4  2015      1    4        1     1  "
            ],
            "text/html": [
              "\n",
              "  <div id=\"df-30c01ba5-d0d5-48aa-a8a8-96b9646427d4\">\n",
              "    <div class=\"colab-df-container\">\n",
              "      <div>\n",
              "<style scoped>\n",
              "    .dataframe tbody tr th:only-of-type {\n",
              "        vertical-align: middle;\n",
              "    }\n",
              "\n",
              "    .dataframe tbody tr th {\n",
              "        vertical-align: top;\n",
              "    }\n",
              "\n",
              "    .dataframe thead th {\n",
              "        text-align: right;\n",
              "    }\n",
              "</style>\n",
              "<table border=\"1\" class=\"dataframe\">\n",
              "  <thead>\n",
              "    <tr style=\"text-align: right;\">\n",
              "      <th></th>\n",
              "      <th>id</th>\n",
              "      <th>name</th>\n",
              "      <th>date</th>\n",
              "      <th>manner_of_death</th>\n",
              "      <th>armed</th>\n",
              "      <th>age</th>\n",
              "      <th>gender</th>\n",
              "      <th>race</th>\n",
              "      <th>city</th>\n",
              "      <th>state</th>\n",
              "      <th>signs_of_mental_illness</th>\n",
              "      <th>threat_level</th>\n",
              "      <th>flee</th>\n",
              "      <th>body_camera</th>\n",
              "      <th>arms_category</th>\n",
              "      <th>region</th>\n",
              "      <th>year</th>\n",
              "      <th>month</th>\n",
              "      <th>day</th>\n",
              "      <th>quarter</th>\n",
              "      <th>week</th>\n",
              "    </tr>\n",
              "  </thead>\n",
              "  <tbody>\n",
              "    <tr>\n",
              "      <th>0</th>\n",
              "      <td>3</td>\n",
              "      <td>Tim Elliot</td>\n",
              "      <td>2015-01-02</td>\n",
              "      <td>shot</td>\n",
              "      <td>gun</td>\n",
              "      <td>53.0</td>\n",
              "      <td>M</td>\n",
              "      <td>Asian</td>\n",
              "      <td>Shelton</td>\n",
              "      <td>Washington</td>\n",
              "      <td>True</td>\n",
              "      <td>attack</td>\n",
              "      <td>Not fleeing</td>\n",
              "      <td>False</td>\n",
              "      <td>Guns</td>\n",
              "      <td>west</td>\n",
              "      <td>2015</td>\n",
              "      <td>1</td>\n",
              "      <td>2</td>\n",
              "      <td>1</td>\n",
              "      <td>1</td>\n",
              "    </tr>\n",
              "    <tr>\n",
              "      <th>1</th>\n",
              "      <td>4</td>\n",
              "      <td>Lewis Lee Lembke</td>\n",
              "      <td>2015-01-02</td>\n",
              "      <td>shot</td>\n",
              "      <td>gun</td>\n",
              "      <td>47.0</td>\n",
              "      <td>M</td>\n",
              "      <td>White</td>\n",
              "      <td>Aloha</td>\n",
              "      <td>Oregon</td>\n",
              "      <td>False</td>\n",
              "      <td>attack</td>\n",
              "      <td>Not fleeing</td>\n",
              "      <td>False</td>\n",
              "      <td>Guns</td>\n",
              "      <td>west</td>\n",
              "      <td>2015</td>\n",
              "      <td>1</td>\n",
              "      <td>2</td>\n",
              "      <td>1</td>\n",
              "      <td>1</td>\n",
              "    </tr>\n",
              "    <tr>\n",
              "      <th>2</th>\n",
              "      <td>5</td>\n",
              "      <td>John Paul Quintero</td>\n",
              "      <td>2015-01-03</td>\n",
              "      <td>shot and Tasered</td>\n",
              "      <td>unarmed</td>\n",
              "      <td>23.0</td>\n",
              "      <td>M</td>\n",
              "      <td>Hispanic</td>\n",
              "      <td>Wichita</td>\n",
              "      <td>Kansas</td>\n",
              "      <td>False</td>\n",
              "      <td>other</td>\n",
              "      <td>Not fleeing</td>\n",
              "      <td>False</td>\n",
              "      <td>Unarmed</td>\n",
              "      <td>Midwest</td>\n",
              "      <td>2015</td>\n",
              "      <td>1</td>\n",
              "      <td>3</td>\n",
              "      <td>1</td>\n",
              "      <td>1</td>\n",
              "    </tr>\n",
              "    <tr>\n",
              "      <th>3</th>\n",
              "      <td>8</td>\n",
              "      <td>Matthew Hoffman</td>\n",
              "      <td>2015-01-04</td>\n",
              "      <td>shot</td>\n",
              "      <td>toy weapon</td>\n",
              "      <td>32.0</td>\n",
              "      <td>M</td>\n",
              "      <td>White</td>\n",
              "      <td>San Francisco</td>\n",
              "      <td>California</td>\n",
              "      <td>True</td>\n",
              "      <td>attack</td>\n",
              "      <td>Not fleeing</td>\n",
              "      <td>False</td>\n",
              "      <td>Other unusual objects</td>\n",
              "      <td>west</td>\n",
              "      <td>2015</td>\n",
              "      <td>1</td>\n",
              "      <td>4</td>\n",
              "      <td>1</td>\n",
              "      <td>1</td>\n",
              "    </tr>\n",
              "    <tr>\n",
              "      <th>4</th>\n",
              "      <td>9</td>\n",
              "      <td>Michael Rodriguez</td>\n",
              "      <td>2015-01-04</td>\n",
              "      <td>shot</td>\n",
              "      <td>nail gun</td>\n",
              "      <td>39.0</td>\n",
              "      <td>M</td>\n",
              "      <td>Hispanic</td>\n",
              "      <td>Evans</td>\n",
              "      <td>Colorado</td>\n",
              "      <td>False</td>\n",
              "      <td>attack</td>\n",
              "      <td>Not fleeing</td>\n",
              "      <td>False</td>\n",
              "      <td>Piercing objects</td>\n",
              "      <td>west</td>\n",
              "      <td>2015</td>\n",
              "      <td>1</td>\n",
              "      <td>4</td>\n",
              "      <td>1</td>\n",
              "      <td>1</td>\n",
              "    </tr>\n",
              "  </tbody>\n",
              "</table>\n",
              "</div>\n",
              "      <button class=\"colab-df-convert\" onclick=\"convertToInteractive('df-30c01ba5-d0d5-48aa-a8a8-96b9646427d4')\"\n",
              "              title=\"Convert this dataframe to an interactive table.\"\n",
              "              style=\"display:none;\">\n",
              "        \n",
              "  <svg xmlns=\"http://www.w3.org/2000/svg\" height=\"24px\"viewBox=\"0 0 24 24\"\n",
              "       width=\"24px\">\n",
              "    <path d=\"M0 0h24v24H0V0z\" fill=\"none\"/>\n",
              "    <path d=\"M18.56 5.44l.94 2.06.94-2.06 2.06-.94-2.06-.94-.94-2.06-.94 2.06-2.06.94zm-11 1L8.5 8.5l.94-2.06 2.06-.94-2.06-.94L8.5 2.5l-.94 2.06-2.06.94zm10 10l.94 2.06.94-2.06 2.06-.94-2.06-.94-.94-2.06-.94 2.06-2.06.94z\"/><path d=\"M17.41 7.96l-1.37-1.37c-.4-.4-.92-.59-1.43-.59-.52 0-1.04.2-1.43.59L10.3 9.45l-7.72 7.72c-.78.78-.78 2.05 0 2.83L4 21.41c.39.39.9.59 1.41.59.51 0 1.02-.2 1.41-.59l7.78-7.78 2.81-2.81c.8-.78.8-2.07 0-2.86zM5.41 20L4 18.59l7.72-7.72 1.47 1.35L5.41 20z\"/>\n",
              "  </svg>\n",
              "      </button>\n",
              "      \n",
              "  <style>\n",
              "    .colab-df-container {\n",
              "      display:flex;\n",
              "      flex-wrap:wrap;\n",
              "      gap: 12px;\n",
              "    }\n",
              "\n",
              "    .colab-df-convert {\n",
              "      background-color: #E8F0FE;\n",
              "      border: none;\n",
              "      border-radius: 50%;\n",
              "      cursor: pointer;\n",
              "      display: none;\n",
              "      fill: #1967D2;\n",
              "      height: 32px;\n",
              "      padding: 0 0 0 0;\n",
              "      width: 32px;\n",
              "    }\n",
              "\n",
              "    .colab-df-convert:hover {\n",
              "      background-color: #E2EBFA;\n",
              "      box-shadow: 0px 1px 2px rgba(60, 64, 67, 0.3), 0px 1px 3px 1px rgba(60, 64, 67, 0.15);\n",
              "      fill: #174EA6;\n",
              "    }\n",
              "\n",
              "    [theme=dark] .colab-df-convert {\n",
              "      background-color: #3B4455;\n",
              "      fill: #D2E3FC;\n",
              "    }\n",
              "\n",
              "    [theme=dark] .colab-df-convert:hover {\n",
              "      background-color: #434B5C;\n",
              "      box-shadow: 0px 1px 3px 1px rgba(0, 0, 0, 0.15);\n",
              "      filter: drop-shadow(0px 1px 2px rgba(0, 0, 0, 0.3));\n",
              "      fill: #FFFFFF;\n",
              "    }\n",
              "  </style>\n",
              "\n",
              "      <script>\n",
              "        const buttonEl =\n",
              "          document.querySelector('#df-30c01ba5-d0d5-48aa-a8a8-96b9646427d4 button.colab-df-convert');\n",
              "        buttonEl.style.display =\n",
              "          google.colab.kernel.accessAllowed ? 'block' : 'none';\n",
              "\n",
              "        async function convertToInteractive(key) {\n",
              "          const element = document.querySelector('#df-30c01ba5-d0d5-48aa-a8a8-96b9646427d4');\n",
              "          const dataTable =\n",
              "            await google.colab.kernel.invokeFunction('convertToInteractive',\n",
              "                                                     [key], {});\n",
              "          if (!dataTable) return;\n",
              "\n",
              "          const docLinkHtml = 'Like what you see? Visit the ' +\n",
              "            '<a target=\"_blank\" href=https://colab.research.google.com/notebooks/data_table.ipynb>data table notebook</a>'\n",
              "            + ' to learn more about interactive tables.';\n",
              "          element.innerHTML = '';\n",
              "          dataTable['output_type'] = 'display_data';\n",
              "          await google.colab.output.renderOutput(dataTable, element);\n",
              "          const docLink = document.createElement('div');\n",
              "          docLink.innerHTML = docLinkHtml;\n",
              "          element.appendChild(docLink);\n",
              "        }\n",
              "      </script>\n",
              "    </div>\n",
              "  </div>\n",
              "  "
            ]
          },
          "metadata": {},
          "execution_count": 23
        }
      ]
    },
    {
      "cell_type": "code",
      "source": [
        "df['age'].unique()"
      ],
      "metadata": {
        "colab": {
          "base_uri": "https://localhost:8080/"
        },
        "id": "Jj4Q0utVWzYA",
        "outputId": "35cbad7d-5b71-44f3-8a9d-26d00dccf36a"
      },
      "id": "Jj4Q0utVWzYA",
      "execution_count": 24,
      "outputs": [
        {
          "output_type": "execute_result",
          "data": {
            "text/plain": [
              "array([53.       , 47.       , 23.       , 32.       , 39.       ,\n",
              "       18.       , 22.       , 35.       , 34.       , 25.       ,\n",
              "       31.       , 41.       , 30.       , 37.       , 28.       ,\n",
              "       42.       , 36.       , 49.       , 71.       , 33.       ,\n",
              "       29.       , 43.       , 24.       , 75.       , 68.       ,\n",
              "       27.       , 48.       , 21.       , 67.       , 19.       ,\n",
              "       54.       , 17.       , 56.       , 61.       , 45.       ,\n",
              "       26.       , 40.       , 59.       , 38.       , 51.       ,\n",
              "       74.       , 57.       , 46.       , 16.       , 50.       ,\n",
              "       20.       , 77.       , 37.1179309, 58.       , 64.       ,\n",
              "       52.       , 63.       , 44.       , 60.       , 66.       ,\n",
              "       83.       , 72.       , 76.       , 62.       , 55.       ,\n",
              "       69.       , 15.       , 65.       ,  6.       , 12.       ,\n",
              "       70.       , 80.       , 14.       , 82.       , 13.       ,\n",
              "       73.       , 91.       , 79.       , 78.       , 84.       ,\n",
              "       81.       ])"
            ]
          },
          "metadata": {},
          "execution_count": 24
        }
      ]
    },
    {
      "cell_type": "code",
      "source": [
        "df['age'] = df['age'].astype(int)"
      ],
      "metadata": {
        "id": "pa8Cy88-XWg1"
      },
      "id": "pa8Cy88-XWg1",
      "execution_count": 25,
      "outputs": []
    },
    {
      "cell_type": "code",
      "source": [
        "df['age'].unique()"
      ],
      "metadata": {
        "colab": {
          "base_uri": "https://localhost:8080/"
        },
        "id": "fLeUJJDMXYNR",
        "outputId": "b8afd286-f731-4557-b76c-d1a15113dd12"
      },
      "id": "fLeUJJDMXYNR",
      "execution_count": 26,
      "outputs": [
        {
          "output_type": "execute_result",
          "data": {
            "text/plain": [
              "array([53, 47, 23, 32, 39, 18, 22, 35, 34, 25, 31, 41, 30, 37, 28, 42, 36,\n",
              "       49, 71, 33, 29, 43, 24, 75, 68, 27, 48, 21, 67, 19, 54, 17, 56, 61,\n",
              "       45, 26, 40, 59, 38, 51, 74, 57, 46, 16, 50, 20, 77, 58, 64, 52, 63,\n",
              "       44, 60, 66, 83, 72, 76, 62, 55, 69, 15, 65,  6, 12, 70, 80, 14, 82,\n",
              "       13, 73, 91, 79, 78, 84, 81])"
            ]
          },
          "metadata": {},
          "execution_count": 26
        }
      ]
    },
    {
      "cell_type": "markdown",
      "source": [
        "**Добавим в таблицу столбец \"Этап жизни\" жерты**"
      ],
      "metadata": {
        "id": "jWP_nuAIXeLG"
      },
      "id": "jWP_nuAIXeLG"
    },
    {
      "cell_type": "code",
      "source": [
        "def  Stages_of_Life (x):\n",
        "    if x<=12:\n",
        "        return (\"Child\")\n",
        "    elif x<=19:\n",
        "        return (\"Teen\")\n",
        "    elif x<=39:\n",
        "        return (\"Adult\")\n",
        "    elif x<=59:\n",
        "        return (\"Middle Age Adult\")\n",
        "    else:\n",
        "        return (\"Senior Adult\")\n",
        "\n",
        "df['stage_of_life'] = df['age'].apply(Stages_of_Life)\n",
        "df['stage_of_life'].unique()"
      ],
      "metadata": {
        "colab": {
          "base_uri": "https://localhost:8080/"
        },
        "id": "-QCHMGlWXaHU",
        "outputId": "d8ce8ffc-494a-40f1-b2ab-a388d7c20422"
      },
      "id": "-QCHMGlWXaHU",
      "execution_count": 27,
      "outputs": [
        {
          "output_type": "execute_result",
          "data": {
            "text/plain": [
              "array(['Middle Age Adult', 'Adult', 'Teen', 'Senior Adult', 'Child'],\n",
              "      dtype=object)"
            ]
          },
          "metadata": {},
          "execution_count": 27
        }
      ]
    },
    {
      "cell_type": "markdown",
      "source": [
        "Попробуем ответить на вопрос `В каком году зафиксировано наибольшее количество убийств` и посмотрим статистику по разным признакам в этот год."
      ],
      "metadata": {
        "id": "_RNGSy_0cJKe"
      },
      "id": "_RNGSy_0cJKe"
    },
    {
      "cell_type": "code",
      "source": [
        "df['year'].unique()"
      ],
      "metadata": {
        "colab": {
          "base_uri": "https://localhost:8080/"
        },
        "id": "A-4RtjqqcCu6",
        "outputId": "ad405b3e-a4c7-467b-9f76-fece08e8247e"
      },
      "id": "A-4RtjqqcCu6",
      "execution_count": 32,
      "outputs": [
        {
          "output_type": "execute_result",
          "data": {
            "text/plain": [
              "array(['2015', '2016', '2017', '2018', '2019', '2020'], dtype=object)"
            ]
          },
          "metadata": {},
          "execution_count": 32
        }
      ]
    },
    {
      "cell_type": "code",
      "source": [
        "sns.histplot(y=df['year'])"
      ],
      "metadata": {
        "colab": {
          "base_uri": "https://localhost:8080/",
          "height": 514
        },
        "id": "VEwO_WhrccEO",
        "outputId": "8af2297b-6b8a-4021-c37e-144f88cf8e61"
      },
      "id": "VEwO_WhrccEO",
      "execution_count": 33,
      "outputs": [
        {
          "output_type": "execute_result",
          "data": {
            "text/plain": [
              "<matplotlib.axes._subplots.AxesSubplot at 0x7ff6624ae6d0>"
            ]
          },
          "metadata": {},
          "execution_count": 33
        },
        {
          "output_type": "display_data",
          "data": {
            "text/plain": [
              "<Figure size 720x576 with 1 Axes>"
            ],
            "image/png": "[encoded data removed]"
          },
          "metadata": {
            "needs_background": "light"
          }
        }
      ]
    },
    {
      "cell_type": "markdown",
      "source": [
        "Как мы видим по графику, 2015 год оказался рекордым по числу убийств"
      ],
      "metadata": {
        "id": "gYEJtYM9cz31"
      },
      "id": "gYEJtYM9cz31"
    },
    {
      "cell_type": "code",
      "source": [
        "killed_in_2015 = df[df['year']=='2015']\n",
        "sns.distplot(killed_in_2015['age'])"
      ],
      "metadata": {
        "colab": {
          "base_uri": "https://localhost:8080/",
          "height": 514
        },
        "id": "VJhkupSwcwdr",
        "outputId": "b297dbb9-e38e-4bdd-a991-d09154d5145f"
      },
      "id": "VJhkupSwcwdr",
      "execution_count": 34,
      "outputs": [
        {
          "output_type": "execute_result",
          "data": {
            "text/plain": [
              "<matplotlib.axes._subplots.AxesSubplot at 0x7ff6623471f0>"
            ]
          },
          "metadata": {},
          "execution_count": 34
        },
        {
          "output_type": "display_data",
          "data": {
            "text/plain": [
              "<Figure size 720x576 with 1 Axes>"
            ],
            "image/png": "[encoded data removed]"
          },
          "metadata": {
            "needs_background": "light"
          }
        }
      ]
    },
    {
      "cell_type": "code",
      "source": [
        "sns.histplot(killed_in_2015['race'])"
      ],
      "metadata": {
        "colab": {
          "base_uri": "https://localhost:8080/",
          "height": 514
        },
        "id": "cr6KtzTacj48",
        "outputId": "f2671d62-a1b8-496a-e465-f00eaa64fb99"
      },
      "id": "cr6KtzTacj48",
      "execution_count": 37,
      "outputs": [
        {
          "output_type": "execute_result",
          "data": {
            "text/plain": [
              "<matplotlib.axes._subplots.AxesSubplot at 0x7ff6622cf070>"
            ]
          },
          "metadata": {},
          "execution_count": 37
        },
        {
          "output_type": "display_data",
          "data": {
            "text/plain": [
              "<Figure size 720x576 with 1 Axes>"
            ],
            "image/png": "[encoded data removed]"
          },
          "metadata": {
            "needs_background": "light"
          }
        }
      ]
    },
    {
      "cell_type": "code",
      "source": [
        "sns.histplot(killed_in_2015['quarter'])"
      ],
      "metadata": {
        "colab": {
          "base_uri": "https://localhost:8080/",
          "height": 514
        },
        "id": "CziKKNKCdMjL",
        "outputId": "ef0abc54-8400-42a6-f852-1cf864fa580d"
      },
      "id": "CziKKNKCdMjL",
      "execution_count": 39,
      "outputs": [
        {
          "output_type": "execute_result",
          "data": {
            "text/plain": [
              "<matplotlib.axes._subplots.AxesSubplot at 0x7ff6622524c0>"
            ]
          },
          "metadata": {},
          "execution_count": 39
        },
        {
          "output_type": "display_data",
          "data": {
            "text/plain": [
              "<Figure size 720x576 with 1 Axes>"
            ],
            "image/png": "[encoded data removed]"
          },
          "metadata": {
            "needs_background": "light"
          }
        }
      ]
    },
    {
      "cell_type": "markdown",
      "source": [
        "Взглянем на корреляцию признаков"
      ],
      "metadata": {
        "id": "GDQsMM_EdlVL"
      },
      "id": "GDQsMM_EdlVL"
    },
    {
      "cell_type": "code",
      "source": [
        "corr_matrix = df.corr()"
      ],
      "metadata": {
        "id": "mHGraDd1dScw"
      },
      "id": "mHGraDd1dScw",
      "execution_count": 42,
      "outputs": []
    },
    {
      "cell_type": "code",
      "source": [
        "sns.heatmap(corr_matrix);"
      ],
      "metadata": {
        "colab": {
          "base_uri": "https://localhost:8080/",
          "height": 594
        },
        "id": "R562IXeodtAB",
        "outputId": "6a45375a-eaba-42bc-ccde-c0657cd6bb79"
      },
      "id": "R562IXeodtAB",
      "execution_count": 43,
      "outputs": [
        {
          "output_type": "display_data",
          "data": {
            "text/plain": [
              "<Figure size 720x576 with 2 Axes>"
            ],
            "image/png": "[encoded data removed]"
          },
          "metadata": {
            "needs_background": "light"
          }
        }
      ]
    },
    {
      "cell_type": "markdown",
      "source": [
        "Матрица корреляция не оказалась полезной для нас, потому что полезные количественные признаки в нашем дата сете отсутствуют"
      ],
      "metadata": {
        "id": "3QzztNQketpN"
      },
      "id": "3QzztNQketpN"
    },
    {
      "cell_type": "markdown",
      "source": [],
      "metadata": {
        "id": "XVrJAAwxeATJ"
      },
      "id": "XVrJAAwxeATJ"
    },
    {
      "cell_type": "code",
      "source": [
        "sns.countplot(x=\"year\", hue=\"gender\", data=df);"
      ],
      "metadata": {
        "colab": {
          "base_uri": "https://localhost:8080/",
          "height": 497
        },
        "id": "azvANQPRd1at",
        "outputId": "f7631cc7-9d5b-47c5-b5cd-99e836e3c54c"
      },
      "id": "azvANQPRd1at",
      "execution_count": 50,
      "outputs": [
        {
          "output_type": "display_data",
          "data": {
            "text/plain": [
              "<Figure size 720x576 with 1 Axes>"
            ],
            "image/png": "[encoded data removed]"
          },
          "metadata": {
            "needs_background": "light"
          }
        }
      ]
    },
    {
      "cell_type": "code",
      "source": [
        "df.info()"
      ],
      "metadata": {
        "colab": {
          "base_uri": "https://localhost:8080/"
        },
        "id": "fwNzYgKyhwbc",
        "outputId": "ddfe27da-f18f-42a7-a6b9-2f13f0e3f146"
      },
      "id": "fwNzYgKyhwbc",
      "execution_count": 51,
      "outputs": [
        {
          "output_type": "stream",
          "name": "stdout",
          "text": [
            "<class 'pandas.core.frame.DataFrame'>\n",
            "RangeIndex: 4895 entries, 0 to 4894\n",
            "Data columns (total 22 columns):\n",
            " #   Column                   Non-Null Count  Dtype \n",
            "---  ------                   --------------  ----- \n",
            " 0   id                       4895 non-null   int64 \n",
            " 1   name                     4895 non-null   object\n",
            " 2   date                     4895 non-null   object\n",
            " 3   manner_of_death          4895 non-null   object\n",
            " 4   armed                    4895 non-null   object\n",
            " 5   age                      4895 non-null   int64 \n",
            " 6   gender                   4895 non-null   object\n",
            " 7   race                     4895 non-null   object\n",
            " 8   city                     4895 non-null   object\n",
            " 9   state                    4895 non-null   object\n",
            " 10  signs_of_mental_illness  4895 non-null   bool  \n",
            " 11  threat_level             4895 non-null   object\n",
            " 12  flee                     4895 non-null   object\n",
            " 13  body_camera              4895 non-null   bool  \n",
            " 14  arms_category            4895 non-null   object\n",
            " 15  region                   4895 non-null   object\n",
            " 16  year                     4895 non-null   object\n",
            " 17  month                    4895 non-null   int64 \n",
            " 18  day                      4895 non-null   int64 \n",
            " 19  quarter                  4895 non-null   int64 \n",
            " 20  week                     4895 non-null   int64 \n",
            " 21  stage_of_life            4895 non-null   object\n",
            "dtypes: bool(2), int64(6), object(14)\n",
            "memory usage: 774.5+ KB\n"
          ]
        }
      ]
    },
    {
      "cell_type": "code",
      "source": [
        "features = list(\n",
        "    set(df.columns)\n",
        "  )\n",
        "\n",
        "df[features].hist(figsize=(20, 12));"
      ],
      "metadata": {
        "colab": {
          "base_uri": "https://localhost:8080/",
          "height": 716
        },
        "id": "HnPPDXA4jt_3",
        "outputId": "9d73d9ee-0c12-40a9-eb40-4dc22770b5bd"
      },
      "id": "HnPPDXA4jt_3",
      "execution_count": 56,
      "outputs": [
        {
          "output_type": "display_data",
          "data": {
            "text/plain": [
              "<Figure size 1440x864 with 6 Axes>"
            ],
            "image/png": "[encoded data removed]"
          },
          "metadata": {
            "needs_background": "light"
          }
        }
      ]
    },
    {
      "cell_type": "code",
      "source": [
        "pd.crosstab(df[\"state\"], df[\"race\"]).T"
      ],
      "metadata": {
        "colab": {
          "base_uri": "https://localhost:8080/",
          "height": 347
        },
        "id": "Ko5gnWMEkJEY",
        "outputId": "5e292476-dce1-44ca-8517-e6a042adc1aa"
      },
      "id": "Ko5gnWMEkJEY",
      "execution_count": 62,
      "outputs": [
        {
          "output_type": "execute_result",
          "data": {
            "text/plain": [
              "state     Alabama  Alaska  Arizona  Arkansas  California  Colorado  \\\n",
              "race                                                                 \n",
              "Asian           0       2        0         1          29         5   \n",
              "Black          31       3       17        26         122        18   \n",
              "Hispanic        1       0       83         0         316        48   \n",
              "Native          0       9       13         0           4         4   \n",
              "Other           0       0        0         0           9         2   \n",
              "White          63      22      109        46         221        91   \n",
              "\n",
              "state     Connecticut  Delaware  Florida  Hawaii  Illinois  Indiana  Iowa  \\\n",
              "race                                                                        \n",
              "Asian               0         0        1       9         0        0     0   \n",
              "Black               3         5      111       1        58       30     7   \n",
              "Hispanic            6         0       51       1        13        4     0   \n",
              "Native              0         0        0       0         0        0     0   \n",
              "Other               0         0        5      15         0        0     0   \n",
              "White              11         5      156       3        28       57    24   \n",
              "\n",
              "state     Kansas  Kentucky  Louisiana  Maine  Maryland  Massachusetts  \\\n",
              "race                                                                    \n",
              "Asian          0         1          2      0         1              0   \n",
              "Black          6        15         60      1        47              8   \n",
              "Hispanic       8         3          1      1         3              7   \n",
              "Native         1         1          0      0         0              0   \n",
              "Other          0         0          0      1         0              1   \n",
              "White         34        67         39     18        26             17   \n",
              "\n",
              "state     Michigan  Minnesota  Mississippi  Missouri  Montana  Nebraska  \\\n",
              "race                                                                      \n",
              "Asian            1          3            1         1        0         0   \n",
              "Black           24         10           23        48        0         5   \n",
              "Hispanic         2          3            1         3        0         2   \n",
              "Native           0          4            0         0        4         1   \n",
              "Other            1          3            0         0        0         0   \n",
              "White           43         37           36        72       25        16   \n",
              "\n",
              "state     Nevada  New Hampshire  New Jersey  New Mexico  New York  \\\n",
              "race                                                                \n",
              "Asian          2              0           1           0         1   \n",
              "Black         15              0          30           1        46   \n",
              "Hispanic      28              0           8          64         8   \n",
              "Native         1              0           0           2         0   \n",
              "Other          0              0           0           0         0   \n",
              "White         39             12          21          26        35   \n",
              "\n",
              "state     North Carolina  North Dakota  Ohio  Oklahoma  Oregon  Pennsylvania  \\\n",
              "race                                                                           \n",
              "Asian                  1             0     2         3       0             0   \n",
              "Black                 51             0    56        32       7            42   \n",
              "Hispanic               8             0     1         9       6             6   \n",
              "Native                 0             5     0         7       0             0   \n",
              "Other                  0             0     3         0       0             0   \n",
              "White                 88             6    84       100      63            47   \n",
              "\n",
              "state     Rhode Island  South Carolina  South Dakota  Tennessee  Texas  Utah  \\\n",
              "race                                                                           \n",
              "Asian                0               1             1          1      6     0   \n",
              "Black                2              27             0         31     99     7   \n",
              "Hispanic             1               2             0          3    142    12   \n",
              "Native               0               0             3          0      1     2   \n",
              "Other                0               0             0          1      3     1   \n",
              "White                1              50            10         89    175    36   \n",
              "\n",
              "state     Vermont  Virginia  Washington  West Virginia  Wisconsin  Wyoming  \n",
              "race                                                                        \n",
              "Asian           0         1           9              1          2        4  \n",
              "Black           0        40          21              8         20       84  \n",
              "Hispanic        0         4          21              0          6       16  \n",
              "Native          1         1           7              0          4        3  \n",
              "Other           0         1           2              0          0        0  \n",
              "White           7        45          66             37         56      117  "
            ],
            "text/html": [
              "\n",
              "  <div id=\"df-898529f4-c889-4380-8b84-ec2875dae305\">\n",
              "    <div class=\"colab-df-container\">\n",
              "      <div>\n",
              "<style scoped>\n",
              "    .dataframe tbody tr th:only-of-type {\n",
              "        vertical-align: middle;\n",
              "    }\n",
              "\n",
              "    .dataframe tbody tr th {\n",
              "        vertical-align: top;\n",
              "    }\n",
              "\n",
              "    .dataframe thead th {\n",
              "        text-align: right;\n",
              "    }\n",
              "</style>\n",
              "<table border=\"1\" class=\"dataframe\">\n",
              "  <thead>\n",
              "    <tr style=\"text-align: right;\">\n",
              "      <th>state</th>\n",
              "      <th>Alabama</th>\n",
              "      <th>Alaska</th>\n",
              "      <th>Arizona</th>\n",
              "      <th>Arkansas</th>\n",
              "      <th>California</th>\n",
              "      <th>Colorado</th>\n",
              "      <th>Connecticut</th>\n",
              "      <th>Delaware</th>\n",
              "      <th>Florida</th>\n",
              "      <th>Hawaii</th>\n",
              "      <th>Illinois</th>\n",
              "      <th>Indiana</th>\n",
              "      <th>Iowa</th>\n",
              "      <th>Kansas</th>\n",
              "      <th>Kentucky</th>\n",
              "      <th>Louisiana</th>\n",
              "      <th>Maine</th>\n",
              "      <th>Maryland</th>\n",
              "      <th>Massachusetts</th>\n",
              "      <th>Michigan</th>\n",
              "      <th>Minnesota</th>\n",
              "      <th>Mississippi</th>\n",
              "      <th>Missouri</th>\n",
              "      <th>Montana</th>\n",
              "      <th>Nebraska</th>\n",
              "      <th>Nevada</th>\n",
              "      <th>New Hampshire</th>\n",
              "      <th>New Jersey</th>\n",
              "      <th>New Mexico</th>\n",
              "      <th>New York</th>\n",
              "      <th>North Carolina</th>\n",
              "      <th>North Dakota</th>\n",
              "      <th>Ohio</th>\n",
              "      <th>Oklahoma</th>\n",
              "      <th>Oregon</th>\n",
              "      <th>Pennsylvania</th>\n",
              "      <th>Rhode Island</th>\n",
              "      <th>South Carolina</th>\n",
              "      <th>South Dakota</th>\n",
              "      <th>Tennessee</th>\n",
              "      <th>Texas</th>\n",
              "      <th>Utah</th>\n",
              "      <th>Vermont</th>\n",
              "      <th>Virginia</th>\n",
              "      <th>Washington</th>\n",
              "      <th>West Virginia</th>\n",
              "      <th>Wisconsin</th>\n",
              "      <th>Wyoming</th>\n",
              "    </tr>\n",
              "    <tr>\n",
              "      <th>race</th>\n",
              "      <th></th>\n",
              "      <th></th>\n",
              "      <th></th>\n",
              "      <th></th>\n",
              "      <th></th>\n",
              "      <th></th>\n",
              "      <th></th>\n",
              "      <th></th>\n",
              "      <th></th>\n",
              "      <th></th>\n",
              "      <th></th>\n",
              "      <th></th>\n",
              "      <th></th>\n",
              "      <th></th>\n",
              "      <th></th>\n",
              "      <th></th>\n",
              "      <th></th>\n",
              "      <th></th>\n",
              "      <th></th>\n",
              "      <th></th>\n",
              "      <th></th>\n",
              "      <th></th>\n",
              "      <th></th>\n",
              "      <th></th>\n",
              "      <th></th>\n",
              "      <th></th>\n",
              "      <th></th>\n",
              "      <th></th>\n",
              "      <th></th>\n",
              "      <th></th>\n",
              "      <th></th>\n",
              "      <th></th>\n",
              "      <th></th>\n",
              "      <th></th>\n",
              "      <th></th>\n",
              "      <th></th>\n",
              "      <th></th>\n",
              "      <th></th>\n",
              "      <th></th>\n",
              "      <th></th>\n",
              "      <th></th>\n",
              "      <th></th>\n",
              "      <th></th>\n",
              "      <th></th>\n",
              "      <th></th>\n",
              "      <th></th>\n",
              "      <th></th>\n",
              "      <th></th>\n",
              "    </tr>\n",
              "  </thead>\n",
              "  <tbody>\n",
              "    <tr>\n",
              "      <th>Asian</th>\n",
              "      <td>0</td>\n",
              "      <td>2</td>\n",
              "      <td>0</td>\n",
              "      <td>1</td>\n",
              "      <td>29</td>\n",
              "      <td>5</td>\n",
              "      <td>0</td>\n",
              "      <td>0</td>\n",
              "      <td>1</td>\n",
              "      <td>9</td>\n",
              "      <td>0</td>\n",
              "      <td>0</td>\n",
              "      <td>0</td>\n",
              "      <td>0</td>\n",
              "      <td>1</td>\n",
              "      <td>2</td>\n",
              "      <td>0</td>\n",
              "      <td>1</td>\n",
              "      <td>0</td>\n",
              "      <td>1</td>\n",
              "      <td>3</td>\n",
              "      <td>1</td>\n",
              "      <td>1</td>\n",
              "      <td>0</td>\n",
              "      <td>0</td>\n",
              "      <td>2</td>\n",
              "      <td>0</td>\n",
              "      <td>1</td>\n",
              "      <td>0</td>\n",
              "      <td>1</td>\n",
              "      <td>1</td>\n",
              "      <td>0</td>\n",
              "      <td>2</td>\n",
              "      <td>3</td>\n",
              "      <td>0</td>\n",
              "      <td>0</td>\n",
              "      <td>0</td>\n",
              "      <td>1</td>\n",
              "      <td>1</td>\n",
              "      <td>1</td>\n",
              "      <td>6</td>\n",
              "      <td>0</td>\n",
              "      <td>0</td>\n",
              "      <td>1</td>\n",
              "      <td>9</td>\n",
              "      <td>1</td>\n",
              "      <td>2</td>\n",
              "      <td>4</td>\n",
              "    </tr>\n",
              "    <tr>\n",
              "      <th>Black</th>\n",
              "      <td>31</td>\n",
              "      <td>3</td>\n",
              "      <td>17</td>\n",
              "      <td>26</td>\n",
              "      <td>122</td>\n",
              "      <td>18</td>\n",
              "      <td>3</td>\n",
              "      <td>5</td>\n",
              "      <td>111</td>\n",
              "      <td>1</td>\n",
              "      <td>58</td>\n",
              "      <td>30</td>\n",
              "      <td>7</td>\n",
              "      <td>6</td>\n",
              "      <td>15</td>\n",
              "      <td>60</td>\n",
              "      <td>1</td>\n",
              "      <td>47</td>\n",
              "      <td>8</td>\n",
              "      <td>24</td>\n",
              "      <td>10</td>\n",
              "      <td>23</td>\n",
              "      <td>48</td>\n",
              "      <td>0</td>\n",
              "      <td>5</td>\n",
              "      <td>15</td>\n",
              "      <td>0</td>\n",
              "      <td>30</td>\n",
              "      <td>1</td>\n",
              "      <td>46</td>\n",
              "      <td>51</td>\n",
              "      <td>0</td>\n",
              "      <td>56</td>\n",
              "      <td>32</td>\n",
              "      <td>7</td>\n",
              "      <td>42</td>\n",
              "      <td>2</td>\n",
              "      <td>27</td>\n",
              "      <td>0</td>\n",
              "      <td>31</td>\n",
              "      <td>99</td>\n",
              "      <td>7</td>\n",
              "      <td>0</td>\n",
              "      <td>40</td>\n",
              "      <td>21</td>\n",
              "      <td>8</td>\n",
              "      <td>20</td>\n",
              "      <td>84</td>\n",
              "    </tr>\n",
              "    <tr>\n",
              "      <th>Hispanic</th>\n",
              "      <td>1</td>\n",
              "      <td>0</td>\n",
              "      <td>83</td>\n",
              "      <td>0</td>\n",
              "      <td>316</td>\n",
              "      <td>48</td>\n",
              "      <td>6</td>\n",
              "      <td>0</td>\n",
              "      <td>51</td>\n",
              "      <td>1</td>\n",
              "      <td>13</td>\n",
              "      <td>4</td>\n",
              "      <td>0</td>\n",
              "      <td>8</td>\n",
              "      <td>3</td>\n",
              "      <td>1</td>\n",
              "      <td>1</td>\n",
              "      <td>3</td>\n",
              "      <td>7</td>\n",
              "      <td>2</td>\n",
              "      <td>3</td>\n",
              "      <td>1</td>\n",
              "      <td>3</td>\n",
              "      <td>0</td>\n",
              "      <td>2</td>\n",
              "      <td>28</td>\n",
              "      <td>0</td>\n",
              "      <td>8</td>\n",
              "      <td>64</td>\n",
              "      <td>8</td>\n",
              "      <td>8</td>\n",
              "      <td>0</td>\n",
              "      <td>1</td>\n",
              "      <td>9</td>\n",
              "      <td>6</td>\n",
              "      <td>6</td>\n",
              "      <td>1</td>\n",
              "      <td>2</td>\n",
              "      <td>0</td>\n",
              "      <td>3</td>\n",
              "      <td>142</td>\n",
              "      <td>12</td>\n",
              "      <td>0</td>\n",
              "      <td>4</td>\n",
              "      <td>21</td>\n",
              "      <td>0</td>\n",
              "      <td>6</td>\n",
              "      <td>16</td>\n",
              "    </tr>\n",
              "    <tr>\n",
              "      <th>Native</th>\n",
              "      <td>0</td>\n",
              "      <td>9</td>\n",
              "      <td>13</td>\n",
              "      <td>0</td>\n",
              "      <td>4</td>\n",
              "      <td>4</td>\n",
              "      <td>0</td>\n",
              "      <td>0</td>\n",
              "      <td>0</td>\n",
              "      <td>0</td>\n",
              "      <td>0</td>\n",
              "      <td>0</td>\n",
              "      <td>0</td>\n",
              "      <td>1</td>\n",
              "      <td>1</td>\n",
              "      <td>0</td>\n",
              "      <td>0</td>\n",
              "      <td>0</td>\n",
              "      <td>0</td>\n",
              "      <td>0</td>\n",
              "      <td>4</td>\n",
              "      <td>0</td>\n",
              "      <td>0</td>\n",
              "      <td>4</td>\n",
              "      <td>1</td>\n",
              "      <td>1</td>\n",
              "      <td>0</td>\n",
              "      <td>0</td>\n",
              "      <td>2</td>\n",
              "      <td>0</td>\n",
              "      <td>0</td>\n",
              "      <td>5</td>\n",
              "      <td>0</td>\n",
              "      <td>7</td>\n",
              "      <td>0</td>\n",
              "      <td>0</td>\n",
              "      <td>0</td>\n",
              "      <td>0</td>\n",
              "      <td>3</td>\n",
              "      <td>0</td>\n",
              "      <td>1</td>\n",
              "      <td>2</td>\n",
              "      <td>1</td>\n",
              "      <td>1</td>\n",
              "      <td>7</td>\n",
              "      <td>0</td>\n",
              "      <td>4</td>\n",
              "      <td>3</td>\n",
              "    </tr>\n",
              "    <tr>\n",
              "      <th>Other</th>\n",
              "      <td>0</td>\n",
              "      <td>0</td>\n",
              "      <td>0</td>\n",
              "      <td>0</td>\n",
              "      <td>9</td>\n",
              "      <td>2</td>\n",
              "      <td>0</td>\n",
              "      <td>0</td>\n",
              "      <td>5</td>\n",
              "      <td>15</td>\n",
              "      <td>0</td>\n",
              "      <td>0</td>\n",
              "      <td>0</td>\n",
              "      <td>0</td>\n",
              "      <td>0</td>\n",
              "      <td>0</td>\n",
              "      <td>1</td>\n",
              "      <td>0</td>\n",
              "      <td>1</td>\n",
              "      <td>1</td>\n",
              "      <td>3</td>\n",
              "      <td>0</td>\n",
              "      <td>0</td>\n",
              "      <td>0</td>\n",
              "      <td>0</td>\n",
              "      <td>0</td>\n",
              "      <td>0</td>\n",
              "      <td>0</td>\n",
              "      <td>0</td>\n",
              "      <td>0</td>\n",
              "      <td>0</td>\n",
              "      <td>0</td>\n",
              "      <td>3</td>\n",
              "      <td>0</td>\n",
              "      <td>0</td>\n",
              "      <td>0</td>\n",
              "      <td>0</td>\n",
              "      <td>0</td>\n",
              "      <td>0</td>\n",
              "      <td>1</td>\n",
              "      <td>3</td>\n",
              "      <td>1</td>\n",
              "      <td>0</td>\n",
              "      <td>1</td>\n",
              "      <td>2</td>\n",
              "      <td>0</td>\n",
              "      <td>0</td>\n",
              "      <td>0</td>\n",
              "    </tr>\n",
              "    <tr>\n",
              "      <th>White</th>\n",
              "      <td>63</td>\n",
              "      <td>22</td>\n",
              "      <td>109</td>\n",
              "      <td>46</td>\n",
              "      <td>221</td>\n",
              "      <td>91</td>\n",
              "      <td>11</td>\n",
              "      <td>5</td>\n",
              "      <td>156</td>\n",
              "      <td>3</td>\n",
              "      <td>28</td>\n",
              "      <td>57</td>\n",
              "      <td>24</td>\n",
              "      <td>34</td>\n",
              "      <td>67</td>\n",
              "      <td>39</td>\n",
              "      <td>18</td>\n",
              "      <td>26</td>\n",
              "      <td>17</td>\n",
              "      <td>43</td>\n",
              "      <td>37</td>\n",
              "      <td>36</td>\n",
              "      <td>72</td>\n",
              "      <td>25</td>\n",
              "      <td>16</td>\n",
              "      <td>39</td>\n",
              "      <td>12</td>\n",
              "      <td>21</td>\n",
              "      <td>26</td>\n",
              "      <td>35</td>\n",
              "      <td>88</td>\n",
              "      <td>6</td>\n",
              "      <td>84</td>\n",
              "      <td>100</td>\n",
              "      <td>63</td>\n",
              "      <td>47</td>\n",
              "      <td>1</td>\n",
              "      <td>50</td>\n",
              "      <td>10</td>\n",
              "      <td>89</td>\n",
              "      <td>175</td>\n",
              "      <td>36</td>\n",
              "      <td>7</td>\n",
              "      <td>45</td>\n",
              "      <td>66</td>\n",
              "      <td>37</td>\n",
              "      <td>56</td>\n",
              "      <td>117</td>\n",
              "    </tr>\n",
              "  </tbody>\n",
              "</table>\n",
              "</div>\n",
              "      <button class=\"colab-df-convert\" onclick=\"convertToInteractive('df-898529f4-c889-4380-8b84-ec2875dae305')\"\n",
              "              title=\"Convert this dataframe to an interactive table.\"\n",
              "              style=\"display:none;\">\n",
              "        \n",
              "  <svg xmlns=\"http://www.w3.org/2000/svg\" height=\"24px\"viewBox=\"0 0 24 24\"\n",
              "       width=\"24px\">\n",
              "    <path d=\"M0 0h24v24H0V0z\" fill=\"none\"/>\n",
              "    <path d=\"M18.56 5.44l.94 2.06.94-2.06 2.06-.94-2.06-.94-.94-2.06-.94 2.06-2.06.94zm-11 1L8.5 8.5l.94-2.06 2.06-.94-2.06-.94L8.5 2.5l-.94 2.06-2.06.94zm10 10l.94 2.06.94-2.06 2.06-.94-2.06-.94-.94-2.06-.94 2.06-2.06.94z\"/><path d=\"M17.41 7.96l-1.37-1.37c-.4-.4-.92-.59-1.43-.59-.52 0-1.04.2-1.43.59L10.3 9.45l-7.72 7.72c-.78.78-.78 2.05 0 2.83L4 21.41c.39.39.9.59 1.41.59.51 0 1.02-.2 1.41-.59l7.78-7.78 2.81-2.81c.8-.78.8-2.07 0-2.86zM5.41 20L4 18.59l7.72-7.72 1.47 1.35L5.41 20z\"/>\n",
              "  </svg>\n",
              "      </button>\n",
              "      \n",
              "  <style>\n",
              "    .colab-df-container {\n",
              "      display:flex;\n",
              "      flex-wrap:wrap;\n",
              "      gap: 12px;\n",
              "    }\n",
              "\n",
              "    .colab-df-convert {\n",
              "      background-color: #E8F0FE;\n",
              "      border: none;\n",
              "      border-radius: 50%;\n",
              "      cursor: pointer;\n",
              "      display: none;\n",
              "      fill: #1967D2;\n",
              "      height: 32px;\n",
              "      padding: 0 0 0 0;\n",
              "      width: 32px;\n",
              "    }\n",
              "\n",
              "    .colab-df-convert:hover {\n",
              "      background-color: #E2EBFA;\n",
              "      box-shadow: 0px 1px 2px rgba(60, 64, 67, 0.3), 0px 1px 3px 1px rgba(60, 64, 67, 0.15);\n",
              "      fill: #174EA6;\n",
              "    }\n",
              "\n",
              "    [theme=dark] .colab-df-convert {\n",
              "      background-color: #3B4455;\n",
              "      fill: #D2E3FC;\n",
              "    }\n",
              "\n",
              "    [theme=dark] .colab-df-convert:hover {\n",
              "      background-color: #434B5C;\n",
              "      box-shadow: 0px 1px 3px 1px rgba(0, 0, 0, 0.15);\n",
              "      filter: drop-shadow(0px 1px 2px rgba(0, 0, 0, 0.3));\n",
              "      fill: #FFFFFF;\n",
              "    }\n",
              "  </style>\n",
              "\n",
              "      <script>\n",
              "        const buttonEl =\n",
              "          document.querySelector('#df-898529f4-c889-4380-8b84-ec2875dae305 button.colab-df-convert');\n",
              "        buttonEl.style.display =\n",
              "          google.colab.kernel.accessAllowed ? 'block' : 'none';\n",
              "\n",
              "        async function convertToInteractive(key) {\n",
              "          const element = document.querySelector('#df-898529f4-c889-4380-8b84-ec2875dae305');\n",
              "          const dataTable =\n",
              "            await google.colab.kernel.invokeFunction('convertToInteractive',\n",
              "                                                     [key], {});\n",
              "          if (!dataTable) return;\n",
              "\n",
              "          const docLinkHtml = 'Like what you see? Visit the ' +\n",
              "            '<a target=\"_blank\" href=https://colab.research.google.com/notebooks/data_table.ipynb>data table notebook</a>'\n",
              "            + ' to learn more about interactive tables.';\n",
              "          element.innerHTML = '';\n",
              "          dataTable['output_type'] = 'display_data';\n",
              "          await google.colab.output.renderOutput(dataTable, element);\n",
              "          const docLink = document.createElement('div');\n",
              "          docLink.innerHTML = docLinkHtml;\n",
              "          element.appendChild(docLink);\n",
              "        }\n",
              "      </script>\n",
              "    </div>\n",
              "  </div>\n",
              "  "
            ]
          },
          "metadata": {},
          "execution_count": 62
        }
      ]
    },
    {
      "cell_type": "code",
      "source": [
        "df.groupby([\"state\"])[\"age\"].agg([np.mean]).sort_values(by=\"mean\", ascending=False).T"
      ],
      "metadata": {
        "colab": {
          "base_uri": "https://localhost:8080/",
          "height": 161
        },
        "id": "6b1aX2MMkmJH",
        "outputId": "ee0c12d6-55a7-41d7-b849-ca7f20d740c0"
      },
      "id": "6b1aX2MMkmJH",
      "execution_count": 65,
      "outputs": [
        {
          "output_type": "execute_result",
          "data": {
            "text/plain": [
              "state  Vermont  Rhode Island  West Virginia    Alabama   New York  \\\n",
              "mean      42.5          41.0      40.934783  40.042105  39.888889   \n",
              "\n",
              "state  New Hampshire      Maine   Arkansas  North Carolina   Kentucky  \\\n",
              "mean       39.583333  39.428571  39.109589       39.067568  38.988506   \n",
              "\n",
              "state  South Carolina    Indiana    Florida   Oklahoma  Tennessee  \\\n",
              "mean           38.775  38.483516  38.274691  37.966887     37.816   \n",
              "\n",
              "state  Massachusetts  Oregon     Hawaii   Wyoming  New Jersey     Nevada  \\\n",
              "mean       37.757576   37.75  37.689655  37.65625   37.233333  37.211765   \n",
              "\n",
              "state   Michigan  South Dakota  Wisconsin   Nebraska  Virginia  Mississippi  \\\n",
              "mean   37.042254          37.0  36.988636  36.916667     36.75     36.57377   \n",
              "\n",
              "state  Pennsylvania  Louisiana     Kansas  Washington    Montana      Texas  \\\n",
              "mean      36.431579  36.333333  36.285714   36.174603  35.965517  35.779343   \n",
              "\n",
              "state  Colorado  New Mexico       Ohio  Minnesota  Connecticut    Arizona  \\\n",
              "mean   35.64881   35.591398  35.541096  35.466667        35.45  35.400901   \n",
              "\n",
              "state   Missouri       Utah  Maryland  California     Alaska   Illinois  \\\n",
              "mean   35.282258  34.758621  34.74026   34.673324  32.805556  32.565657   \n",
              "\n",
              "state  Delaware       Iowa  North Dakota  \n",
              "mean       31.8  31.419355          31.0  "
            ],
            "text/html": [
              "\n",
              "  <div id=\"df-f000b6a6-febd-4f59-906b-be96530fbef4\">\n",
              "    <div class=\"colab-df-container\">\n",
              "      <div>\n",
              "<style scoped>\n",
              "    .dataframe tbody tr th:only-of-type {\n",
              "        vertical-align: middle;\n",
              "    }\n",
              "\n",
              "    .dataframe tbody tr th {\n",
              "        vertical-align: top;\n",
              "    }\n",
              "\n",
              "    .dataframe thead th {\n",
              "        text-align: right;\n",
              "    }\n",
              "</style>\n",
              "<table border=\"1\" class=\"dataframe\">\n",
              "  <thead>\n",
              "    <tr style=\"text-align: right;\">\n",
              "      <th>state</th>\n",
              "      <th>Vermont</th>\n",
              "      <th>Rhode Island</th>\n",
              "      <th>West Virginia</th>\n",
              "      <th>Alabama</th>\n",
              "      <th>New York</th>\n",
              "      <th>New Hampshire</th>\n",
              "      <th>Maine</th>\n",
              "      <th>Arkansas</th>\n",
              "      <th>North Carolina</th>\n",
              "      <th>Kentucky</th>\n",
              "      <th>South Carolina</th>\n",
              "      <th>Indiana</th>\n",
              "      <th>Florida</th>\n",
              "      <th>Oklahoma</th>\n",
              "      <th>Tennessee</th>\n",
              "      <th>Massachusetts</th>\n",
              "      <th>Oregon</th>\n",
              "      <th>Hawaii</th>\n",
              "      <th>Wyoming</th>\n",
              "      <th>New Jersey</th>\n",
              "      <th>Nevada</th>\n",
              "      <th>Michigan</th>\n",
              "      <th>South Dakota</th>\n",
              "      <th>Wisconsin</th>\n",
              "      <th>Nebraska</th>\n",
              "      <th>Virginia</th>\n",
              "      <th>Mississippi</th>\n",
              "      <th>Pennsylvania</th>\n",
              "      <th>Louisiana</th>\n",
              "      <th>Kansas</th>\n",
              "      <th>Washington</th>\n",
              "      <th>Montana</th>\n",
              "      <th>Texas</th>\n",
              "      <th>Colorado</th>\n",
              "      <th>New Mexico</th>\n",
              "      <th>Ohio</th>\n",
              "      <th>Minnesota</th>\n",
              "      <th>Connecticut</th>\n",
              "      <th>Arizona</th>\n",
              "      <th>Missouri</th>\n",
              "      <th>Utah</th>\n",
              "      <th>Maryland</th>\n",
              "      <th>California</th>\n",
              "      <th>Alaska</th>\n",
              "      <th>Illinois</th>\n",
              "      <th>Delaware</th>\n",
              "      <th>Iowa</th>\n",
              "      <th>North Dakota</th>\n",
              "    </tr>\n",
              "  </thead>\n",
              "  <tbody>\n",
              "    <tr>\n",
              "      <th>mean</th>\n",
              "      <td>42.5</td>\n",
              "      <td>41.0</td>\n",
              "      <td>40.934783</td>\n",
              "      <td>40.042105</td>\n",
              "      <td>39.888889</td>\n",
              "      <td>39.583333</td>\n",
              "      <td>39.428571</td>\n",
              "      <td>39.109589</td>\n",
              "      <td>39.067568</td>\n",
              "      <td>38.988506</td>\n",
              "      <td>38.775</td>\n",
              "      <td>38.483516</td>\n",
              "      <td>38.274691</td>\n",
              "      <td>37.966887</td>\n",
              "      <td>37.816</td>\n",
              "      <td>37.757576</td>\n",
              "      <td>37.75</td>\n",
              "      <td>37.689655</td>\n",
              "      <td>37.65625</td>\n",
              "      <td>37.233333</td>\n",
              "      <td>37.211765</td>\n",
              "      <td>37.042254</td>\n",
              "      <td>37.0</td>\n",
              "      <td>36.988636</td>\n",
              "      <td>36.916667</td>\n",
              "      <td>36.75</td>\n",
              "      <td>36.57377</td>\n",
              "      <td>36.431579</td>\n",
              "      <td>36.333333</td>\n",
              "      <td>36.285714</td>\n",
              "      <td>36.174603</td>\n",
              "      <td>35.965517</td>\n",
              "      <td>35.779343</td>\n",
              "      <td>35.64881</td>\n",
              "      <td>35.591398</td>\n",
              "      <td>35.541096</td>\n",
              "      <td>35.466667</td>\n",
              "      <td>35.45</td>\n",
              "      <td>35.400901</td>\n",
              "      <td>35.282258</td>\n",
              "      <td>34.758621</td>\n",
              "      <td>34.74026</td>\n",
              "      <td>34.673324</td>\n",
              "      <td>32.805556</td>\n",
              "      <td>32.565657</td>\n",
              "      <td>31.8</td>\n",
              "      <td>31.419355</td>\n",
              "      <td>31.0</td>\n",
              "    </tr>\n",
              "  </tbody>\n",
              "</table>\n",
              "</div>\n",
              "      <button class=\"colab-df-convert\" onclick=\"convertToInteractive('df-f000b6a6-febd-4f59-906b-be96530fbef4')\"\n",
              "              title=\"Convert this dataframe to an interactive table.\"\n",
              "              style=\"display:none;\">\n",
              "        \n",
              "  <svg xmlns=\"http://www.w3.org/2000/svg\" height=\"24px\"viewBox=\"0 0 24 24\"\n",
              "       width=\"24px\">\n",
              "    <path d=\"M0 0h24v24H0V0z\" fill=\"none\"/>\n",
              "    <path d=\"M18.56 5.44l.94 2.06.94-2.06 2.06-.94-2.06-.94-.94-2.06-.94 2.06-2.06.94zm-11 1L8.5 8.5l.94-2.06 2.06-.94-2.06-.94L8.5 2.5l-.94 2.06-2.06.94zm10 10l.94 2.06.94-2.06 2.06-.94-2.06-.94-.94-2.06-.94 2.06-2.06.94z\"/><path d=\"M17.41 7.96l-1.37-1.37c-.4-.4-.92-.59-1.43-.59-.52 0-1.04.2-1.43.59L10.3 9.45l-7.72 7.72c-.78.78-.78 2.05 0 2.83L4 21.41c.39.39.9.59 1.41.59.51 0 1.02-.2 1.41-.59l7.78-7.78 2.81-2.81c.8-.78.8-2.07 0-2.86zM5.41 20L4 18.59l7.72-7.72 1.47 1.35L5.41 20z\"/>\n",
              "  </svg>\n",
              "      </button>\n",
              "      \n",
              "  <style>\n",
              "    .colab-df-container {\n",
              "      display:flex;\n",
              "      flex-wrap:wrap;\n",
              "      gap: 12px;\n",
              "    }\n",
              "\n",
              "    .colab-df-convert {\n",
              "      background-color: #E8F0FE;\n",
              "      border: none;\n",
              "      border-radius: 50%;\n",
              "      cursor: pointer;\n",
              "      display: none;\n",
              "      fill: #1967D2;\n",
              "      height: 32px;\n",
              "      padding: 0 0 0 0;\n",
              "      width: 32px;\n",
              "    }\n",
              "\n",
              "    .colab-df-convert:hover {\n",
              "      background-color: #E2EBFA;\n",
              "      box-shadow: 0px 1px 2px rgba(60, 64, 67, 0.3), 0px 1px 3px 1px rgba(60, 64, 67, 0.15);\n",
              "      fill: #174EA6;\n",
              "    }\n",
              "\n",
              "    [theme=dark] .colab-df-convert {\n",
              "      background-color: #3B4455;\n",
              "      fill: #D2E3FC;\n",
              "    }\n",
              "\n",
              "    [theme=dark] .colab-df-convert:hover {\n",
              "      background-color: #434B5C;\n",
              "      box-shadow: 0px 1px 3px 1px rgba(0, 0, 0, 0.15);\n",
              "      filter: drop-shadow(0px 1px 2px rgba(0, 0, 0, 0.3));\n",
              "      fill: #FFFFFF;\n",
              "    }\n",
              "  </style>\n",
              "\n",
              "      <script>\n",
              "        const buttonEl =\n",
              "          document.querySelector('#df-f000b6a6-febd-4f59-906b-be96530fbef4 button.colab-df-convert');\n",
              "        buttonEl.style.display =\n",
              "          google.colab.kernel.accessAllowed ? 'block' : 'none';\n",
              "\n",
              "        async function convertToInteractive(key) {\n",
              "          const element = document.querySelector('#df-f000b6a6-febd-4f59-906b-be96530fbef4');\n",
              "          const dataTable =\n",
              "            await google.colab.kernel.invokeFunction('convertToInteractive',\n",
              "                                                     [key], {});\n",
              "          if (!dataTable) return;\n",
              "\n",
              "          const docLinkHtml = 'Like what you see? Visit the ' +\n",
              "            '<a target=\"_blank\" href=https://colab.research.google.com/notebooks/data_table.ipynb>data table notebook</a>'\n",
              "            + ' to learn more about interactive tables.';\n",
              "          element.innerHTML = '';\n",
              "          dataTable['output_type'] = 'display_data';\n",
              "          await google.colab.output.renderOutput(dataTable, element);\n",
              "          const docLink = document.createElement('div');\n",
              "          docLink.innerHTML = docLinkHtml;\n",
              "          element.appendChild(docLink);\n",
              "        }\n",
              "      </script>\n",
              "    </div>\n",
              "  </div>\n",
              "  "
            ]
          },
          "metadata": {},
          "execution_count": 65
        }
      ]
    },
    {
      "cell_type": "markdown",
      "source": [],
      "metadata": {
        "id": "_t1itiYFgBPK"
      },
      "id": "_t1itiYFgBPK"
    },
    {
      "cell_type": "code",
      "source": [
        "from sklearn.manifold import TSNE\n",
        "from sklearn.preprocessing import StandardScaler"
      ],
      "metadata": {
        "id": "S3QFGAOvlXRE"
      },
      "id": "S3QFGAOvlXRE",
      "execution_count": 66,
      "outputs": []
    },
    {
      "cell_type": "code",
      "source": [
        "# преобразуем все признаки в числовые, выкинув штаты\n",
        "X = df.drop(df.columns.difference(['age','day', 'year', 'month', 'quarter']), 1, inplace=True)\n",
        "\n",
        "# X[\"armed\"] = X[\"armed\"].map({\"Yes\": 1, \"No\": 0})\n",
        "# X[\"Voice mail plan\"] = X[\"Voice mail plan\"].map({\"Yes\": 1, \"No\": 0})\n",
        "\n",
        "scaler = StandardScaler()\n",
        "X_scaled = scaler.fit_transform(X)"
      ],
      "metadata": {
        "colab": {
          "base_uri": "https://localhost:8080/",
          "height": 392
        },
        "id": "BvFnb3M2lXga",
        "outputId": "5ae61d1f-674e-40f1-de6d-df5699e5dae8"
      },
      "id": "BvFnb3M2lXga",
      "execution_count": 67,
      "outputs": [
        {
          "output_type": "error",
          "ename": "ValueError",
          "evalue": "ignored",
          "traceback": [
            "\u001b[0;31m---------------------------------------------------------------------------\u001b[0m",
            "\u001b[0;31mValueError\u001b[0m                                Traceback (most recent call last)",
            "\u001b[0;32m<ipython-input-67-08eed1ea9a49>\u001b[0m in \u001b[0;36m<module>\u001b[0;34m\u001b[0m\n\u001b[1;32m      6\u001b[0m \u001b[0;34m\u001b[0m\u001b[0m\n\u001b[1;32m      7\u001b[0m \u001b[0mscaler\u001b[0m \u001b[0;34m=\u001b[0m \u001b[0mStandardScaler\u001b[0m\u001b[0;34m(\u001b[0m\u001b[0;34m)\u001b[0m\u001b[0;34m\u001b[0m\u001b[0;34m\u001b[0m\u001b[0m\n\u001b[0;32m----> 8\u001b[0;31m \u001b[0mX_scaled\u001b[0m \u001b[0;34m=\u001b[0m \u001b[0mscaler\u001b[0m\u001b[0;34m.\u001b[0m\u001b[0mfit_transform\u001b[0m\u001b[0;34m(\u001b[0m\u001b[0mX\u001b[0m\u001b[0;34m)\u001b[0m\u001b[0;34m\u001b[0m\u001b[0;34m\u001b[0m\u001b[0m\n\u001b[0m",
            "\u001b[0;32m/usr/local/lib/python3.8/dist-packages/sklearn/base.py\u001b[0m in \u001b[0;36mfit_transform\u001b[0;34m(self, X, y, **fit_params)\u001b[0m\n\u001b[1;32m    850\u001b[0m         \u001b[0;32mif\u001b[0m \u001b[0my\u001b[0m \u001b[0;32mis\u001b[0m \u001b[0;32mNone\u001b[0m\u001b[0;34m:\u001b[0m\u001b[0;34m\u001b[0m\u001b[0;34m\u001b[0m\u001b[0m\n\u001b[1;32m    851\u001b[0m             \u001b[0;31m# fit method of arity 1 (unsupervised transformation)\u001b[0m\u001b[0;34m\u001b[0m\u001b[0;34m\u001b[0m\u001b[0;34m\u001b[0m\u001b[0m\n\u001b[0;32m--> 852\u001b[0;31m             \u001b[0;32mreturn\u001b[0m \u001b[0mself\u001b[0m\u001b[0;34m.\u001b[0m\u001b[0mfit\u001b[0m\u001b[0;34m(\u001b[0m\u001b[0mX\u001b[0m\u001b[0;34m,\u001b[0m \u001b[0;34m**\u001b[0m\u001b[0mfit_params\u001b[0m\u001b[0;34m)\u001b[0m\u001b[0;34m.\u001b[0m\u001b[0mtransform\u001b[0m\u001b[0;34m(\u001b[0m\u001b[0mX\u001b[0m\u001b[0;34m)\u001b[0m\u001b[0;34m\u001b[0m\u001b[0;34m\u001b[0m\u001b[0m\n\u001b[0m\u001b[1;32m    853\u001b[0m         \u001b[0;32melse\u001b[0m\u001b[0;34m:\u001b[0m\u001b[0;34m\u001b[0m\u001b[0;34m\u001b[0m\u001b[0m\n\u001b[1;32m    854\u001b[0m             \u001b[0;31m# fit method of arity 2 (supervised transformation)\u001b[0m\u001b[0;34m\u001b[0m\u001b[0;34m\u001b[0m\u001b[0;34m\u001b[0m\u001b[0m\n",
            "\u001b[0;32m/usr/local/lib/python3.8/dist-packages/sklearn/preprocessing/_data.py\u001b[0m in \u001b[0;36mfit\u001b[0;34m(self, X, y, sample_weight)\u001b[0m\n\u001b[1;32m    804\u001b[0m         \u001b[0;31m# Reset internal state before fitting\u001b[0m\u001b[0;34m\u001b[0m\u001b[0;34m\u001b[0m\u001b[0;34m\u001b[0m\u001b[0m\n\u001b[1;32m    805\u001b[0m         \u001b[0mself\u001b[0m\u001b[0;34m.\u001b[0m\u001b[0m_reset\u001b[0m\u001b[0;34m(\u001b[0m\u001b[0;34m)\u001b[0m\u001b[0;34m\u001b[0m\u001b[0;34m\u001b[0m\u001b[0m\n\u001b[0;32m--> 806\u001b[0;31m         \u001b[0;32mreturn\u001b[0m \u001b[0mself\u001b[0m\u001b[0;34m.\u001b[0m\u001b[0mpartial_fit\u001b[0m\u001b[0;34m(\u001b[0m\u001b[0mX\u001b[0m\u001b[0;34m,\u001b[0m \u001b[0my\u001b[0m\u001b[0;34m,\u001b[0m \u001b[0msample_weight\u001b[0m\u001b[0;34m)\u001b[0m\u001b[0;34m\u001b[0m\u001b[0;34m\u001b[0m\u001b[0m\n\u001b[0m\u001b[1;32m    807\u001b[0m \u001b[0;34m\u001b[0m\u001b[0m\n\u001b[1;32m    808\u001b[0m     \u001b[0;32mdef\u001b[0m \u001b[0mpartial_fit\u001b[0m\u001b[0;34m(\u001b[0m\u001b[0mself\u001b[0m\u001b[0;34m,\u001b[0m \u001b[0mX\u001b[0m\u001b[0;34m,\u001b[0m \u001b[0my\u001b[0m\u001b[0;34m=\u001b[0m\u001b[0;32mNone\u001b[0m\u001b[0;34m,\u001b[0m \u001b[0msample_weight\u001b[0m\u001b[0;34m=\u001b[0m\u001b[0;32mNone\u001b[0m\u001b[0;34m)\u001b[0m\u001b[0;34m:\u001b[0m\u001b[0;34m\u001b[0m\u001b[0;34m\u001b[0m\u001b[0m\n",
            "\u001b[0;32m/usr/local/lib/python3.8/dist-packages/sklearn/preprocessing/_data.py\u001b[0m in \u001b[0;36mpartial_fit\u001b[0;34m(self, X, y, sample_weight)\u001b[0m\n\u001b[1;32m    839\u001b[0m         \"\"\"\n\u001b[1;32m    840\u001b[0m         \u001b[0mfirst_call\u001b[0m \u001b[0;34m=\u001b[0m \u001b[0;32mnot\u001b[0m \u001b[0mhasattr\u001b[0m\u001b[0;34m(\u001b[0m\u001b[0mself\u001b[0m\u001b[0;34m,\u001b[0m \u001b[0;34m\"n_samples_seen_\"\u001b[0m\u001b[0;34m)\u001b[0m\u001b[0;34m\u001b[0m\u001b[0;34m\u001b[0m\u001b[0m\n\u001b[0;32m--> 841\u001b[0;31m         X = self._validate_data(\n\u001b[0m\u001b[1;32m    842\u001b[0m             \u001b[0mX\u001b[0m\u001b[0;34m,\u001b[0m\u001b[0;34m\u001b[0m\u001b[0;34m\u001b[0m\u001b[0m\n\u001b[1;32m    843\u001b[0m             \u001b[0maccept_sparse\u001b[0m\u001b[0;34m=\u001b[0m\u001b[0;34m(\u001b[0m\u001b[0;34m\"csr\"\u001b[0m\u001b[0;34m,\u001b[0m \u001b[0;34m\"csc\"\u001b[0m\u001b[0;34m)\u001b[0m\u001b[0;34m,\u001b[0m\u001b[0;34m\u001b[0m\u001b[0;34m\u001b[0m\u001b[0m\n",
            "\u001b[0;32m/usr/local/lib/python3.8/dist-packages/sklearn/base.py\u001b[0m in \u001b[0;36m_validate_data\u001b[0;34m(self, X, y, reset, validate_separately, **check_params)\u001b[0m\n\u001b[1;32m    564\u001b[0m             \u001b[0;32mraise\u001b[0m \u001b[0mValueError\u001b[0m\u001b[0;34m(\u001b[0m\u001b[0;34m\"Validation should be done on X, y or both.\"\u001b[0m\u001b[0;34m)\u001b[0m\u001b[0;34m\u001b[0m\u001b[0;34m\u001b[0m\u001b[0m\n\u001b[1;32m    565\u001b[0m         \u001b[0;32melif\u001b[0m \u001b[0;32mnot\u001b[0m \u001b[0mno_val_X\u001b[0m \u001b[0;32mand\u001b[0m \u001b[0mno_val_y\u001b[0m\u001b[0;34m:\u001b[0m\u001b[0;34m\u001b[0m\u001b[0;34m\u001b[0m\u001b[0m\n\u001b[0;32m--> 566\u001b[0;31m             \u001b[0mX\u001b[0m \u001b[0;34m=\u001b[0m \u001b[0mcheck_array\u001b[0m\u001b[0;34m(\u001b[0m\u001b[0mX\u001b[0m\u001b[0;34m,\u001b[0m \u001b[0;34m**\u001b[0m\u001b[0mcheck_params\u001b[0m\u001b[0;34m)\u001b[0m\u001b[0;34m\u001b[0m\u001b[0;34m\u001b[0m\u001b[0m\n\u001b[0m\u001b[1;32m    567\u001b[0m             \u001b[0mout\u001b[0m \u001b[0;34m=\u001b[0m \u001b[0mX\u001b[0m\u001b[0;34m\u001b[0m\u001b[0;34m\u001b[0m\u001b[0m\n\u001b[1;32m    568\u001b[0m         \u001b[0;32melif\u001b[0m \u001b[0mno_val_X\u001b[0m \u001b[0;32mand\u001b[0m \u001b[0;32mnot\u001b[0m \u001b[0mno_val_y\u001b[0m\u001b[0;34m:\u001b[0m\u001b[0;34m\u001b[0m\u001b[0;34m\u001b[0m\u001b[0m\n",
            "\u001b[0;32m/usr/local/lib/python3.8/dist-packages/sklearn/utils/validation.py\u001b[0m in \u001b[0;36mcheck_array\u001b[0;34m(array, accept_sparse, accept_large_sparse, dtype, order, copy, force_all_finite, ensure_2d, allow_nd, ensure_min_samples, ensure_min_features, estimator)\u001b[0m\n\u001b[1;32m    759\u001b[0m             \u001b[0;31m# If input is scalar raise error\u001b[0m\u001b[0;34m\u001b[0m\u001b[0;34m\u001b[0m\u001b[0;34m\u001b[0m\u001b[0m\n\u001b[1;32m    760\u001b[0m             \u001b[0;32mif\u001b[0m \u001b[0marray\u001b[0m\u001b[0;34m.\u001b[0m\u001b[0mndim\u001b[0m \u001b[0;34m==\u001b[0m \u001b[0;36m0\u001b[0m\u001b[0;34m:\u001b[0m\u001b[0;34m\u001b[0m\u001b[0;34m\u001b[0m\u001b[0m\n\u001b[0;32m--> 761\u001b[0;31m                 raise ValueError(\n\u001b[0m\u001b[1;32m    762\u001b[0m                     \u001b[0;34m\"Expected 2D array, got scalar array instead:\\narray={}.\\n\"\u001b[0m\u001b[0;34m\u001b[0m\u001b[0;34m\u001b[0m\u001b[0m\n\u001b[1;32m    763\u001b[0m                     \u001b[0;34m\"Reshape your data either using array.reshape(-1, 1) if \"\u001b[0m\u001b[0;34m\u001b[0m\u001b[0;34m\u001b[0m\u001b[0m\n",
            "\u001b[0;31mValueError\u001b[0m: Expected 2D array, got scalar array instead:\narray=nan.\nReshape your data either using array.reshape(-1, 1) if your data has a single feature or array.reshape(1, -1) if it contains a single sample."
          ]
        }
      ]
    },
    {
      "cell_type": "code",
      "source": [],
      "metadata": {
        "id": "I_bv3jK1mIoE"
      },
      "id": "I_bv3jK1mIoE",
      "execution_count": null,
      "outputs": []
    }
  ],
  "metadata": {
    "kernelspec": {
      "display_name": "Python 3 (ipykernel)",
      "language": "python",
      "name": "python3"
    },
    "language_info": {
      "codemirror_mode": {
        "name": "ipython",
        "version": 3
      },
      "file_extension": ".py",
      "mimetype": "text/x-python",
      "name": "python",
      "nbconvert_exporter": "python",
      "pygments_lexer": "ipython3",
      "version": "3.8.10"
    },
    "toc": {
      "base_numbering": 1,
      "nav_menu": {},
      "number_sections": true,
      "sideBar": true,
      "skip_h1_title": false,
      "title_cell": "Table of Contents",
      "title_sidebar": "Contents",
      "toc_cell": false,
      "toc_position": {},
      "toc_section_display": true,
      "toc_window_display": true
    },
    "colab": {
      "provenance": [],
      "include_colab_link": true
    }
  },
  "nbformat": 4,
  "nbformat_minor": 5
}